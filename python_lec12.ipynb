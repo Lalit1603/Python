{
 "cells": [
  {
   "cell_type": "code",
   "execution_count": 2,
   "id": "67a284f4",
   "metadata": {},
   "outputs": [],
   "source": [
    "import requests\n",
    "from bs4 import BeautifulSoup\n",
    "from urllib.request import urlopen as uReq\n",
    "import os"
   ]
  },
  {
   "cell_type": "code",
   "execution_count": 3,
   "id": "cb0a2fb7",
   "metadata": {},
   "outputs": [],
   "source": [
    "save_dir=\"images/\"\n",
    "if not os.path.exists(save_dir):\n",
    "    os.makedirs(save_dir)"
   ]
  },
  {
   "cell_type": "code",
   "execution_count": 4,
   "id": "34506c93",
   "metadata": {},
   "outputs": [],
   "source": [
    "query=\"narendra modi\"\n",
    "response=requests.get(f\"https://www.google.com/search?q={query}&sca_esv=599976550&hl=en&tbm=isch&sxsrf=ACQVn08SzBR31XtmOy2qmbj87z_yyxD0gA%3A1705719423797&source=hp&biw=1536&bih=695&ei=fzarZdfBLo2I9u8PvuGy6Aw&iflsig=ANes7DEAAAAAZatEj-BnNt9TlwrNXjQo5QFZbgoPi9rz&oq=&gs_lp=EgNpbWciACoCCAAyBxAjGOoCGCcyBxAjGOoCGCcyBxAjGOoCGCcyBxAjGOoCGCcyBxAjGOoCGCcyBxAjGOoCGCcyBxAjGOoCGCcyBxAjGOoCGCcyBxAjGOoCGCcyBxAjGOoCGCdIgxRQAFgAcAF4AJABAJgBAKABAKoBALgBAcgBAIoCC2d3cy13aXotaW1nqAIK&sclient=img\")\n"
   ]
  },
  {
   "cell_type": "code",
   "execution_count": 5,
   "id": "8fe656a8",
   "metadata": {},
   "outputs": [
    {
     "data": {
      "text/plain": [
       "<Response [200]>"
      ]
     },
     "execution_count": 5,
     "metadata": {},
     "output_type": "execute_result"
    }
   ],
   "source": [
    "response"
   ]
  },
  {
   "cell_type": "code",
   "execution_count": 6,
   "id": "849e3362",
   "metadata": {},
   "outputs": [],
   "source": [
    "soup=BeautifulSoup(response.content,'html.parser')"
   ]
  },
  {
   "cell_type": "code",
   "execution_count": 27,
   "id": "b6268209",
   "metadata": {},
   "outputs": [],
   "source": [
    "#soup"
   ]
  },
  {
   "cell_type": "code",
   "execution_count": 7,
   "id": "a4aa1d61",
   "metadata": {},
   "outputs": [],
   "source": [
    "images_tages=soup.find_all(\"img\")"
   ]
  },
  {
   "cell_type": "code",
   "execution_count": 8,
   "id": "ac26d4c1",
   "metadata": {
    "scrolled": true
   },
   "outputs": [
    {
     "data": {
      "text/plain": [
       "19"
      ]
     },
     "execution_count": 8,
     "metadata": {},
     "output_type": "execute_result"
    }
   ],
   "source": [
    "len(images_tages)"
   ]
  },
  {
   "cell_type": "code",
   "execution_count": 9,
   "id": "ec5d24cb",
   "metadata": {},
   "outputs": [],
   "source": [
    "del images_tages[0]"
   ]
  },
  {
   "cell_type": "code",
   "execution_count": 10,
   "id": "c6d19111",
   "metadata": {},
   "outputs": [
    {
     "data": {
      "text/plain": [
       "[<img alt=\"\" class=\"DS1iW\" src=\"https://encrypted-tbn0.gstatic.com/images?q=tbn:ANd9GcTw7G48FnLNCO2gGjMABD7W_0PPI2v9HQts8jXdtqEomxahKG15PaUEOEo2H3U&amp;s\"/>,\n",
       " <img alt=\"\" class=\"DS1iW\" src=\"https://encrypted-tbn0.gstatic.com/images?q=tbn:ANd9GcQLecHm1GajbRfth5Xwby04uePGMAFFPOtiMD1TC5bAVv1pHgNayixGLDjfJwc&amp;s\"/>,\n",
       " <img alt=\"\" class=\"DS1iW\" src=\"https://encrypted-tbn0.gstatic.com/images?q=tbn:ANd9GcRya6-sfVYRN5OXXFh9_kusvohcI3hdQDUtogbqHxuzTK6q-UBCWUkM4fMPLc8&amp;s\"/>,\n",
       " <img alt=\"\" class=\"DS1iW\" src=\"https://encrypted-tbn0.gstatic.com/images?q=tbn:ANd9GcTbsfkRqasCGFX3zIum505du6AL3EQxagFAUf98oKv9sAALvhPTKgjq4TuN4g&amp;s\"/>,\n",
       " <img alt=\"\" class=\"DS1iW\" src=\"https://encrypted-tbn0.gstatic.com/images?q=tbn:ANd9GcQbICAWqGLhLnTAsvbMR_h3LwEM86EQNbBEoNE7E7UVwZYPc9_lsKPXLeP5QQ&amp;s\"/>,\n",
       " <img alt=\"\" class=\"DS1iW\" src=\"https://encrypted-tbn0.gstatic.com/images?q=tbn:ANd9GcTvsVxGdzOxx9q0xe3xuHV-Z80qgnli5wRp1hjrdxueqHjyjs0a4PLp5dB0__I&amp;s\"/>,\n",
       " <img alt=\"\" class=\"DS1iW\" src=\"https://encrypted-tbn0.gstatic.com/images?q=tbn:ANd9GcTnMADzSQVBcLVD6aZR5gg8MhNeuD8lDEGq70utWgoF4Ma5l7LVGksYZpYc9AQ&amp;s\"/>,\n",
       " <img alt=\"\" class=\"DS1iW\" src=\"https://encrypted-tbn0.gstatic.com/images?q=tbn:ANd9GcR1MImQcZTl2vEvi02U6sv-s4YNHnj-1EJPYaRHmLLZhust6l62M_tfKY7q7D4&amp;s\"/>,\n",
       " <img alt=\"\" class=\"DS1iW\" src=\"https://encrypted-tbn0.gstatic.com/images?q=tbn:ANd9GcSMco5Kp1ECR9Gn_3LPGb9D8dMP5jNQDq09jxog3CxXmYrQJ_gF0jEOdJSAdQ&amp;s\"/>,\n",
       " <img alt=\"\" class=\"DS1iW\" src=\"https://encrypted-tbn0.gstatic.com/images?q=tbn:ANd9GcSNUXeGpa7_ggJZpt66tB7idqe2_eLXhADuTxGT4c6kWqAaef7kRHhBk_Jrog&amp;s\"/>,\n",
       " <img alt=\"\" class=\"DS1iW\" src=\"https://encrypted-tbn0.gstatic.com/images?q=tbn:ANd9GcTBSwvSwKBlRUAZkr67W5xPjJZdtX_JFgPraEBWMDlX0ssY_VPVyjrwN7DkRA&amp;s\"/>,\n",
       " <img alt=\"\" class=\"DS1iW\" src=\"https://encrypted-tbn0.gstatic.com/images?q=tbn:ANd9GcSRA6dntcr6CwnrXVLEYHx41q5Z2b-7theylNw8Dp5V6St1zSW6zQPSKKooYPI&amp;s\"/>,\n",
       " <img alt=\"\" class=\"DS1iW\" src=\"https://encrypted-tbn0.gstatic.com/images?q=tbn:ANd9GcQsocfKOGn_7NelZU7fcuZstPGCK9XTHMHqfCj8RBKh2Hljc5MAWkZF5bu0Fbc&amp;s\"/>,\n",
       " <img alt=\"\" class=\"DS1iW\" src=\"https://encrypted-tbn0.gstatic.com/images?q=tbn:ANd9GcRuSom3tU-G3wX6VYdnz51qxFTHuyY8k2c4L9tERQ3PJLHIa1YS_O3FTAj87Q&amp;s\"/>,\n",
       " <img alt=\"\" class=\"DS1iW\" src=\"https://encrypted-tbn0.gstatic.com/images?q=tbn:ANd9GcTmZjjlNtc_-fY-JRGuFWiU_QHIwDg8I8TmhZT2B-uRw9EuxdLdnt3nTrGoKA&amp;s\"/>,\n",
       " <img alt=\"\" class=\"DS1iW\" src=\"https://encrypted-tbn0.gstatic.com/images?q=tbn:ANd9GcQL5nSlEs6LNEnY_VWAI329T-lbJu323ztWQfhELF2D5UCU1Udq01AF7_BPqw&amp;s\"/>,\n",
       " <img alt=\"\" class=\"DS1iW\" src=\"https://encrypted-tbn0.gstatic.com/images?q=tbn:ANd9GcTOMbKzPnKpaLCHrpht1TZIjdcrlCCJhrY8bmXUPuwW0Ai6fMSmQ2xggyRymAI&amp;s\"/>,\n",
       " <img alt=\"\" class=\"DS1iW\" src=\"https://encrypted-tbn0.gstatic.com/images?q=tbn:ANd9GcSae8BSQxliATNPGCwQrQJKhlqjVZbFrP2D6yEfMMqyPPi7RvL0p2awsH_C7ck&amp;s\"/>]"
      ]
     },
     "execution_count": 10,
     "metadata": {},
     "output_type": "execute_result"
    }
   ],
   "source": [
    "images_tages"
   ]
  },
  {
   "cell_type": "code",
   "execution_count": 11,
   "id": "bdd50486",
   "metadata": {},
   "outputs": [],
   "source": [
    "for i in images_tages:\n",
    "    images_url =i['src']\n",
    "    image_data=requests.get(images_url).content\n",
    "    with open(os.path.join(save_dir,f\"{query}_{images_tages.index(i)}.jpg\"),\"wb\") as f:\n",
    "        f.write(image_data)\n",
    "    "
   ]
  },
  {
   "cell_type": "code",
   "execution_count": null,
   "id": "329edb23",
   "metadata": {},
   "outputs": [],
   "source": []
  },
  {
   "cell_type": "code",
   "execution_count": null,
   "id": "ba69000e",
   "metadata": {},
   "outputs": [],
   "source": []
  },
  {
   "cell_type": "code",
   "execution_count": null,
   "id": "d4cf49eb",
   "metadata": {},
   "outputs": [],
   "source": []
  },
  {
   "cell_type": "code",
   "execution_count": 13,
   "id": "e80a1266",
   "metadata": {},
   "outputs": [],
   "source": [
    "#images_tages[1]['src']"
   ]
  },
  {
   "cell_type": "code",
   "execution_count": 12,
   "id": "ac24c00a",
   "metadata": {},
   "outputs": [],
   "source": [
    "#requests.get(images_tages[1]['src']).content"
   ]
  },
  {
   "cell_type": "code",
   "execution_count": null,
   "id": "f9470130",
   "metadata": {},
   "outputs": [],
   "source": []
  },
  {
   "cell_type": "code",
   "execution_count": null,
   "id": "d2430c28",
   "metadata": {},
   "outputs": [],
   "source": []
  },
  {
   "cell_type": "code",
   "execution_count": null,
   "id": "7590bde5",
   "metadata": {},
   "outputs": [],
   "source": []
  },
  {
   "cell_type": "code",
   "execution_count": 14,
   "id": "7658beb1",
   "metadata": {},
   "outputs": [],
   "source": [
    "import requests \n",
    "from bs4 import BeautifulSoup\n",
    "from urllib.request import urlopen as uReq\n",
    "import os"
   ]
  },
  {
   "cell_type": "code",
   "execution_count": 15,
   "id": "2e471f5f",
   "metadata": {},
   "outputs": [],
   "source": [
    "save_dir = \"images_01/\"\n",
    "if not os.path.exists(save_dir):\n",
    "    os.makedirs(save_dir)"
   ]
  },
  {
   "cell_type": "code",
   "execution_count": 35,
   "id": "1a931f77",
   "metadata": {},
   "outputs": [],
   "source": [
    "query = \" ram mandir \"\n",
    "responce =requests.get(f\"https://www.google.com/search?q={query}&sca_esv=599976550&hl=en&tbm=isch&sxsrf=ACQVn08SzBR31XtmOy2qmbj87z_yyxD0gA%3A1705719423797&source=hp&biw=1536&bih=695&ei=fzarZdfBLo2I9u8PvuGy6Aw&iflsig=ANes7DEAAAAAZatEj-BnNt9TlwrNXjQo5QFZbgoPi9rz&oq=&gs_lp=EgNpbWciACoCCAAyBxAjGOoCGCcyBxAjGOoCGCcyBxAjGOoCGCcyBxAjGOoCGCcyBxAjGOoCGCcyBxAjGOoCGCcyBxAjGOoCGCcyBxAjGOoCGCcyBxAjGOoCGCcyBxAjGOoCGCdIgxRQAFgAcAF4AJABAJgBAKABAKoBALgBAcgBAIoCC2d3cy13aXotaW1nqAIK&sclient=img\")"
   ]
  },
  {
   "cell_type": "code",
   "execution_count": 36,
   "id": "1a109152",
   "metadata": {},
   "outputs": [
    {
     "data": {
      "text/plain": [
       "<Response [200]>"
      ]
     },
     "execution_count": 36,
     "metadata": {},
     "output_type": "execute_result"
    }
   ],
   "source": [
    "responce"
   ]
  },
  {
   "cell_type": "code",
   "execution_count": 37,
   "id": "d97dcb1f",
   "metadata": {},
   "outputs": [],
   "source": [
    "soup = BeautifulSoup(responce.content,'html.parser')"
   ]
  },
  {
   "cell_type": "code",
   "execution_count": null,
   "id": "83927e6c",
   "metadata": {},
   "outputs": [],
   "source": [
    "images_tages = soup.find_all(\"img\")"
   ]
  },
  {
   "cell_type": "code",
   "execution_count": 32,
   "id": "4b312ca8",
   "metadata": {},
   "outputs": [
    {
     "data": {
      "text/plain": [
       "21"
      ]
     },
     "execution_count": 32,
     "metadata": {},
     "output_type": "execute_result"
    }
   ],
   "source": [
    "len(images_tages)"
   ]
  },
  {
   "cell_type": "code",
   "execution_count": 33,
   "id": "e8c02c38",
   "metadata": {},
   "outputs": [],
   "source": [
    "del images_tages[0]"
   ]
  },
  {
   "cell_type": "code",
   "execution_count": 34,
   "id": "d5dd4279",
   "metadata": {},
   "outputs": [],
   "source": [
    "for i in images_tages:\n",
    "    images_url =i['src']\n",
    "    image_data=requests.get(images_url).content\n",
    "    with open(os.path.join(save_dir,f\"{query}_{images_tages.index(i)}.jpg\"),\"wb\") as f:\n",
    "        f.write(image_data)"
   ]
  },
  {
   "cell_type": "code",
   "execution_count": null,
   "id": "63d0fbdf",
   "metadata": {},
   "outputs": [],
   "source": []
  },
  {
   "cell_type": "code",
   "execution_count": null,
   "id": "d2868db7",
   "metadata": {},
   "outputs": [],
   "source": []
  },
  {
   "cell_type": "code",
   "execution_count": null,
   "id": "c00609f3",
   "metadata": {},
   "outputs": [],
   "source": []
  },
  {
   "cell_type": "code",
   "execution_count": null,
   "id": "ff317998",
   "metadata": {},
   "outputs": [],
   "source": []
  },
  {
   "cell_type": "code",
   "execution_count": null,
   "id": "ed7502a6",
   "metadata": {},
   "outputs": [],
   "source": []
  }
 ],
 "metadata": {
  "kernelspec": {
   "display_name": "Python 3 (ipykernel)",
   "language": "python",
   "name": "python3"
  },
  "language_info": {
   "codemirror_mode": {
    "name": "ipython",
    "version": 3
   },
   "file_extension": ".py",
   "mimetype": "text/x-python",
   "name": "python",
   "nbconvert_exporter": "python",
   "pygments_lexer": "ipython3",
   "version": "3.11.5"
  }
 },
 "nbformat": 4,
 "nbformat_minor": 5
}
