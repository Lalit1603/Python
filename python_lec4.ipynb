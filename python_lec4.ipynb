{
 "cells": [
  {
   "cell_type": "code",
   "execution_count": 1,
   "id": "60b0f477",
   "metadata": {},
   "outputs": [],
   "source": [
    "def test():\n",
    "    print(\"test\")\n",
    "#print gives the nonetype "
   ]
  },
  {
   "cell_type": "code",
   "execution_count": 17,
   "id": "a3d6dffd",
   "metadata": {},
   "outputs": [
    {
     "name": "stdout",
     "output_type": "stream",
     "text": [
      "test\n"
     ]
    },
    {
     "ename": "TypeError",
     "evalue": "unsupported operand type(s) for +: 'NoneType' and 'str'",
     "output_type": "error",
     "traceback": [
      "\u001b[1;31m---------------------------------------------------------------------------\u001b[0m",
      "\u001b[1;31mTypeError\u001b[0m                                 Traceback (most recent call last)",
      "Cell \u001b[1;32mIn[17], line 1\u001b[0m\n\u001b[1;32m----> 1\u001b[0m test()\u001b[38;5;241m+\u001b[39m\u001b[38;5;124m\"\u001b[39m\u001b[38;5;124mlalit\u001b[39m\u001b[38;5;124m\"\u001b[39m\n",
      "\u001b[1;31mTypeError\u001b[0m: unsupported operand type(s) for +: 'NoneType' and 'str'"
     ]
    }
   ],
   "source": [
    "test()+\"lalit\""
   ]
  },
  {
   "cell_type": "code",
   "execution_count": 18,
   "id": "687bac23",
   "metadata": {},
   "outputs": [
    {
     "name": "stdout",
     "output_type": "stream",
     "text": [
      "test\n"
     ]
    },
    {
     "ename": "TypeError",
     "evalue": "unsupported operand type(s) for +: 'NoneType' and 'int'",
     "output_type": "error",
     "traceback": [
      "\u001b[1;31m---------------------------------------------------------------------------\u001b[0m",
      "\u001b[1;31mTypeError\u001b[0m                                 Traceback (most recent call last)",
      "Cell \u001b[1;32mIn[18], line 1\u001b[0m\n\u001b[1;32m----> 1\u001b[0m test()\u001b[38;5;241m+\u001b[39m\u001b[38;5;241m1\u001b[39m\n",
      "\u001b[1;31mTypeError\u001b[0m: unsupported operand type(s) for +: 'NoneType' and 'int'"
     ]
    }
   ],
   "source": [
    "test()+1"
   ]
  },
  {
   "cell_type": "code",
   "execution_count": 24,
   "id": "7a50d716",
   "metadata": {},
   "outputs": [
    {
     "name": "stdout",
     "output_type": "stream",
     "text": [
      "test\n",
      "test\n"
     ]
    },
    {
     "data": {
      "text/plain": [
       "(None, NoneType)"
      ]
     },
     "execution_count": 24,
     "metadata": {},
     "output_type": "execute_result"
    }
   ],
   "source": [
    "test(),type(test())"
   ]
  },
  {
   "cell_type": "code",
   "execution_count": 3,
   "id": "0b4fdaf9",
   "metadata": {},
   "outputs": [
    {
     "name": "stdout",
     "output_type": "stream",
     "text": [
      "test1\n"
     ]
    }
   ],
   "source": [
    "def test1():\n",
    "    print(\"test1\")\n",
    "test1()"
   ]
  },
  {
   "cell_type": "code",
   "execution_count": 4,
   "id": "7c52c6b0",
   "metadata": {},
   "outputs": [
    {
     "name": "stdout",
     "output_type": "stream",
     "text": [
      "test\n",
      "test1\n"
     ]
    },
    {
     "ename": "TypeError",
     "evalue": "unsupported operand type(s) for +: 'NoneType' and 'NoneType'",
     "output_type": "error",
     "traceback": [
      "\u001b[1;31m---------------------------------------------------------------------------\u001b[0m",
      "\u001b[1;31mTypeError\u001b[0m                                 Traceback (most recent call last)",
      "Cell \u001b[1;32mIn[4], line 1\u001b[0m\n\u001b[1;32m----> 1\u001b[0m test()\u001b[38;5;241m+\u001b[39mtest1()\n",
      "\u001b[1;31mTypeError\u001b[0m: unsupported operand type(s) for +: 'NoneType' and 'NoneType'"
     ]
    }
   ],
   "source": [
    "test()+test1()"
   ]
  },
  {
   "cell_type": "code",
   "execution_count": 5,
   "id": "60317d74",
   "metadata": {},
   "outputs": [
    {
     "data": {
      "text/plain": [
       "13"
      ]
     },
     "execution_count": 5,
     "metadata": {},
     "output_type": "execute_result"
    }
   ],
   "source": [
    "def test3():\n",
    "    return 1+2\n",
    "test3()+10"
   ]
  },
  {
   "cell_type": "code",
   "execution_count": 6,
   "id": "da341614",
   "metadata": {},
   "outputs": [
    {
     "data": {
      "text/plain": [
       "function"
      ]
     },
     "execution_count": 6,
     "metadata": {},
     "output_type": "execute_result"
    }
   ],
   "source": [
    "type(test3)"
   ]
  },
  {
   "cell_type": "code",
   "execution_count": 7,
   "id": "cb2fc9f4",
   "metadata": {},
   "outputs": [
    {
     "data": {
      "text/plain": [
       "int"
      ]
     },
     "execution_count": 7,
     "metadata": {},
     "output_type": "execute_result"
    }
   ],
   "source": [
    "type(test3())"
   ]
  },
  {
   "cell_type": "code",
   "execution_count": 8,
   "id": "3b7afdab",
   "metadata": {},
   "outputs": [],
   "source": [
    "def test4():\n",
    "    return 2,\"lalit\",True,[1,2,4]"
   ]
  },
  {
   "cell_type": "code",
   "execution_count": 9,
   "id": "ca4f030e",
   "metadata": {},
   "outputs": [
    {
     "data": {
      "text/plain": [
       "(2, 'lalit', True, [1, 2, 4])"
      ]
     },
     "execution_count": 9,
     "metadata": {},
     "output_type": "execute_result"
    }
   ],
   "source": [
    "test4()"
   ]
  },
  {
   "cell_type": "code",
   "execution_count": 10,
   "id": "e13b0b35",
   "metadata": {},
   "outputs": [
    {
     "data": {
      "text/plain": [
       "tuple"
      ]
     },
     "execution_count": 10,
     "metadata": {},
     "output_type": "execute_result"
    }
   ],
   "source": [
    "type(test4())"
   ]
  },
  {
   "cell_type": "code",
   "execution_count": 11,
   "id": "ca6ea705",
   "metadata": {},
   "outputs": [],
   "source": [
    "#in function there are multiple outcome it give a tuple \n",
    "#when function having a single entity it give a primitive data type"
   ]
  },
  {
   "cell_type": "code",
   "execution_count": 12,
   "id": "6376710f",
   "metadata": {},
   "outputs": [],
   "source": [
    "a,b,c,d=test4()"
   ]
  },
  {
   "cell_type": "code",
   "execution_count": 19,
   "id": "38ae7570",
   "metadata": {},
   "outputs": [
    {
     "data": {
      "text/plain": [
       "(2, int)"
      ]
     },
     "execution_count": 19,
     "metadata": {},
     "output_type": "execute_result"
    }
   ],
   "source": [
    "a,type(a)"
   ]
  },
  {
   "cell_type": "code",
   "execution_count": 21,
   "id": "74e919b5",
   "metadata": {},
   "outputs": [
    {
     "data": {
      "text/plain": [
       "('lalit', str)"
      ]
     },
     "execution_count": 21,
     "metadata": {},
     "output_type": "execute_result"
    }
   ],
   "source": [
    "b,type(b)"
   ]
  },
  {
   "cell_type": "code",
   "execution_count": 22,
   "id": "bd6810c4",
   "metadata": {},
   "outputs": [
    {
     "data": {
      "text/plain": [
       "(True, bool)"
      ]
     },
     "execution_count": 22,
     "metadata": {},
     "output_type": "execute_result"
    }
   ],
   "source": [
    "c,type(c)"
   ]
  },
  {
   "cell_type": "code",
   "execution_count": 23,
   "id": "ef974e3d",
   "metadata": {},
   "outputs": [
    {
     "data": {
      "text/plain": [
       "([1, 2, 4], list)"
      ]
     },
     "execution_count": 23,
     "metadata": {},
     "output_type": "execute_result"
    }
   ],
   "source": [
    "d,type(d)"
   ]
  },
  {
   "cell_type": "code",
   "execution_count": 32,
   "id": "8a7733de",
   "metadata": {},
   "outputs": [],
   "source": [
    "def test5(x):\n",
    "    return x"
   ]
  },
  {
   "cell_type": "code",
   "execution_count": 33,
   "id": "78ebfa6b",
   "metadata": {},
   "outputs": [
    {
     "data": {
      "text/plain": [
       "5"
      ]
     },
     "execution_count": 33,
     "metadata": {},
     "output_type": "execute_result"
    }
   ],
   "source": [
    "test5(5)"
   ]
  },
  {
   "cell_type": "code",
   "execution_count": 38,
   "id": "66989b32",
   "metadata": {},
   "outputs": [
    {
     "data": {
      "text/plain": [
       "'lalit'"
      ]
     },
     "execution_count": 38,
     "metadata": {},
     "output_type": "execute_result"
    }
   ],
   "source": [
    "test5(\"lalit\")"
   ]
  },
  {
   "cell_type": "code",
   "execution_count": 36,
   "id": "16829e15",
   "metadata": {},
   "outputs": [
    {
     "data": {
      "text/plain": [
       "str"
      ]
     },
     "execution_count": 36,
     "metadata": {},
     "output_type": "execute_result"
    }
   ],
   "source": [
    "type(test5(\"lalit\"))"
   ]
  },
  {
   "cell_type": "code",
   "execution_count": 39,
   "id": "69223957",
   "metadata": {},
   "outputs": [
    {
     "data": {
      "text/plain": [
       "complex"
      ]
     },
     "execution_count": 39,
     "metadata": {},
     "output_type": "execute_result"
    }
   ],
   "source": [
    "type(test5(3+2j))"
   ]
  },
  {
   "cell_type": "code",
   "execution_count": 40,
   "id": "ebfc0a93",
   "metadata": {},
   "outputs": [
    {
     "ename": "TypeError",
     "evalue": "test5() takes 1 positional argument but 2 were given",
     "output_type": "error",
     "traceback": [
      "\u001b[1;31m---------------------------------------------------------------------------\u001b[0m",
      "\u001b[1;31mTypeError\u001b[0m                                 Traceback (most recent call last)",
      "Cell \u001b[1;32mIn[40], line 1\u001b[0m\n\u001b[1;32m----> 1\u001b[0m test5(\u001b[38;5;241m1\u001b[39m,\u001b[38;5;241m2\u001b[39m)\n",
      "\u001b[1;31mTypeError\u001b[0m: test5() takes 1 positional argument but 2 were given"
     ]
    }
   ],
   "source": [
    "test5(1,2)"
   ]
  },
  {
   "cell_type": "code",
   "execution_count": 41,
   "id": "38318b59",
   "metadata": {},
   "outputs": [
    {
     "ename": "TypeError",
     "evalue": "test5() missing 1 required positional argument: 'x'",
     "output_type": "error",
     "traceback": [
      "\u001b[1;31m---------------------------------------------------------------------------\u001b[0m",
      "\u001b[1;31mTypeError\u001b[0m                                 Traceback (most recent call last)",
      "Cell \u001b[1;32mIn[41], line 1\u001b[0m\n\u001b[1;32m----> 1\u001b[0m test5()\n",
      "\u001b[1;31mTypeError\u001b[0m: test5() missing 1 required positional argument: 'x'"
     ]
    }
   ],
   "source": [
    "test5()"
   ]
  },
  {
   "cell_type": "code",
   "execution_count": 42,
   "id": "ccf28e17",
   "metadata": {},
   "outputs": [],
   "source": [
    "def test6(x,y):\n",
    "    return x,y"
   ]
  },
  {
   "cell_type": "code",
   "execution_count": 46,
   "id": "306c1d15",
   "metadata": {},
   "outputs": [
    {
     "data": {
      "text/plain": [
       "tuple"
      ]
     },
     "execution_count": 46,
     "metadata": {},
     "output_type": "execute_result"
    }
   ],
   "source": [
    "type(test6(5,6))"
   ]
  },
  {
   "cell_type": "code",
   "execution_count": 45,
   "id": "0e61c6b5",
   "metadata": {},
   "outputs": [
    {
     "data": {
      "text/plain": [
       "tuple"
      ]
     },
     "execution_count": 45,
     "metadata": {},
     "output_type": "execute_result"
    }
   ],
   "source": [
    "type(test6(\"lalit\",\"borase\"))"
   ]
  },
  {
   "cell_type": "code",
   "execution_count": 47,
   "id": "83ef4bf1",
   "metadata": {},
   "outputs": [],
   "source": [
    "a,b=test6(\"lalit\",45)"
   ]
  },
  {
   "cell_type": "code",
   "execution_count": 48,
   "id": "7d70d2ea",
   "metadata": {},
   "outputs": [
    {
     "data": {
      "text/plain": [
       "('lalit', str)"
      ]
     },
     "execution_count": 48,
     "metadata": {},
     "output_type": "execute_result"
    }
   ],
   "source": [
    "a,type(a)"
   ]
  },
  {
   "cell_type": "code",
   "execution_count": 49,
   "id": "1de20ced",
   "metadata": {},
   "outputs": [
    {
     "data": {
      "text/plain": [
       "(45, int)"
      ]
     },
     "execution_count": 49,
     "metadata": {},
     "output_type": "execute_result"
    }
   ],
   "source": [
    "b,type(b)"
   ]
  },
  {
   "cell_type": "code",
   "execution_count": 51,
   "id": "9ce303a0",
   "metadata": {},
   "outputs": [
    {
     "data": {
      "text/plain": [
       "('lalit', [5, 4, 3, 2])"
      ]
     },
     "execution_count": 51,
     "metadata": {},
     "output_type": "execute_result"
    }
   ],
   "source": [
    "test6(\"lalit\",[5,4,3,2])"
   ]
  },
  {
   "cell_type": "code",
   "execution_count": 52,
   "id": "f415c9d4",
   "metadata": {},
   "outputs": [],
   "source": [
    "#specify the data type when function is created"
   ]
  },
  {
   "cell_type": "code",
   "execution_count": 59,
   "id": "f0e238e9",
   "metadata": {},
   "outputs": [],
   "source": [
    "def test7(a:int, b:int):\n",
    "    return a,b"
   ]
  },
  {
   "cell_type": "code",
   "execution_count": 56,
   "id": "a867b4ed",
   "metadata": {},
   "outputs": [
    {
     "data": {
      "text/plain": [
       "(4, 5)"
      ]
     },
     "execution_count": 56,
     "metadata": {},
     "output_type": "execute_result"
    }
   ],
   "source": [
    "test7(4,5)"
   ]
  },
  {
   "cell_type": "code",
   "execution_count": 57,
   "id": "615461e7",
   "metadata": {},
   "outputs": [
    {
     "data": {
      "text/plain": [
       "('lalit', 'borase')"
      ]
     },
     "execution_count": 57,
     "metadata": {},
     "output_type": "execute_result"
    }
   ],
   "source": [
    "test7(\"lalit\",\"borase\")"
   ]
  },
  {
   "cell_type": "code",
   "execution_count": 58,
   "id": "43d746fa",
   "metadata": {},
   "outputs": [
    {
     "data": {
      "text/plain": [
       "(5, [57, 44, 222, 12])"
      ]
     },
     "execution_count": 58,
     "metadata": {},
     "output_type": "execute_result"
    }
   ],
   "source": [
    "test7(5,[57,44,222,12])"
   ]
  },
  {
   "cell_type": "code",
   "execution_count": 60,
   "id": "d9a37507",
   "metadata": {},
   "outputs": [],
   "source": [
    "#we can restrict the data which enter but we can give a notification to user to insert which type of data"
   ]
  },
  {
   "cell_type": "code",
   "execution_count": 64,
   "id": "d2c84cc9",
   "metadata": {},
   "outputs": [],
   "source": [
    "def test8(a,b):\n",
    "    return a/b"
   ]
  },
  {
   "cell_type": "code",
   "execution_count": 65,
   "id": "e599401e",
   "metadata": {},
   "outputs": [
    {
     "data": {
      "text/plain": [
       "10.0"
      ]
     },
     "execution_count": 65,
     "metadata": {},
     "output_type": "execute_result"
    }
   ],
   "source": [
    "test8(90,9)"
   ]
  },
  {
   "cell_type": "code",
   "execution_count": 66,
   "id": "874d7f30",
   "metadata": {},
   "outputs": [
    {
     "ename": "TypeError",
     "evalue": "unsupported operand type(s) for /: 'str' and 'str'",
     "output_type": "error",
     "traceback": [
      "\u001b[1;31m---------------------------------------------------------------------------\u001b[0m",
      "\u001b[1;31mTypeError\u001b[0m                                 Traceback (most recent call last)",
      "Cell \u001b[1;32mIn[66], line 1\u001b[0m\n\u001b[1;32m----> 1\u001b[0m test8(\u001b[38;5;124m\"\u001b[39m\u001b[38;5;124mlalit\u001b[39m\u001b[38;5;124m\"\u001b[39m,\u001b[38;5;124m\"\u001b[39m\u001b[38;5;124mborase\u001b[39m\u001b[38;5;124m\"\u001b[39m)\n",
      "Cell \u001b[1;32mIn[64], line 2\u001b[0m, in \u001b[0;36mtest8\u001b[1;34m(a, b)\u001b[0m\n\u001b[0;32m      1\u001b[0m \u001b[38;5;28;01mdef\u001b[39;00m \u001b[38;5;21mtest8\u001b[39m(a,b):\n\u001b[1;32m----> 2\u001b[0m     \u001b[38;5;28;01mreturn\u001b[39;00m a\u001b[38;5;241m/\u001b[39mb\n",
      "\u001b[1;31mTypeError\u001b[0m: unsupported operand type(s) for /: 'str' and 'str'"
     ]
    }
   ],
   "source": [
    "test8(\"lalit\",\"borase\")"
   ]
  },
  {
   "cell_type": "code",
   "execution_count": 69,
   "id": "ba2900e7",
   "metadata": {},
   "outputs": [],
   "source": [
    "def test9(c,d):\n",
    "    #it is the standard way to create a function to specified a docstring this is for user of function\n",
    "    #understand purpose which type of work do by the function.\n",
    "    \"\"\" this is my function which can take two input and return a addition or concatination\n",
    "    \"\"\"\n",
    "    return c+d"
   ]
  },
  {
   "cell_type": "code",
   "execution_count": 71,
   "id": "b47b1c3a",
   "metadata": {},
   "outputs": [
    {
     "data": {
      "text/plain": [
       "9"
      ]
     },
     "execution_count": 71,
     "metadata": {},
     "output_type": "execute_result"
    }
   ],
   "source": [
    "test9(4,5)#go there inside paranthesis and press shift + tab "
   ]
  },
  {
   "cell_type": "code",
   "execution_count": 72,
   "id": "3b39d371",
   "metadata": {},
   "outputs": [
    {
     "data": {
      "text/plain": [
       "'lalitborase'"
      ]
     },
     "execution_count": 72,
     "metadata": {},
     "output_type": "execute_result"
    }
   ],
   "source": [
    "test9(\"lalit\",\"borase\")"
   ]
  },
  {
   "cell_type": "code",
   "execution_count": 75,
   "id": "4eee1909",
   "metadata": {},
   "outputs": [
    {
     "ename": "TypeError",
     "evalue": "test9() takes 2 positional arguments but 3 were given",
     "output_type": "error",
     "traceback": [
      "\u001b[1;31m---------------------------------------------------------------------------\u001b[0m",
      "\u001b[1;31mTypeError\u001b[0m                                 Traceback (most recent call last)",
      "Cell \u001b[1;32mIn[75], line 1\u001b[0m\n\u001b[1;32m----> 1\u001b[0m test9(\u001b[38;5;124m\"\u001b[39m\u001b[38;5;124mlalit\u001b[39m\u001b[38;5;124m\"\u001b[39m,\u001b[38;5;124m\"\u001b[39m\u001b[38;5;124mganesh\u001b[39m\u001b[38;5;124m\"\u001b[39m,\u001b[38;5;124m\"\u001b[39m\u001b[38;5;124mborase\u001b[39m\u001b[38;5;124m\"\u001b[39m)\n",
      "\u001b[1;31mTypeError\u001b[0m: test9() takes 2 positional arguments but 3 were given"
     ]
    }
   ],
   "source": [
    " test9(\"lalit\",\"ganesh\",\"borase\")"
   ]
  },
  {
   "cell_type": "code",
   "execution_count": 76,
   "id": "ae05987e",
   "metadata": {},
   "outputs": [],
   "source": [
    "def test10(*args):\n",
    "    return args"
   ]
  },
  {
   "cell_type": "code",
   "execution_count": 77,
   "id": "18f310b7",
   "metadata": {},
   "outputs": [
    {
     "data": {
      "text/plain": [
       "()"
      ]
     },
     "execution_count": 77,
     "metadata": {},
     "output_type": "execute_result"
    }
   ],
   "source": [
    "test10()"
   ]
  },
  {
   "cell_type": "code",
   "execution_count": 78,
   "id": "bf0cf17e",
   "metadata": {},
   "outputs": [
    {
     "data": {
      "text/plain": [
       "(2, 4, 6, 8, 10)"
      ]
     },
     "execution_count": 78,
     "metadata": {},
     "output_type": "execute_result"
    }
   ],
   "source": [
    "test10(2,4,6,8,10)"
   ]
  },
  {
   "cell_type": "code",
   "execution_count": 79,
   "id": "89eb705b",
   "metadata": {},
   "outputs": [
    {
     "data": {
      "text/plain": [
       "('lalit',\n",
       " 2,\n",
       " 3,\n",
       " [1, 2, 3, 4],\n",
       " 'borase',\n",
       " 88.33,\n",
       " (7+5j),\n",
       " True,\n",
       " ('l', 'a', 'l', 'i', 't'),\n",
       " False)"
      ]
     },
     "execution_count": 79,
     "metadata": {},
     "output_type": "execute_result"
    }
   ],
   "source": [
    "test10(\"lalit\",2,3,[1,2,3,4],\"borase\",88.33,7+5j,True,('l','a','l','i','t'),False)"
   ]
  },
  {
   "cell_type": "code",
   "execution_count": 84,
   "id": "6523722c",
   "metadata": {},
   "outputs": [],
   "source": [
    "def test12(**kwargs):\n",
    "    return kwargs"
   ]
  },
  {
   "cell_type": "code",
   "execution_count": 86,
   "id": "75888b39",
   "metadata": {},
   "outputs": [],
   "source": [
    "test12(11,22,33)#thiis is not use case"
   ]
  },
  {
   "cell_type": "code",
   "execution_count": 87,
   "id": "b2344620",
   "metadata": {},
   "outputs": [
    {
     "data": {
      "text/plain": [
       "{'a': 4, 'b': 5, 'c': 80}"
      ]
     },
     "execution_count": 87,
     "metadata": {},
     "output_type": "execute_result"
    }
   ],
   "source": [
    "test12(a=4,b=5,c=80)"
   ]
  },
  {
   "cell_type": "code",
   "execution_count": 88,
   "id": "7171457b",
   "metadata": {},
   "outputs": [
    {
     "data": {
      "text/plain": [
       "{'n': {'a': 4, 'b': 8, 'c': 12}}"
      ]
     },
     "execution_count": 88,
     "metadata": {},
     "output_type": "execute_result"
    }
   ],
   "source": [
    "test12(n={'a':4,'b':8,'c':12})"
   ]
  },
  {
   "cell_type": "code",
   "execution_count": 95,
   "id": "e7d356d3",
   "metadata": {},
   "outputs": [
    {
     "data": {
      "text/plain": [
       "{'a': {'a': 4, 'b': 8, 'c': 12}}"
      ]
     },
     "execution_count": 95,
     "metadata": {},
     "output_type": "execute_result"
    }
   ],
   "source": [
    "test12(a={'a':4,'b':8,'c':12})"
   ]
  },
  {
   "cell_type": "code",
   "execution_count": 98,
   "id": "e1a3440d",
   "metadata": {},
   "outputs": [],
   "source": [
    "def test13(b,c=20,a=10):\n",
    "    return a,b,c"
   ]
  },
  {
   "cell_type": "code",
   "execution_count": 100,
   "id": "b7b9dfe5",
   "metadata": {},
   "outputs": [
    {
     "data": {
      "text/plain": [
       "(10, 56, 20)"
      ]
     },
     "execution_count": 100,
     "metadata": {},
     "output_type": "execute_result"
    }
   ],
   "source": [
    "test13(56)"
   ]
  },
  {
   "cell_type": "code",
   "execution_count": 101,
   "id": "39afb27e",
   "metadata": {},
   "outputs": [
    {
     "data": {
      "text/plain": [
       "(45, 34, 20)"
      ]
     },
     "execution_count": 101,
     "metadata": {},
     "output_type": "execute_result"
    }
   ],
   "source": [
    "test13(34,a=45)"
   ]
  },
  {
   "cell_type": "code",
   "execution_count": null,
   "id": "835d737f",
   "metadata": {},
   "outputs": [],
   "source": [
    "#lambda function"
   ]
  },
  {
   "cell_type": "code",
   "execution_count": 102,
   "id": "9caedfdd",
   "metadata": {},
   "outputs": [],
   "source": [
    "def test14(a,b):\n",
    "    return a+b\n"
   ]
  },
  {
   "cell_type": "code",
   "execution_count": 103,
   "id": "65ea0589",
   "metadata": {},
   "outputs": [
    {
     "data": {
      "text/plain": [
       "11"
      ]
     },
     "execution_count": 103,
     "metadata": {},
     "output_type": "execute_result"
    }
   ],
   "source": [
    "test14(5,6)"
   ]
  },
  {
   "cell_type": "code",
   "execution_count": 104,
   "id": "e2e44e18",
   "metadata": {},
   "outputs": [],
   "source": [
    "m=lambda a,b:a+b"
   ]
  },
  {
   "cell_type": "code",
   "execution_count": 113,
   "id": "70fe9fa7",
   "metadata": {},
   "outputs": [
    {
     "data": {
      "text/plain": [
       "<function __main__.test14(a, b)>"
      ]
     },
     "execution_count": 113,
     "metadata": {},
     "output_type": "execute_result"
    }
   ],
   "source": [
    "test14\n"
   ]
  },
  {
   "cell_type": "code",
   "execution_count": 114,
   "id": "1317aeb8",
   "metadata": {},
   "outputs": [
    {
     "data": {
      "text/plain": [
       "<function __main__.<lambda>(a, b)>"
      ]
     },
     "execution_count": 114,
     "metadata": {},
     "output_type": "execute_result"
    }
   ],
   "source": [
    "m"
   ]
  },
  {
   "cell_type": "code",
   "execution_count": 110,
   "id": "be584d16",
   "metadata": {},
   "outputs": [
    {
     "data": {
      "text/plain": [
       "(11, int)"
      ]
     },
     "execution_count": 110,
     "metadata": {},
     "output_type": "execute_result"
    }
   ],
   "source": [
    "m(5,6),"
   ]
  },
  {
   "cell_type": "code",
   "execution_count": 106,
   "id": "6f3d9ce9",
   "metadata": {},
   "outputs": [],
   "source": [
    "#both function are giving a same result either using def test14 and using lambda"
   ]
  },
  {
   "cell_type": "code",
   "execution_count": 115,
   "id": "968074ef",
   "metadata": {},
   "outputs": [
    {
     "data": {
      "text/plain": [
       "9"
      ]
     },
     "execution_count": 115,
     "metadata": {},
     "output_type": "execute_result"
    }
   ],
   "source": [
    "m(4,5)"
   ]
  },
  {
   "cell_type": "code",
   "execution_count": 116,
   "id": "d2d11f88",
   "metadata": {},
   "outputs": [],
   "source": [
    "#create a function for even or odd"
   ]
  },
  {
   "cell_type": "code",
   "execution_count": 117,
   "id": "8fa029c1",
   "metadata": {},
   "outputs": [],
   "source": [
    "#using normal function\n",
    "def check_even(n):\n",
    "    if n%2==0:\n",
    "        return \"given number is an even number\"\n",
    "    else:\n",
    "        return \"given number not a even number\""
   ]
  },
  {
   "cell_type": "code",
   "execution_count": 119,
   "id": "4c079be0",
   "metadata": {},
   "outputs": [
    {
     "data": {
      "text/plain": [
       "'given number not a even number'"
      ]
     },
     "execution_count": 119,
     "metadata": {},
     "output_type": "execute_result"
    }
   ],
   "source": [
    "check_even(3)"
   ]
  },
  {
   "cell_type": "code",
   "execution_count": 120,
   "id": "3c6baf70",
   "metadata": {},
   "outputs": [
    {
     "data": {
      "text/plain": [
       "'given number is an even number'"
      ]
     },
     "execution_count": 120,
     "metadata": {},
     "output_type": "execute_result"
    }
   ],
   "source": [
    "check_even(88)"
   ]
  },
  {
   "cell_type": "code",
   "execution_count": 131,
   "id": "1631bd7f",
   "metadata": {},
   "outputs": [],
   "source": [
    "#using lambda fun\n",
    "b = lambda n:\"given number is an even number\" if n%2==0 else \"given number is not an even number\""
   ]
  },
  {
   "cell_type": "code",
   "execution_count": 133,
   "id": "d22c26e2",
   "metadata": {},
   "outputs": [
    {
     "data": {
      "text/plain": [
       "'given number is an even number'"
      ]
     },
     "execution_count": 133,
     "metadata": {},
     "output_type": "execute_result"
    }
   ],
   "source": [
    "b(4)"
   ]
  },
  {
   "cell_type": "code",
   "execution_count": 134,
   "id": "919d409a",
   "metadata": {},
   "outputs": [
    {
     "data": {
      "text/plain": [
       "'given number is not an even number'"
      ]
     },
     "execution_count": 134,
     "metadata": {},
     "output_type": "execute_result"
    }
   ],
   "source": [
    "b(9)"
   ]
  },
  {
   "cell_type": "code",
   "execution_count": 135,
   "id": "2910afc7",
   "metadata": {},
   "outputs": [],
   "source": [
    "#lambda fun are use when a function have simple but not uses in cases where the fun having complexity"
   ]
  },
  {
   "cell_type": "code",
   "execution_count": 136,
   "id": "7d2f4f6d",
   "metadata": {},
   "outputs": [],
   "source": [
    "l=[,2,3,4,5,1,6]\n",
    "min_list=lambda li:min(li)"
   ]
  },
  {
   "cell_type": "code",
   "execution_count": 138,
   "id": "c4917ee6",
   "metadata": {},
   "outputs": [
    {
     "data": {
      "text/plain": [
       "1"
      ]
     },
     "execution_count": 138,
     "metadata": {},
     "output_type": "execute_result"
    }
   ],
   "source": [
    "min_list(l)"
   ]
  },
  {
   "cell_type": "code",
   "execution_count": 139,
   "id": "d15f3f1d",
   "metadata": {},
   "outputs": [],
   "source": [
    "div=lambda a,b:a/b"
   ]
  },
  {
   "cell_type": "code",
   "execution_count": 140,
   "id": "14f4f391",
   "metadata": {},
   "outputs": [
    {
     "data": {
      "text/plain": [
       "0.8333333333333334"
      ]
     },
     "execution_count": 140,
     "metadata": {},
     "output_type": "execute_result"
    }
   ],
   "source": [
    "div(5,6)"
   ]
  },
  {
   "cell_type": "code",
   "execution_count": 141,
   "id": "7cd91ae7",
   "metadata": {},
   "outputs": [],
   "source": [
    "upper=lambda s:s.upper()"
   ]
  },
  {
   "cell_type": "code",
   "execution_count": 142,
   "id": "15e87823",
   "metadata": {},
   "outputs": [
    {
     "data": {
      "text/plain": [
       "'LALIT'"
      ]
     },
     "execution_count": 142,
     "metadata": {},
     "output_type": "execute_result"
    }
   ],
   "source": [
    "upper(\"lalit\")"
   ]
  },
  {
   "cell_type": "code",
   "execution_count": 156,
   "id": "fd2f31cb",
   "metadata": {},
   "outputs": [],
   "source": [
    "#function for the find sum of odd numbers\n",
    "l=[3,4,5,6,7,2,3,34,5,56]\n",
    "def sum_odd(b):\n",
    "    l1=[]\n",
    "    for i in b:\n",
    "        if i%2!=0:\n",
    "            l1.append(i)\n",
    "    return sum(l1)"
   ]
  },
  {
   "cell_type": "code",
   "execution_count": 157,
   "id": "c068d3f6",
   "metadata": {},
   "outputs": [
    {
     "data": {
      "text/plain": [
       "23"
      ]
     },
     "execution_count": 157,
     "metadata": {},
     "output_type": "execute_result"
    }
   ],
   "source": [
    "sum_odd(l)"
   ]
  },
  {
   "cell_type": "code",
   "execution_count": 160,
   "id": "fe76f201",
   "metadata": {},
   "outputs": [
    {
     "data": {
      "text/plain": [
       "23"
      ]
     },
     "execution_count": 160,
     "metadata": {},
     "output_type": "execute_result"
    }
   ],
   "source": [
    "sum([ i for i in l if i%2!=0])"
   ]
  },
  {
   "cell_type": "code",
   "execution_count": 162,
   "id": "797bcbaa",
   "metadata": {},
   "outputs": [],
   "source": [
    "sum_off_lambda=lambda b:sum([i for i in b if i%2!=0])"
   ]
  },
  {
   "cell_type": "code",
   "execution_count": 163,
   "id": "06855b3a",
   "metadata": {},
   "outputs": [
    {
     "data": {
      "text/plain": [
       "23"
      ]
     },
     "execution_count": 163,
     "metadata": {},
     "output_type": "execute_result"
    }
   ],
   "source": [
    "sum_off_lambda(l)"
   ]
  },
  {
   "cell_type": "code",
   "execution_count": 164,
   "id": "e1e49dce",
   "metadata": {},
   "outputs": [],
   "source": [
    "#factorial of number"
   ]
  },
  {
   "cell_type": "code",
   "execution_count": 165,
   "id": "8d78c2cc",
   "metadata": {},
   "outputs": [],
   "source": [
    "#using recursion\n",
    "def fact_num(n):\n",
    "    if n ==0:\n",
    "        return 1\n",
    "    else:\n",
    "        return n*fact_num(n-1)"
   ]
  },
  {
   "cell_type": "code",
   "execution_count": 166,
   "id": "ad99d404",
   "metadata": {},
   "outputs": [
    {
     "data": {
      "text/plain": [
       "24"
      ]
     },
     "execution_count": 166,
     "metadata": {},
     "output_type": "execute_result"
    }
   ],
   "source": [
    "fact_num(4)"
   ]
  },
  {
   "cell_type": "code",
   "execution_count": 167,
   "id": "6c3e6ffd",
   "metadata": {},
   "outputs": [
    {
     "data": {
      "text/plain": [
       "1"
      ]
     },
     "execution_count": 167,
     "metadata": {},
     "output_type": "execute_result"
    }
   ],
   "source": [
    "fact_num(0)"
   ]
  },
  {
   "cell_type": "code",
   "execution_count": 168,
   "id": "c275dffb",
   "metadata": {},
   "outputs": [
    {
     "data": {
      "text/plain": [
       "120"
      ]
     },
     "execution_count": 168,
     "metadata": {},
     "output_type": "execute_result"
    }
   ],
   "source": [
    "fact_num(5)"
   ]
  },
  {
   "cell_type": "code",
   "execution_count": 169,
   "id": "d8fb7b31",
   "metadata": {},
   "outputs": [],
   "source": [
    "#without using recursion\n",
    "def fact_of_num(n):\n",
    "    a=1\n",
    "    for i in range(1,n+1):\n",
    "        a=i*a\n",
    "    return a"
   ]
  },
  {
   "cell_type": "code",
   "execution_count": 170,
   "id": "0164c902",
   "metadata": {},
   "outputs": [
    {
     "data": {
      "text/plain": [
       "120"
      ]
     },
     "execution_count": 170,
     "metadata": {},
     "output_type": "execute_result"
    }
   ],
   "source": [
    "fact_of_num(5)"
   ]
  },
  {
   "cell_type": "code",
   "execution_count": 173,
   "id": "457b65a0",
   "metadata": {},
   "outputs": [],
   "source": [
    "factorial_of_number=lambda n: 1 if n==0 else n*factorial_of_number(n-1)"
   ]
  },
  {
   "cell_type": "code",
   "execution_count": 174,
   "id": "a5719442",
   "metadata": {},
   "outputs": [
    {
     "data": {
      "text/plain": [
       "120"
      ]
     },
     "execution_count": 174,
     "metadata": {},
     "output_type": "execute_result"
    }
   ],
   "source": [
    "factorial_of_number(5)"
   ]
  },
  {
   "cell_type": "code",
   "execution_count": 175,
   "id": "5a6b9523",
   "metadata": {},
   "outputs": [],
   "source": [
    "l=[5,6,7,8,89]\n",
    "l1=[]\n",
    "for i in l:\n",
    "    l1.append(i+2)"
   ]
  },
  {
   "cell_type": "code",
   "execution_count": 176,
   "id": "9a155b34",
   "metadata": {},
   "outputs": [
    {
     "data": {
      "text/plain": [
       "[7, 8, 9, 10, 91]"
      ]
     },
     "execution_count": 176,
     "metadata": {},
     "output_type": "execute_result"
    }
   ],
   "source": [
    "l1"
   ]
  },
  {
   "cell_type": "code",
   "execution_count": 177,
   "id": "06be99eb",
   "metadata": {},
   "outputs": [],
   "source": [
    "def add_list(l):\n",
    "    l1=[]\n",
    "    for i in l:\n",
    "        l1.append(i+2)\n",
    "    return l1"
   ]
  },
  {
   "cell_type": "code",
   "execution_count": 178,
   "id": "e12fddba",
   "metadata": {},
   "outputs": [
    {
     "data": {
      "text/plain": [
       "[4, 6, 8, 10, 12]"
      ]
     },
     "execution_count": 178,
     "metadata": {},
     "output_type": "execute_result"
    }
   ],
   "source": [
    "add_list([2,4,6,8,10])"
   ]
  },
  {
   "cell_type": "code",
   "execution_count": 185,
   "id": "a740cd0b",
   "metadata": {},
   "outputs": [],
   "source": [
    "c=lambda a:a+2"
   ]
  },
  {
   "cell_type": "code",
   "execution_count": 186,
   "id": "29279723",
   "metadata": {
    "scrolled": true
   },
   "outputs": [
    {
     "data": {
      "text/plain": [
       "12"
      ]
     },
     "execution_count": 186,
     "metadata": {},
     "output_type": "execute_result"
    }
   ],
   "source": [
    "c(10)"
   ]
  },
  {
   "cell_type": "code",
   "execution_count": null,
   "id": "f2f895dc",
   "metadata": {},
   "outputs": [],
   "source": [
    "#Map function"
   ]
  },
  {
   "cell_type": "code",
   "execution_count": 187,
   "id": "fa453a35",
   "metadata": {},
   "outputs": [
    {
     "data": {
      "text/plain": [
       "[7, 8, 9, 10, 91]"
      ]
     },
     "execution_count": 187,
     "metadata": {},
     "output_type": "execute_result"
    }
   ],
   "source": [
    "list(map(lambda a: a+2,l))"
   ]
  },
  {
   "cell_type": "code",
   "execution_count": 188,
   "id": "1d143644",
   "metadata": {},
   "outputs": [
    {
     "data": {
      "text/plain": [
       "[5, 6, 7, 8, 89]"
      ]
     },
     "execution_count": 188,
     "metadata": {},
     "output_type": "execute_result"
    }
   ],
   "source": [
    "l"
   ]
  },
  {
   "cell_type": "code",
   "execution_count": 194,
   "id": "8d6128f7",
   "metadata": {},
   "outputs": [],
   "source": [
    " def test15(c):\n",
    "    return c+2"
   ]
  },
  {
   "cell_type": "code",
   "execution_count": 195,
   "id": "834d2903",
   "metadata": {},
   "outputs": [
    {
     "data": {
      "text/plain": [
       "[7, 8, 9, 10, 91]"
      ]
     },
     "execution_count": 195,
     "metadata": {},
     "output_type": "execute_result"
    }
   ],
   "source": [
    "list(map(test15,l))"
   ]
  },
  {
   "cell_type": "code",
   "execution_count": 196,
   "id": "a10eeb91",
   "metadata": {},
   "outputs": [
    {
     "data": {
      "text/plain": [
       "10"
      ]
     },
     "execution_count": 196,
     "metadata": {},
     "output_type": "execute_result"
    }
   ],
   "source": [
    "test15(8)"
   ]
  },
  {
   "cell_type": "code",
   "execution_count": 197,
   "id": "3637c97d",
   "metadata": {},
   "outputs": [
    {
     "data": {
      "text/plain": [
       "23"
      ]
     },
     "execution_count": 197,
     "metadata": {},
     "output_type": "execute_result"
    }
   ],
   "source": [
    "test15(21)"
   ]
  },
  {
   "cell_type": "code",
   "execution_count": 198,
   "id": "3aead47b",
   "metadata": {},
   "outputs": [
    {
     "data": {
      "text/plain": [
       "-6"
      ]
     },
     "execution_count": 198,
     "metadata": {},
     "output_type": "execute_result"
    }
   ],
   "source": [
    "test15(-8)"
   ]
  },
  {
   "cell_type": "code",
   "execution_count": 204,
   "id": "d068b1c5",
   "metadata": {},
   "outputs": [],
   "source": [
    "l=[\"lalit\",\"borase\",\"svkm\"]"
   ]
  },
  {
   "cell_type": "code",
   "execution_count": 205,
   "id": "b1a4679d",
   "metadata": {},
   "outputs": [
    {
     "data": {
      "text/plain": [
       "5"
      ]
     },
     "execution_count": 205,
     "metadata": {},
     "output_type": "execute_result"
    }
   ],
   "source": [
    "len(\"lalit\")"
   ]
  },
  {
   "cell_type": "code",
   "execution_count": 206,
   "id": "acf10411",
   "metadata": {},
   "outputs": [
    {
     "data": {
      "text/plain": [
       "6"
      ]
     },
     "execution_count": 206,
     "metadata": {},
     "output_type": "execute_result"
    }
   ],
   "source": [
    "len(\"borase\")"
   ]
  },
  {
   "cell_type": "code",
   "execution_count": 207,
   "id": "a2ca2ce0",
   "metadata": {},
   "outputs": [
    {
     "data": {
      "text/plain": [
       "4"
      ]
     },
     "execution_count": 207,
     "metadata": {},
     "output_type": "execute_result"
    }
   ],
   "source": [
    "len(\"svkm\")"
   ]
  },
  {
   "cell_type": "code",
   "execution_count": 208,
   "id": "155603f1",
   "metadata": {},
   "outputs": [],
   "source": [
    "l1=[]\n",
    "for i in l:\n",
    "    l1.append(len(i))"
   ]
  },
  {
   "cell_type": "code",
   "execution_count": 209,
   "id": "f638da2b",
   "metadata": {},
   "outputs": [
    {
     "data": {
      "text/plain": [
       "[5, 6, 4]"
      ]
     },
     "execution_count": 209,
     "metadata": {},
     "output_type": "execute_result"
    }
   ],
   "source": [
    "l1"
   ]
  },
  {
   "cell_type": "code",
   "execution_count": 215,
   "id": "5ce2ceb6",
   "metadata": {},
   "outputs": [],
   "source": [
    "def test34(l):\n",
    "    l1=[]\n",
    "    for i in l:\n",
    "        l1.append(len(i))\n",
    "    return l1"
   ]
  },
  {
   "cell_type": "code",
   "execution_count": 216,
   "id": "6dcc9c17",
   "metadata": {},
   "outputs": [
    {
     "data": {
      "text/plain": [
       "[5, 6, 4]"
      ]
     },
     "execution_count": 216,
     "metadata": {},
     "output_type": "execute_result"
    }
   ],
   "source": [
    "test34(l)"
   ]
  },
  {
   "cell_type": "code",
   "execution_count": 217,
   "id": "4dc07433",
   "metadata": {},
   "outputs": [
    {
     "data": {
      "text/plain": [
       "[5, 6, 4]"
      ]
     },
     "execution_count": 217,
     "metadata": {},
     "output_type": "execute_result"
    }
   ],
   "source": [
    "list(map(lambda c:len(c),l))"
   ]
  },
  {
   "cell_type": "code",
   "execution_count": 218,
   "id": "2e99b1eb",
   "metadata": {},
   "outputs": [],
   "source": [
    "def test30(c):\n",
    "    return len(c)"
   ]
  },
  {
   "cell_type": "code",
   "execution_count": 219,
   "id": "1e665eb0",
   "metadata": {},
   "outputs": [
    {
     "data": {
      "text/plain": [
       "[5, 6, 4]"
      ]
     },
     "execution_count": 219,
     "metadata": {},
     "output_type": "execute_result"
    }
   ],
   "source": [
    "list(map(test30,l))"
   ]
  },
  {
   "cell_type": "code",
   "execution_count": 220,
   "id": "d8d04a79",
   "metadata": {},
   "outputs": [
    {
     "data": {
      "text/plain": [
       "[5, 6, 4]"
      ]
     },
     "execution_count": 220,
     "metadata": {},
     "output_type": "execute_result"
    }
   ],
   "source": [
    "list(map(len,l))"
   ]
  },
  {
   "cell_type": "code",
   "execution_count": 221,
   "id": "2cb6db0e",
   "metadata": {},
   "outputs": [
    {
     "data": {
      "text/plain": [
       "['lalit', 'borase', 'svkm']"
      ]
     },
     "execution_count": 221,
     "metadata": {},
     "output_type": "execute_result"
    }
   ],
   "source": [
    "l"
   ]
  },
  {
   "cell_type": "code",
   "execution_count": 226,
   "id": "f6f6bf20",
   "metadata": {},
   "outputs": [
    {
     "data": {
      "text/plain": [
       "['tilal', 'esarob', 'mkvs']"
      ]
     },
     "execution_count": 226,
     "metadata": {},
     "output_type": "execute_result"
    }
   ],
   "source": [
    "list(map(lambda a:a[::-1],l))"
   ]
  },
  {
   "cell_type": "code",
   "execution_count": 242,
   "id": "b7bf585c",
   "metadata": {},
   "outputs": [
    {
     "data": {
      "text/plain": [
       "['lalit', 'borase', 'svkm']"
      ]
     },
     "execution_count": 242,
     "metadata": {},
     "output_type": "execute_result"
    }
   ],
   "source": [
    "l"
   ]
  },
  {
   "cell_type": "code",
   "execution_count": 248,
   "id": "7fd962e4",
   "metadata": {},
   "outputs": [],
   "source": [
    "def test01(l):\n",
    "    l1=[]\n",
    "    for i in l:\n",
    "        l1.append(i[::-1])\n",
    "    return l1\n",
    "    \n",
    "    "
   ]
  },
  {
   "cell_type": "code",
   "execution_count": 249,
   "id": "8e6dbb5c",
   "metadata": {},
   "outputs": [
    {
     "data": {
      "text/plain": [
       "['tilal', 'esarob', 'mkvs']"
      ]
     },
     "execution_count": 249,
     "metadata": {},
     "output_type": "execute_result"
    }
   ],
   "source": [
    "test01(l)"
   ]
  },
  {
   "cell_type": "code",
   "execution_count": 253,
   "id": "6bfaeaf1",
   "metadata": {},
   "outputs": [],
   "source": [
    "def test99(l):\n",
    "    return l[::-1]"
   ]
  },
  {
   "cell_type": "code",
   "execution_count": 254,
   "id": "2d34269e",
   "metadata": {},
   "outputs": [
    {
     "data": {
      "text/plain": [
       "['tilal', 'esarob', 'mkvs']"
      ]
     },
     "execution_count": 254,
     "metadata": {},
     "output_type": "execute_result"
    }
   ],
   "source": [
    "list(map(test99,l))"
   ]
  },
  {
   "cell_type": "code",
   "execution_count": 260,
   "id": "89c919a3",
   "metadata": {},
   "outputs": [],
   "source": [
    "l=[1,2,3,4,5]\n",
    "from functools import reduce"
   ]
  },
  {
   "cell_type": "code",
   "execution_count": 261,
   "id": "03b814ea",
   "metadata": {},
   "outputs": [
    {
     "data": {
      "text/plain": [
       "120"
      ]
     },
     "execution_count": 261,
     "metadata": {},
     "output_type": "execute_result"
    }
   ],
   "source": [
    "reduce(lambda a,b:a*b,l)"
   ]
  },
  {
   "cell_type": "code",
   "execution_count": 262,
   "id": "2a23aaaf",
   "metadata": {},
   "outputs": [
    {
     "data": {
      "text/plain": [
       "[1, 2, 3, 4, 5]"
      ]
     },
     "execution_count": 262,
     "metadata": {},
     "output_type": "execute_result"
    }
   ],
   "source": [
    "l"
   ]
  },
  {
   "cell_type": "code",
   "execution_count": 264,
   "id": "ba5271f8",
   "metadata": {},
   "outputs": [
    {
     "data": {
      "text/plain": [
       "5"
      ]
     },
     "execution_count": 264,
     "metadata": {},
     "output_type": "execute_result"
    }
   ],
   "source": [
    "reduce(lambda a,b:a if a>b else b,l)"
   ]
  },
  {
   "cell_type": "code",
   "execution_count": 265,
   "id": "9c12bda5",
   "metadata": {},
   "outputs": [
    {
     "data": {
      "text/plain": [
       "1"
      ]
     },
     "execution_count": 265,
     "metadata": {},
     "output_type": "execute_result"
    }
   ],
   "source": [
    "reduce(lambda a,b:a if a<b else b,l)"
   ]
  },
  {
   "cell_type": "code",
   "execution_count": 267,
   "id": "098dfbdb",
   "metadata": {},
   "outputs": [],
   "source": [
    "n=4\n",
    "fact=reduce(lambda a,b:a*b,range(1,n+1))"
   ]
  },
  {
   "cell_type": "code",
   "execution_count": 268,
   "id": "172e99ae",
   "metadata": {},
   "outputs": [
    {
     "data": {
      "text/plain": [
       "24"
      ]
     },
     "execution_count": 268,
     "metadata": {},
     "output_type": "execute_result"
    }
   ],
   "source": [
    "fact"
   ]
  },
  {
   "cell_type": "code",
   "execution_count": 269,
   "id": "d153dbad",
   "metadata": {},
   "outputs": [],
   "source": [
    "def test(a,b):\n",
    "    return a*b"
   ]
  },
  {
   "cell_type": "code",
   "execution_count": 270,
   "id": "10c31fea",
   "metadata": {},
   "outputs": [],
   "source": [
    "fact1=reduce(test,range(1,n+1))"
   ]
  },
  {
   "cell_type": "code",
   "execution_count": 271,
   "id": "da777d8f",
   "metadata": {},
   "outputs": [
    {
     "data": {
      "text/plain": [
       "24"
      ]
     },
     "execution_count": 271,
     "metadata": {},
     "output_type": "execute_result"
    }
   ],
   "source": [
    "fact1"
   ]
  },
  {
   "cell_type": "code",
   "execution_count": 272,
   "id": "5c988bdd",
   "metadata": {},
   "outputs": [],
   "source": [
    "#calculate a product of all the even numbers in given range by using a reduce function"
   ]
  },
  {
   "cell_type": "code",
   "execution_count": 284,
   "id": "4c2918cb",
   "metadata": {},
   "outputs": [
    {
     "data": {
      "text/plain": [
       "[1, 2, 3, 4, 5]"
      ]
     },
     "execution_count": 284,
     "metadata": {},
     "output_type": "execute_result"
    }
   ],
   "source": [
    "l"
   ]
  },
  {
   "cell_type": "code",
   "execution_count": 286,
   "id": "c2ce93fe",
   "metadata": {},
   "outputs": [
    {
     "data": {
      "text/plain": [
       "8"
      ]
     },
     "execution_count": 286,
     "metadata": {},
     "output_type": "execute_result"
    }
   ],
   "source": [
    "reduce(lambda a,b:a*b,  [ i for i in l if i%2==0])"
   ]
  },
  {
   "cell_type": "code",
   "execution_count": 287,
   "id": "3ed15185",
   "metadata": {},
   "outputs": [],
   "source": [
    "#filter function"
   ]
  },
  {
   "cell_type": "code",
   "execution_count": 288,
   "id": "1089c257",
   "metadata": {},
   "outputs": [],
   "source": [
    "#filter out elements from the list --odd numbeers\n",
    "l=[3,4,5,6,43,1,12,22,44,66]"
   ]
  },
  {
   "cell_type": "code",
   "execution_count": 291,
   "id": "e73cc148",
   "metadata": {},
   "outputs": [
    {
     "data": {
      "text/plain": [
       "<filter at 0x1c8e7e79f60>"
      ]
     },
     "execution_count": 291,
     "metadata": {},
     "output_type": "execute_result"
    }
   ],
   "source": [
    "filter(lambda a:a%2==0,l)"
   ]
  },
  {
   "cell_type": "code",
   "execution_count": 292,
   "id": "c3a63c20",
   "metadata": {},
   "outputs": [
    {
     "data": {
      "text/plain": [
       "[4, 6, 12, 22, 44, 66]"
      ]
     },
     "execution_count": 292,
     "metadata": {},
     "output_type": "execute_result"
    }
   ],
   "source": [
    "list(filter(lambda a:a%2==0,l))"
   ]
  },
  {
   "cell_type": "code",
   "execution_count": 293,
   "id": "c5feca62",
   "metadata": {},
   "outputs": [],
   "source": [
    "#fiter and map are same applying on individual elements in iterable object"
   ]
  },
  {
   "cell_type": "code",
   "execution_count": 294,
   "id": "0f0da887",
   "metadata": {},
   "outputs": [],
   "source": [
    "#extract the data which is available in lower caser in a given string\n",
    "s=\"Pw Skillls\""
   ]
  },
  {
   "cell_type": "code",
   "execution_count": 295,
   "id": "90331176",
   "metadata": {},
   "outputs": [
    {
     "data": {
      "text/plain": [
       "['w', 'k', 'i', 'l', 'l', 'l', 's']"
      ]
     },
     "execution_count": 295,
     "metadata": {},
     "output_type": "execute_result"
    }
   ],
   "source": [
    "list(filter(lambda a:a.islower(),s))"
   ]
  },
  {
   "cell_type": "code",
   "execution_count": 297,
   "id": "e853711d",
   "metadata": {},
   "outputs": [],
   "source": [
    "#extract only those data where length of data lesser than or equal to 5\n",
    "l=[\"pw\",\"pwskills\",\"lalit\",\"krish\"]"
   ]
  },
  {
   "cell_type": "code",
   "execution_count": 300,
   "id": "9f83b3f1",
   "metadata": {},
   "outputs": [
    {
     "data": {
      "text/plain": [
       "['pw', 'lalit', 'krish']"
      ]
     },
     "execution_count": 300,
     "metadata": {},
     "output_type": "execute_result"
    }
   ],
   "source": [
    "list(filter(lambda a:len(a)<=5,l))"
   ]
  },
  {
   "cell_type": "code",
   "execution_count": 301,
   "id": "2fd5076b",
   "metadata": {},
   "outputs": [],
   "source": [
    "#fiterout only those data is starting with p"
   ]
  },
  {
   "cell_type": "code",
   "execution_count": 304,
   "id": "9ed4c4e8",
   "metadata": {},
   "outputs": [
    {
     "data": {
      "text/plain": [
       "['pw', 'pwskills']"
      ]
     },
     "execution_count": 304,
     "metadata": {},
     "output_type": "execute_result"
    }
   ],
   "source": [
    "list(filter(lambda a:a.startswith('p'),l))"
   ]
  },
  {
   "cell_type": "code",
   "execution_count": 305,
   "id": "bcd3e72c",
   "metadata": {},
   "outputs": [],
   "source": [
    "#recursive function:function which is call itself again and again the task is not completed"
   ]
  },
  {
   "cell_type": "code",
   "execution_count": 2,
   "id": "d514e153",
   "metadata": {},
   "outputs": [],
   "source": [
    "\n",
    "def gen_fib(n):\n",
    "    if n<=1:\n",
    "        return n\n",
    "    else:\n",
    "        return gen_fib(n-1)+gen_fib(n-2)"
   ]
  },
  {
   "cell_type": "code",
   "execution_count": 3,
   "id": "386f8958",
   "metadata": {},
   "outputs": [
    {
     "data": {
      "text/plain": [
       "2"
      ]
     },
     "execution_count": 3,
     "metadata": {},
     "output_type": "execute_result"
    }
   ],
   "source": [
    "gen_fib(3)"
   ]
  },
  {
   "cell_type": "code",
   "execution_count": 4,
   "id": "b91f98fa",
   "metadata": {},
   "outputs": [
    {
     "data": {
      "text/plain": [
       "5"
      ]
     },
     "execution_count": 4,
     "metadata": {},
     "output_type": "execute_result"
    }
   ],
   "source": [
    "gen_fib(5)"
   ]
  },
  {
   "cell_type": "code",
   "execution_count": 5,
   "id": "d6c76434",
   "metadata": {},
   "outputs": [],
   "source": [
    "def sum_till_n(n):\n",
    "    if n==1:\n",
    "        return 1\n",
    "    else:\n",
    "        return n + sum_till_n(n-1)"
   ]
  },
  {
   "cell_type": "code",
   "execution_count": 6,
   "id": "d46dc864",
   "metadata": {},
   "outputs": [
    {
     "data": {
      "text/plain": [
       "15"
      ]
     },
     "execution_count": 6,
     "metadata": {},
     "output_type": "execute_result"
    }
   ],
   "source": [
    "sum_till_n(5)"
   ]
  },
  {
   "cell_type": "code",
   "execution_count": null,
   "id": "114016f1",
   "metadata": {},
   "outputs": [],
   "source": []
  }
 ],
 "metadata": {
  "kernelspec": {
   "display_name": "Python 3 (ipykernel)",
   "language": "python",
   "name": "python3"
  },
  "language_info": {
   "codemirror_mode": {
    "name": "ipython",
    "version": 3
   },
   "file_extension": ".py",
   "mimetype": "text/x-python",
   "name": "python",
   "nbconvert_exporter": "python",
   "pygments_lexer": "ipython3",
   "version": "3.11.5"
  }
 },
 "nbformat": 4,
 "nbformat_minor": 5
}
