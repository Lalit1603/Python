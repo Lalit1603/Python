{
 "cells": [
  {
   "cell_type": "code",
   "execution_count": 2,
   "id": "273c11fa",
   "metadata": {},
   "outputs": [],
   "source": [
    "a=10\n",
    "b=20\n",
    "c=40\n",
    "#these 3 are the variables/if pov oops these three are object of INT class"
   ]
  },
  {
   "cell_type": "code",
   "execution_count": 4,
   "id": "6dcf925f",
   "metadata": {},
   "outputs": [],
   "source": [
    "class bankaccount:\n",
    "    \n",
    "    def openaccount(self,name,email_id):\n",
    "        print(\"open an account by taking name and email id\")\n",
    "        return name+email_id\n",
    "    \n",
    "    def deposite(self,amount):\n",
    "        print(\"I am trying to deposite an amount in my account\")\n",
    "    \n",
    "    def withdraw(self,amt_with):\n",
    "        print(\"withdraw the amount\")\n",
    "        \n",
    "    def update_details(self,nam_update,email_update):\n",
    "        print(\"this function will update my name and mail id for account\")\n",
    "                                "
   ]
  },
  {
   "cell_type": "code",
   "execution_count": 7,
   "id": "5ae321fc",
   "metadata": {},
   "outputs": [],
   "source": [
    "lalit=bankaccount()"
   ]
  },
  {
   "cell_type": "code",
   "execution_count": 8,
   "id": "e3c3ee65",
   "metadata": {},
   "outputs": [
    {
     "name": "stdout",
     "output_type": "stream",
     "text": [
      "open an account by taking name and email id\n"
     ]
    },
    {
     "data": {
      "text/plain": [
       "'lalitlalit@gmail.com'"
      ]
     },
     "execution_count": 8,
     "metadata": {},
     "output_type": "execute_result"
    }
   ],
   "source": [
    "lalit.openaccount(\"lalit\",\"lalit@gmail.com\")"
   ]
  },
  {
   "cell_type": "code",
   "execution_count": null,
   "id": "ee8c8289",
   "metadata": {},
   "outputs": [],
   "source": []
  },
  {
   "cell_type": "code",
   "execution_count": 5,
   "id": "6e69e7da",
   "metadata": {},
   "outputs": [],
   "source": [
    "def openaccount(name,email_id):\n",
    "        print(\"open an account by taking name and email id\")\n",
    "        return name+email_id"
   ]
  },
  {
   "cell_type": "code",
   "execution_count": 6,
   "id": "de9b4540",
   "metadata": {},
   "outputs": [
    {
     "name": "stdout",
     "output_type": "stream",
     "text": [
      "open an account by taking name and email id\n"
     ]
    },
    {
     "data": {
      "text/plain": [
       "'lalitlalit@gmail.com'"
      ]
     },
     "execution_count": 6,
     "metadata": {},
     "output_type": "execute_result"
    }
   ],
   "source": [
    "openaccount(\"lalit\",\"lalit@gmail.com\")"
   ]
  },
  {
   "cell_type": "code",
   "execution_count": 27,
   "id": "5d0e8a9c",
   "metadata": {},
   "outputs": [],
   "source": [
    "class list_ops:\n",
    "    def extractfromindex(self,l,index):\n",
    "        return l[index]\n",
    "    def extractrangedata(self,l,start,end):\n",
    "        return l[start:end]\n",
    "    def extracteven(self,l):\n",
    "        l1=[]\n",
    "        for i in l:\n",
    "            if i%2==0:\n",
    "                l1.append(i)\n",
    "        return l1\n",
    "#instead of self we can take a any name like:myname,lalit,bat,ball"
   ]
  },
  {
   "cell_type": "code",
   "execution_count": 28,
   "id": "d413f141",
   "metadata": {},
   "outputs": [],
   "source": [
    "first_obj=list_ops()"
   ]
  },
  {
   "cell_type": "code",
   "execution_count": 29,
   "id": "70f9b055",
   "metadata": {},
   "outputs": [
    {
     "data": {
      "text/plain": [
       "3"
      ]
     },
     "execution_count": 29,
     "metadata": {},
     "output_type": "execute_result"
    }
   ],
   "source": [
    "[2,3,4,5,3,3]\n",
    "first_obj.extractfromindex([2,3,4,5,3,3],1)"
   ]
  },
  {
   "cell_type": "code",
   "execution_count": 30,
   "id": "5c2fdc20",
   "metadata": {},
   "outputs": [
    {
     "data": {
      "text/plain": [
       "[2, 3, 3, 4]"
      ]
     },
     "execution_count": 30,
     "metadata": {},
     "output_type": "execute_result"
    }
   ],
   "source": [
    "\n",
    "first_obj.extractrangedata([2,3,3,4,5,65,6], 0, 4)"
   ]
  },
  {
   "cell_type": "code",
   "execution_count": 31,
   "id": "5bad08ea",
   "metadata": {},
   "outputs": [
    {
     "data": {
      "text/plain": [
       "[2, 4, 6]"
      ]
     },
     "execution_count": 31,
     "metadata": {},
     "output_type": "execute_result"
    }
   ],
   "source": [
    "first_obj.extracteven([2,3,4,5,6])"
   ]
  },
  {
   "cell_type": "code",
   "execution_count": 70,
   "id": "2a83c302",
   "metadata": {},
   "outputs": [],
   "source": [
    "#instead of self i write a lalit\n",
    "class list_ops:\n",
    "    a=10\n",
    "    l=[1,2,4]\n",
    "    def extractfromindex(lalit,l,index):\n",
    "        return l[index]\n",
    "    def extractrangedata(lalit,l,start,end):\n",
    "        return l[start:end]\n",
    "    def extracteven(lalit,l):\n",
    "        l1=[]\n",
    "        for i in l:\n",
    "            if i%2==0:\n",
    "                l1.append(i)\n",
    "        return l1\n",
    "\n",
    "\n",
    "\n"
   ]
  },
  {
   "cell_type": "code",
   "execution_count": 71,
   "id": "1803a903",
   "metadata": {},
   "outputs": [],
   "source": [
    "lalit1=list_ops()#imp"
   ]
  },
  {
   "cell_type": "code",
   "execution_count": null,
   "id": "7d9786a9",
   "metadata": {},
   "outputs": [],
   "source": []
  },
  {
   "cell_type": "code",
   "execution_count": 54,
   "id": "0b1ccfa8",
   "metadata": {},
   "outputs": [],
   "source": [
    "first_obj=list_ops()"
   ]
  },
  {
   "cell_type": "code",
   "execution_count": 55,
   "id": "d2e1bbc1",
   "metadata": {},
   "outputs": [
    {
     "data": {
      "text/plain": [
       "[2, 3, 3, 4]"
      ]
     },
     "execution_count": 55,
     "metadata": {},
     "output_type": "execute_result"
    }
   ],
   "source": [
    "first_obj.extractrangedata([2,3,3,4,5,65,6], 0, 4)"
   ]
  },
  {
   "cell_type": "code",
   "execution_count": 56,
   "id": "f7f6d5c4",
   "metadata": {},
   "outputs": [
    {
     "data": {
      "text/plain": [
       "[2, 4, 6]"
      ]
     },
     "execution_count": 56,
     "metadata": {},
     "output_type": "execute_result"
    }
   ],
   "source": [
    "first_obj.extracteven([2,3,4,5,6])"
   ]
  },
  {
   "cell_type": "code",
   "execution_count": 57,
   "id": "07ce2e62",
   "metadata": {},
   "outputs": [
    {
     "data": {
      "text/plain": [
       "3"
      ]
     },
     "execution_count": 57,
     "metadata": {},
     "output_type": "execute_result"
    }
   ],
   "source": [
    "first_obj.extractfromindex([2,3,4,5,3,3],1)"
   ]
  },
  {
   "cell_type": "code",
   "execution_count": 58,
   "id": "28c4ed39",
   "metadata": {},
   "outputs": [
    {
     "data": {
      "text/plain": [
       "10"
      ]
     },
     "execution_count": 58,
     "metadata": {},
     "output_type": "execute_result"
    }
   ],
   "source": [
    "first_obj.a"
   ]
  },
  {
   "cell_type": "code",
   "execution_count": 59,
   "id": "2c37b9e9",
   "metadata": {},
   "outputs": [
    {
     "data": {
      "text/plain": [
       "[1, 2, 4]"
      ]
     },
     "execution_count": 59,
     "metadata": {},
     "output_type": "execute_result"
    }
   ],
   "source": [
    "first_obj.l"
   ]
  },
  {
   "cell_type": "code",
   "execution_count": 60,
   "id": "63aeb390",
   "metadata": {},
   "outputs": [
    {
     "data": {
      "text/plain": [
       "[1, 2, 4]"
      ]
     },
     "execution_count": 60,
     "metadata": {},
     "output_type": "execute_result"
    }
   ],
   "source": [
    "second_obj=list_ops()\n",
    "second_obj.l"
   ]
  },
  {
   "cell_type": "code",
   "execution_count": 63,
   "id": "0e76128d",
   "metadata": {},
   "outputs": [
    {
     "data": {
      "text/plain": [
       "[1, 2, 4]"
      ]
     },
     "execution_count": 63,
     "metadata": {},
     "output_type": "execute_result"
    }
   ],
   "source": [
    "third_obj=list_ops()\n",
    "third_obj.l"
   ]
  },
  {
   "cell_type": "code",
   "execution_count": 81,
   "id": "927729c8",
   "metadata": {},
   "outputs": [],
   "source": [
    "class list_ops:\n",
    "   # a=10\n",
    "    #l=[1,2,4]\n",
    "    \n",
    "    def __init__(lalit,l):       #init-initialize data\n",
    "        lalit.l1=l         #l1 is a class variable and l is the variable it coming form when a object creation\n",
    "        lalit.l2=40\n",
    "        lalit.l3=\"lalit\"\n",
    "        lalit.l4=(4,4,5,6,3,2)\n",
    "        lalit.l5={\"key\":\"lalit\"}\n",
    "        \n",
    "    def extractfromindex(lalit,l,index):\n",
    "        return l[index]\n",
    "    def extractrangedata(lalit,l,start,end):\n",
    "        return l[start:end]\n",
    "    def extracteven(lalit,l):\n",
    "        l1=[]\n",
    "        for i in l:\n",
    "            if i%2==0:\n",
    "                l1.append(i)\n",
    "        return l1"
   ]
  },
  {
   "cell_type": "code",
   "execution_count": 83,
   "id": "7a3c5826",
   "metadata": {},
   "outputs": [
    {
     "data": {
      "text/plain": [
       "[1, 2, 3, 4]"
      ]
     },
     "execution_count": 83,
     "metadata": {},
     "output_type": "execute_result"
    }
   ],
   "source": [
    "second_obj=list_ops([1,2,3,4])\n",
    "second_obj.l1"
   ]
  },
  {
   "cell_type": "code",
   "execution_count": 84,
   "id": "2240a878",
   "metadata": {},
   "outputs": [
    {
     "data": {
      "text/plain": [
       "40"
      ]
     },
     "execution_count": 84,
     "metadata": {},
     "output_type": "execute_result"
    }
   ],
   "source": [
    "second_obj.l2"
   ]
  },
  {
   "cell_type": "code",
   "execution_count": 85,
   "id": "ecede39a",
   "metadata": {},
   "outputs": [
    {
     "data": {
      "text/plain": [
       "'lalit'"
      ]
     },
     "execution_count": 85,
     "metadata": {},
     "output_type": "execute_result"
    }
   ],
   "source": [
    "second_obj.l3"
   ]
  },
  {
   "cell_type": "code",
   "execution_count": 88,
   "id": "60e1e148",
   "metadata": {},
   "outputs": [],
   "source": [
    "class book:\n",
    "    def __init__(self,name,title,pageno):\n",
    "        self.name_of_book=name\n",
    "        self.titile_of_book=title\n",
    "        self.page_no=pageno\n",
    "    \n",
    "    def extract_details(self):\n",
    "        print(self.name_of_book,self.titile_of_book)\n",
    "    \n",
    "    def print_page_no(self):\n",
    "        print(self.page_no)"
   ]
  },
  {
   "cell_type": "code",
   "execution_count": 91,
   "id": "b1dde922",
   "metadata": {},
   "outputs": [],
   "source": [
    "lalit=book(\"DSA\",\"Practical DSA\",456)\n",
    "ronik=book(\"Data Science\",\"emplementation of data science\",453)\n",
    "jay=book(\"Big DATA\",\"invention with big data\",434)"
   ]
  },
  {
   "cell_type": "code",
   "execution_count": 92,
   "id": "bea21ff9",
   "metadata": {},
   "outputs": [
    {
     "name": "stdout",
     "output_type": "stream",
     "text": [
      "DSA Practical DSA\n"
     ]
    }
   ],
   "source": [
    "lalit.extract_details()"
   ]
  },
  {
   "cell_type": "code",
   "execution_count": 94,
   "id": "a2199dc2",
   "metadata": {},
   "outputs": [
    {
     "name": "stdout",
     "output_type": "stream",
     "text": [
      "Data Science emplementation of data science\n"
     ]
    }
   ],
   "source": [
    "ronik.extract_details()"
   ]
  },
  {
   "cell_type": "code",
   "execution_count": 95,
   "id": "1619ae89",
   "metadata": {},
   "outputs": [
    {
     "name": "stdout",
     "output_type": "stream",
     "text": [
      "Big DATA invention with big data\n"
     ]
    }
   ],
   "source": [
    "jay.extract_details()"
   ]
  },
  {
   "cell_type": "code",
   "execution_count": 96,
   "id": "b0d20004",
   "metadata": {},
   "outputs": [
    {
     "data": {
      "text/plain": [
       "'DSA'"
      ]
     },
     "execution_count": 96,
     "metadata": {},
     "output_type": "execute_result"
    }
   ],
   "source": [
    "lalit.name_of_book"
   ]
  },
  {
   "cell_type": "code",
   "execution_count": 97,
   "id": "af33d66b",
   "metadata": {},
   "outputs": [],
   "source": [
    "class book:\n",
    "    def __init__(self):\n",
    "        self.name_of_book=\"dsa\"\n",
    "        self.titile_of_book=\"dsa advance\"\n",
    "        self.page_no=233\n",
    "    \n",
    "    def extract_details(self):\n",
    "        print(self.name_of_book,self.titile_of_book)\n",
    "    \n",
    "    def print_page_no(self):\n",
    "        print(self.page_no)"
   ]
  },
  {
   "cell_type": "code",
   "execution_count": 98,
   "id": "74cbc889",
   "metadata": {},
   "outputs": [],
   "source": [
    "std1=book()"
   ]
  },
  {
   "cell_type": "code",
   "execution_count": 100,
   "id": "d5a21f48",
   "metadata": {},
   "outputs": [
    {
     "data": {
      "text/plain": [
       "'dsa'"
      ]
     },
     "execution_count": 100,
     "metadata": {},
     "output_type": "execute_result"
    }
   ],
   "source": [
    "std1.name_of_book"
   ]
  },
  {
   "cell_type": "code",
   "execution_count": 101,
   "id": "36813493",
   "metadata": {},
   "outputs": [],
   "source": [
    "std2=book()"
   ]
  },
  {
   "cell_type": "code",
   "execution_count": 102,
   "id": "42a8ef83",
   "metadata": {},
   "outputs": [
    {
     "data": {
      "text/plain": [
       "'dsa'"
      ]
     },
     "execution_count": 102,
     "metadata": {},
     "output_type": "execute_result"
    }
   ],
   "source": [
    "std2.name_of_book"
   ]
  },
  {
   "cell_type": "code",
   "execution_count": 104,
   "id": "75cbc185",
   "metadata": {},
   "outputs": [],
   "source": [
    "class gmail_apps:\n",
    "    def __init__(self,userid,password):\n",
    "        self.userid=userid\n",
    "        self.password=password\n",
    "        self.url=\"https://mail.google.com/mail/u/1/#inbox\"\n",
    "    def login(self):\n",
    "        print(\"Take userid\"+self.userid +\"take password\" + self.password + \"hit url\"+self.url)\n",
    "        print(\"login\")\n",
    "    def read_mail(self):\n",
    "        print(\"read mail for\"+self.userid + \" \" + self.password)\n",
    "        \n",
    "    def reply_mail(self):\n",
    "        print(\"replly mail for\" + self. userid + \"  \" + self.password)"
   ]
  },
  {
   "cell_type": "code",
   "execution_count": 105,
   "id": "9a8422db",
   "metadata": {},
   "outputs": [
    {
     "name": "stdout",
     "output_type": "stream",
     "text": [
      "Take useriduser1take passworduser1passhit urlhttps://mail.google.com/mail/u/1/#inbox\n",
      "login\n"
     ]
    }
   ],
   "source": [
    "user1=gmail_apps(\"user1\",\"user1pass\")\n",
    "user1.login()"
   ]
  },
  {
   "cell_type": "code",
   "execution_count": 106,
   "id": "1f404cca",
   "metadata": {},
   "outputs": [
    {
     "name": "stdout",
     "output_type": "stream",
     "text": [
      "Take useriduser2take passworduser2passhit urlhttps://mail.google.com/mail/u/1/#inbox\n",
      "login\n"
     ]
    }
   ],
   "source": [
    "user2=gmail_apps(\"user2\",\"user2pass\")\n",
    "user2.login()"
   ]
  },
  {
   "cell_type": "code",
   "execution_count": 123,
   "id": "f4d0761b",
   "metadata": {},
   "outputs": [],
   "source": [
    "from functools import reduce\n",
    "class calculator:\n",
    "    \n",
    "    def __init__(self,username):\n",
    "        self.username=username\n",
    "    def add(self,*args):\n",
    "        return self.username, sum(args)\n",
    "    def substraction(self,*args):\n",
    "        return self.username ,reduce(lambda a,b:a-b,args)\n",
    "    def mul(self,*args):\n",
    "        return self.username, reduce(lambda a,b:a*b,args)\n",
    "    def div(self,*args):\n",
    "        return self.username,reduce(lambda a,b:a/b,args)\n",
    "    "
   ]
  },
  {
   "cell_type": "code",
   "execution_count": 129,
   "id": "b04d2d54",
   "metadata": {},
   "outputs": [],
   "source": [
    "lalit=calculator(\"chulbul pande\")"
   ]
  },
  {
   "cell_type": "code",
   "execution_count": 130,
   "id": "ea150f1a",
   "metadata": {},
   "outputs": [
    {
     "data": {
      "text/plain": [
       "('chulbul pande', 25)"
      ]
     },
     "execution_count": 130,
     "metadata": {},
     "output_type": "execute_result"
    }
   ],
   "source": [
    "lalit.add(3,4,5,6,7)"
   ]
  },
  {
   "cell_type": "code",
   "execution_count": 131,
   "id": "2f6102e1",
   "metadata": {},
   "outputs": [
    {
     "data": {
      "text/plain": [
       "('chulbul pande', -19)"
      ]
     },
     "execution_count": 131,
     "metadata": {},
     "output_type": "execute_result"
    }
   ],
   "source": [
    "lalit.substraction(1,2,3,4,5,6)"
   ]
  },
  {
   "cell_type": "code",
   "execution_count": 132,
   "id": "e052ebc4",
   "metadata": {},
   "outputs": [
    {
     "data": {
      "text/plain": [
       "('chulbul pande', 120)"
      ]
     },
     "execution_count": 132,
     "metadata": {},
     "output_type": "execute_result"
    }
   ],
   "source": [
    "lalit.mul(4,5,6)"
   ]
  },
  {
   "cell_type": "code",
   "execution_count": 133,
   "id": "e0855d19",
   "metadata": {},
   "outputs": [],
   "source": [
    "jay=calculator(\"gajani\")\n"
   ]
  },
  {
   "cell_type": "code",
   "execution_count": 134,
   "id": "e6439fc7",
   "metadata": {},
   "outputs": [
    {
     "data": {
      "text/plain": [
       "('gajani', 15)"
      ]
     },
     "execution_count": 134,
     "metadata": {},
     "output_type": "execute_result"
    }
   ],
   "source": [
    "jay.add(1,2,3,4,5)"
   ]
  },
  {
   "cell_type": "code",
   "execution_count": 135,
   "id": "2fb5043b",
   "metadata": {},
   "outputs": [
    {
     "data": {
      "text/plain": [
       "('gajani', 120)"
      ]
     },
     "execution_count": 135,
     "metadata": {},
     "output_type": "execute_result"
    }
   ],
   "source": [
    "jay.mul(4,5,6)"
   ]
  },
  {
   "cell_type": "code",
   "execution_count": null,
   "id": "05a24aa5",
   "metadata": {},
   "outputs": [],
   "source": []
  },
  {
   "cell_type": "code",
   "execution_count": null,
   "id": "42a7547c",
   "metadata": {},
   "outputs": [],
   "source": []
  },
  {
   "cell_type": "code",
   "execution_count": null,
   "id": "5eca321f",
   "metadata": {},
   "outputs": [],
   "source": []
  },
  {
   "cell_type": "code",
   "execution_count": null,
   "id": "ea650d8a",
   "metadata": {},
   "outputs": [],
   "source": []
  },
  {
   "cell_type": "code",
   "execution_count": null,
   "id": "f3ddd601",
   "metadata": {},
   "outputs": [],
   "source": []
  },
  {
   "cell_type": "code",
   "execution_count": null,
   "id": "4f31f2ea",
   "metadata": {},
   "outputs": [],
   "source": []
  },
  {
   "cell_type": "code",
   "execution_count": null,
   "id": "292ffccb",
   "metadata": {},
   "outputs": [],
   "source": []
  },
  {
   "cell_type": "raw",
   "id": "a677f767",
   "metadata": {},
   "source": []
  }
 ],
 "metadata": {
  "kernelspec": {
   "display_name": "Python 3 (ipykernel)",
   "language": "python",
   "name": "python3"
  },
  "language_info": {
   "codemirror_mode": {
    "name": "ipython",
    "version": 3
   },
   "file_extension": ".py",
   "mimetype": "text/x-python",
   "name": "python",
   "nbconvert_exporter": "python",
   "pygments_lexer": "ipython3",
   "version": "3.11.5"
  }
 },
 "nbformat": 4,
 "nbformat_minor": 5
}
