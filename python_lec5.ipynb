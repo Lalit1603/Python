{
 "cells": [
  {
   "cell_type": "code",
   "execution_count": null,
   "id": "5c356dcb",
   "metadata": {},
   "outputs": [],
   "source": []
  },
  {
   "cell_type": "code",
   "execution_count": null,
   "id": "863398e5",
   "metadata": {},
   "outputs": [],
   "source": []
  },
  {
   "cell_type": "code",
   "execution_count": null,
   "id": "7515cd2f",
   "metadata": {},
   "outputs": [],
   "source": [
    "while True:\n",
    "    print(\"this is my first while loop\")"
   ]
  },
  {
   "cell_type": "code",
   "execution_count": 3,
   "id": "09b2a817",
   "metadata": {},
   "outputs": [
    {
     "name": "stdout",
     "output_type": "stream",
     "text": [
      "100 99 98 97 96 95 94 93 92 91 90 89 88 87 86 85 84 83 82 81 80 79 78 77 76 75 74 73 72 71 70 69 68 67 66 65 64 63 62 61 60 59 58 57 56 55 54 53 52 51 50 49 48 47 46 45 44 43 42 41 40 39 38 37 36 35 34 33 32 31 30 29 28 27 26 25 24 23 22 21 20 19 18 17 16 15 14 13 12 11 10 9 8 7 6 5 4 3 2 1 "
     ]
    }
   ],
   "source": [
    "a=100\n",
    "while a>=1:\n",
    "    print(a,end=' ')\n",
    "    a=a-1"
   ]
  },
  {
   "cell_type": "code",
   "execution_count": 1,
   "id": "287ee47b",
   "metadata": {},
   "outputs": [
    {
     "name": "stdout",
     "output_type": "stream",
     "text": [
      "10\n",
      "9\n",
      "8\n",
      "7\n",
      "6\n",
      "5\n",
      "4\n",
      "3\n",
      "2\n",
      "1\n"
     ]
    }
   ],
   "source": [
    "a=10\n",
    "while a>=1:\n",
    "    print(a)\n",
    "    a=a-1"
   ]
  },
  {
   "cell_type": "code",
   "execution_count": 8,
   "id": "09ea0ba8",
   "metadata": {},
   "outputs": [
    {
     "name": "stdout",
     "output_type": "stream",
     "text": [
      "2 3 4 5 6 7 8 9 10 11 \n",
      " 55\n"
     ]
    }
   ],
   "source": [
    "sum=0\n",
    "n=1\n",
    "t=10\n",
    "while n<=t:\n",
    "    sum=sum+n\n",
    "    n=n+1\n",
    "    print(n,end=' ')\n",
    "print('\\n',sum)"
   ]
  },
  {
   "cell_type": "code",
   "execution_count": 13,
   "id": "5314a1a4",
   "metadata": {},
   "outputs": [
    {
     "name": "stdout",
     "output_type": "stream",
     "text": [
      "2 3 4 5 6 \n",
      " 120\n"
     ]
    }
   ],
   "source": [
    "product=1\n",
    "n=1\n",
    "t=5\n",
    "while n<=t:\n",
    "    product*=n\n",
    "    n=n+1\n",
    "    print(n,end=' ')\n",
    "print('\\n',product)"
   ]
  },
  {
   "cell_type": "code",
   "execution_count": 20,
   "id": "e76aaaf3",
   "metadata": {},
   "outputs": [
    {
     "name": "stdout",
     "output_type": "stream",
     "text": [
      "Enter the Which Number Table you Want:-90\n",
      "90 X 1 = 90\n",
      "90 X 2 = 180\n",
      "90 X 3 = 270\n",
      "90 X 4 = 360\n",
      "90 X 5 = 450\n",
      "90 X 6 = 540\n",
      "90 X 7 = 630\n",
      "90 X 8 = 720\n",
      "90 X 9 = 810\n",
      "90 X 10 = 900\n"
     ]
    }
   ],
   "source": [
    "#table using while loop\n",
    "no=int(input(\"Enter the Which Number Table you Want:-\"))\n",
    "n=1\n",
    "while n<=10:\n",
    "    print(no,\"X\",n,\"=\",no*n)\n",
    "    n=n+1\n",
    "    "
   ]
  },
  {
   "cell_type": "code",
   "execution_count": 18,
   "id": "2c144957",
   "metadata": {},
   "outputs": [
    {
     "name": "stdout",
     "output_type": "stream",
     "text": [
      "Enter the Which Number Table you Want:-90\n",
      "90 X 1 = 90\n",
      "90 X 2 = 180\n",
      "90 X 3 = 270\n",
      "90 X 4 = 360\n",
      "90 X 5 = 450\n",
      "90 X 6 = 540\n",
      "90 X 7 = 630\n",
      "90 X 8 = 720\n",
      "90 X 9 = 810\n",
      "90 X 10 = 900\n"
     ]
    }
   ],
   "source": [
    "#table using for loop\n",
    "no=int(input(\"Enter the Which Number Table you Want:-\"))\n",
    "for i in range(1,11):\n",
    "    print(no,\"X\",i,\"=\",no*i)"
   ]
  },
  {
   "cell_type": "code",
   "execution_count": 23,
   "id": "e26b71b2",
   "metadata": {},
   "outputs": [
    {
     "name": "stdout",
     "output_type": "stream",
     "text": [
      "10\n",
      "9\n",
      "8\n",
      "7\n",
      "6\n",
      "5\n",
      "4\n",
      "3\n",
      "2\n",
      "1\n",
      "break time is over\n"
     ]
    }
   ],
   "source": [
    "import time\n",
    "s=10\n",
    "while s>0:\n",
    "    print(s)\n",
    "    time.sleep(1)\n",
    "    s=s-1\n",
    "print(\"break time is over\")"
   ]
  },
  {
   "cell_type": "code",
   "execution_count": 2,
   "id": "dc463acb",
   "metadata": {},
   "outputs": [
    {
     "name": "stdout",
     "output_type": "stream",
     "text": [
      "20\n",
      "enter your choice(1.biscuit,2.chips,3.redbull,4.chips)3\n",
      "take your redbul\n",
      "10\n",
      "enter your choice(1.biscuit,2.chips,3.redbull,4.chips)2\n",
      "take your chips\n",
      "5\n",
      "enter your choice(1.biscuit,2.chips,3.redbull,4.chips)1\n",
      "take your biscuit\n"
     ]
    }
   ],
   "source": [
    "money_in_hand=20\n",
    "while money_in_hand>=5:\n",
    "    print(money_in_hand)\n",
    "    choice=int(input(\"enter your choice(1.biscuit,2.chips,3.redbull,4.chips)\"))\n",
    "    if choice==1:\n",
    "        print(\"take your biscuit\")\n",
    "        money_in_hand = money_in_hand -4\n",
    "    elif choice==2:\n",
    "        print(\"take your chips\")\n",
    "        money_in_hand-=5\n",
    "    elif choice==3:\n",
    "        print(\"take your redbul\")\n",
    "        money_in_hand-=10\n",
    "    elif choice==4:\n",
    "        print(\"take your coke\")\n",
    "        money_in_hand-=8\n",
    "    else:\n",
    "        print(\"you have not entered the correct choice\")\n"
   ]
  },
  {
   "cell_type": "code",
   "execution_count": 4,
   "id": "8c1af533",
   "metadata": {},
   "outputs": [
    {
     "name": "stdout",
     "output_type": "stream",
     "text": [
      "10\n",
      "9\n",
      "8\n",
      "7\n",
      "your time is over at 7\n",
      "break time is over\n"
     ]
    }
   ],
   "source": [
    "import time\n",
    "s=10\n",
    "while s>0:\n",
    "    print(s)\n",
    "    if s==7:\n",
    "        print(\"your time is over at 7\")\n",
    "        break\n",
    "        \n",
    "    else:\n",
    "        time.sleep(1)\n",
    "        s=s-1\n",
    "    \n",
    "print(\"break time is over\")"
   ]
  },
  {
   "cell_type": "code",
   "execution_count": 1,
   "id": "7e412099",
   "metadata": {},
   "outputs": [
    {
     "name": "stdout",
     "output_type": "stream",
     "text": [
      "enter s to stop the timer\n",
      "enter s for stopa\n",
      "enter s to stop the timer\n",
      "enter s for stopb\n",
      "enter s to stop the timer\n",
      "enter s for stops\n",
      "start the class break is over\n"
     ]
    }
   ],
   "source": [
    "import time\n",
    "stop=False\n",
    "while not stop:\n",
    "    print(\"enter s to stop the timer\")\n",
    "    time.sleep(1)\n",
    "    press_stop=input(\"enter s for stop\")\n",
    "    \n",
    "    if press_stop.lower() =='s':\n",
    "        stop=True\n",
    "print(\"start the class break is over\")"
   ]
  },
  {
   "cell_type": "code",
   "execution_count": 1,
   "id": "0db0f32a",
   "metadata": {},
   "outputs": [
    {
     "name": "stdout",
     "output_type": "stream",
     "text": [
      "enteer your user id for accountlalit@123\n",
      "enter your password for respective user idaasda\n",
      "enter your password for respective user idasda\n",
      "enter your password for respective user idlalit11\n",
      "you have logged in succesfully\n"
     ]
    }
   ],
   "source": [
    "#enter a username and password if password enter 3 times wrong it goes to locked\n",
    "user_id=\"lalit@123\"\n",
    "pass_word=\"lalit11\"\n",
    "counter=1\n",
    "user_id_check=False\n",
    "userid=input(\"enteer your user id for account\")\n",
    "while counter <=3:\n",
    "    \n",
    "    if userid==user_id:\n",
    "        user_id_check=True\n",
    "    else:\n",
    "        print(\"Your User id is incorrect try again\")\n",
    "        break\n",
    "    if user_id_check==True:\n",
    "        pswd=input(\"enter your password for respective user id\")\n",
    "        if pswd ==pass_word:\n",
    "             print(\"you have logged in succesfully\")\n",
    "             break\n",
    "        counter=counter+1\n",
    "if counter>3:\n",
    "    print(\"you have attempted maximum times and your account is locked\")\n",
    "        \n",
    "            \n",
    "             \n",
    "        \n",
    "    \n"
   ]
  },
  {
   "cell_type": "code",
   "execution_count": 2,
   "id": "6fca7bb7",
   "metadata": {},
   "outputs": [],
   "source": [
    "#todolist"
   ]
  },
  {
   "cell_type": "code",
   "execution_count": 3,
   "id": "f75ea68b",
   "metadata": {},
   "outputs": [
    {
     "name": "stdout",
     "output_type": "stream",
     "text": [
      "enter your todo tasktake class\n",
      "enter 'n' id you want to add in todo list or enter 'y' if you dont want to addn\n",
      "enter your todo taskafter a class go for lunch\n",
      "enter 'n' id you want to add in todo list or enter 'y' if you dont want to addn\n",
      "enter your todo taskafter i play freefire game\n",
      "enter 'n' id you want to add in todo list or enter 'y' if you dont want to addn\n",
      "enter your todo taskrest\n",
      "enter 'n' id you want to add in todo list or enter 'y' if you dont want to addy\n",
      "my todo list is ['take class', 'after a class go for lunch', 'after i play freefire game', 'rest']\n"
     ]
    }
   ],
   "source": [
    "todo_list=[]\n",
    "end_of_todo='n'\n",
    "while end_of_todo!='y':\n",
    "    todo_item=input(\"enter your todo task\")\n",
    "    add_todo=todo_list.append(todo_item)\n",
    "    end_of_todo=input(\"enter 'n' id you want to add in todo list or enter 'y' if you dont want to add\")\n",
    "print(\"my todo list is\",todo_list)"
   ]
  },
  {
   "cell_type": "code",
   "execution_count": 1,
   "id": "e8bb4200",
   "metadata": {},
   "outputs": [],
   "source": [
    "#recursion examples"
   ]
  },
  {
   "cell_type": "code",
   "execution_count": 9,
   "id": "5d86d3b9",
   "metadata": {},
   "outputs": [],
   "source": [
    "#factorial of a number\n",
    "def factorial_of_num(n):\n",
    "    if n==0:\n",
    "        return 1\n",
    "    else:\n",
    "        return n*factorial_of_num(n-1)"
   ]
  },
  {
   "cell_type": "code",
   "execution_count": 10,
   "id": "002f7318",
   "metadata": {},
   "outputs": [
    {
     "data": {
      "text/plain": [
       "120"
      ]
     },
     "execution_count": 10,
     "metadata": {},
     "output_type": "execute_result"
    }
   ],
   "source": [
    "factorial_of_num(5)"
   ]
  },
  {
   "cell_type": "code",
   "execution_count": 13,
   "id": "05018797",
   "metadata": {},
   "outputs": [],
   "source": [
    "def fib(n):\n",
    "    if n<=1:\n",
    "        return n\n",
    "    else:\n",
    "        return fib(n-2)+fib(n-1)"
   ]
  },
  {
   "cell_type": "code",
   "execution_count": 14,
   "id": "b4e5b4b0",
   "metadata": {},
   "outputs": [
    {
     "data": {
      "text/plain": [
       "2"
      ]
     },
     "execution_count": 14,
     "metadata": {},
     "output_type": "execute_result"
    }
   ],
   "source": [
    "fib(3)"
   ]
  },
  {
   "cell_type": "code",
   "execution_count": 16,
   "id": "8efec32c",
   "metadata": {},
   "outputs": [
    {
     "data": {
      "text/plain": [
       "5"
      ]
     },
     "execution_count": 16,
     "metadata": {},
     "output_type": "execute_result"
    }
   ],
   "source": [
    "fib(5)"
   ]
  },
  {
   "cell_type": "code",
   "execution_count": 19,
   "id": "51c9b2b3",
   "metadata": {},
   "outputs": [],
   "source": [
    "n=123121#find sum of digits in a whole number"
   ]
  },
  {
   "cell_type": "code",
   "execution_count": 23,
   "id": "0bf9f540",
   "metadata": {},
   "outputs": [],
   "source": [
    "def get_sum(n):\n",
    "    sum=0\n",
    "    for digit in str(n):\n",
    "        sum+=int(digit)\n",
    "    return sum"
   ]
  },
  {
   "cell_type": "code",
   "execution_count": 24,
   "id": "f607d7f2",
   "metadata": {},
   "outputs": [
    {
     "data": {
      "text/plain": [
       "9"
      ]
     },
     "execution_count": 24,
     "metadata": {},
     "output_type": "execute_result"
    }
   ],
   "source": [
    "get_sum(234)"
   ]
  },
  {
   "cell_type": "code",
   "execution_count": 25,
   "id": "3ed6ea6e",
   "metadata": {},
   "outputs": [
    {
     "data": {
      "text/plain": [
       "3"
      ]
     },
     "execution_count": 25,
     "metadata": {},
     "output_type": "execute_result"
    }
   ],
   "source": [
    "123%10"
   ]
  },
  {
   "cell_type": "code",
   "execution_count": 26,
   "id": "aa31cdc0",
   "metadata": {},
   "outputs": [
    {
     "data": {
      "text/plain": [
       "0"
      ]
     },
     "execution_count": 26,
     "metadata": {},
     "output_type": "execute_result"
    }
   ],
   "source": [
    "100%10"
   ]
  },
  {
   "cell_type": "code",
   "execution_count": 27,
   "id": "01fa777e",
   "metadata": {},
   "outputs": [
    {
     "data": {
      "text/plain": [
       "12"
      ]
     },
     "execution_count": 27,
     "metadata": {},
     "output_type": "execute_result"
    }
   ],
   "source": [
    "123//10"
   ]
  },
  {
   "cell_type": "code",
   "execution_count": null,
   "id": "d71ada85",
   "metadata": {},
   "outputs": [],
   "source": []
  },
  {
   "cell_type": "code",
   "execution_count": 29,
   "id": "350e7a91",
   "metadata": {},
   "outputs": [
    {
     "data": {
      "text/plain": [
       "6"
      ]
     },
     "execution_count": 29,
     "metadata": {},
     "output_type": "execute_result"
    }
   ],
   "source": [
    "def get_sum(n):\n",
    "    sum=0\n",
    "    while n!=0:\n",
    "        d=n%10\n",
    "        sum=sum+d\n",
    "        n=n//10\n",
    "    return sum\n",
    "get_sum(123)\n",
    "    "
   ]
  },
  {
   "cell_type": "code",
   "execution_count": 30,
   "id": "aea6f161",
   "metadata": {},
   "outputs": [],
   "source": [
    "def sum_digit(n):\n",
    "    if n<=9:\n",
    "        return n\n",
    "    else:\n",
    "        return n%10+sum_digit(n//10)"
   ]
  },
  {
   "cell_type": "code",
   "execution_count": 31,
   "id": "ca2f759f",
   "metadata": {},
   "outputs": [
    {
     "data": {
      "text/plain": [
       "9"
      ]
     },
     "execution_count": 31,
     "metadata": {},
     "output_type": "execute_result"
    }
   ],
   "source": [
    "sum_digit(234)"
   ]
  },
  {
   "cell_type": "code",
   "execution_count": 32,
   "id": "a6cb6c04",
   "metadata": {},
   "outputs": [
    {
     "data": {
      "text/plain": [
       "2"
      ]
     },
     "execution_count": 32,
     "metadata": {},
     "output_type": "execute_result"
    }
   ],
   "source": [
    "sum_digit(11)"
   ]
  },
  {
   "cell_type": "code",
   "execution_count": 33,
   "id": "e1f62179",
   "metadata": {},
   "outputs": [],
   "source": [
    "l=[3,4,5,6,76]"
   ]
  },
  {
   "cell_type": "code",
   "execution_count": 34,
   "id": "43661a94",
   "metadata": {},
   "outputs": [
    {
     "data": {
      "text/plain": [
       "76"
      ]
     },
     "execution_count": 34,
     "metadata": {},
     "output_type": "execute_result"
    }
   ],
   "source": [
    "max(l)"
   ]
  },
  {
   "cell_type": "code",
   "execution_count": 41,
   "id": "f48c6160",
   "metadata": {},
   "outputs": [],
   "source": [
    "def max_find(l):\n",
    "    if len(l)==1:\n",
    "        return l[0]\n",
    "    else:\n",
    "        return max(l[0],max_find(l[1:]))"
   ]
  },
  {
   "cell_type": "code",
   "execution_count": 42,
   "id": "83dc33f9",
   "metadata": {},
   "outputs": [
    {
     "data": {
      "text/plain": [
       "244"
      ]
     },
     "execution_count": 42,
     "metadata": {},
     "output_type": "execute_result"
    }
   ],
   "source": [
    "max_find([1,244,22,99])"
   ]
  },
  {
   "cell_type": "code",
   "execution_count": 43,
   "id": "5304a1e6",
   "metadata": {},
   "outputs": [
    {
     "data": {
      "text/plain": [
       "25"
      ]
     },
     "execution_count": 43,
     "metadata": {},
     "output_type": "execute_result"
    }
   ],
   "source": [
    "5**2"
   ]
  },
  {
   "cell_type": "code",
   "execution_count": 44,
   "id": "e0ed1b76",
   "metadata": {},
   "outputs": [
    {
     "data": {
      "text/plain": [
       "3125"
      ]
     },
     "execution_count": 44,
     "metadata": {},
     "output_type": "execute_result"
    }
   ],
   "source": [
    "5**5"
   ]
  },
  {
   "cell_type": "code",
   "execution_count": 45,
   "id": "e1140e12",
   "metadata": {},
   "outputs": [
    {
     "data": {
      "text/plain": [
       "3125"
      ]
     },
     "execution_count": 45,
     "metadata": {},
     "output_type": "execute_result"
    }
   ],
   "source": [
    "pow(5,5)"
   ]
  },
  {
   "cell_type": "code",
   "execution_count": 46,
   "id": "d592bf86",
   "metadata": {},
   "outputs": [],
   "source": [
    "def power_fun(n,k):\n",
    "    if k==0:\n",
    "        return 1\n",
    "    else:\n",
    "        return n *power_fun(n,k-1)"
   ]
  },
  {
   "cell_type": "code",
   "execution_count": 47,
   "id": "ce9d490b",
   "metadata": {},
   "outputs": [
    {
     "data": {
      "text/plain": [
       "3125"
      ]
     },
     "execution_count": 47,
     "metadata": {},
     "output_type": "execute_result"
    }
   ],
   "source": [
    "power_fun(5,5)"
   ]
  },
  {
   "cell_type": "code",
   "execution_count": null,
   "id": "9235be7b",
   "metadata": {},
   "outputs": [],
   "source": []
  }
 ],
 "metadata": {
  "kernelspec": {
   "display_name": "Python 3 (ipykernel)",
   "language": "python",
   "name": "python3"
  },
  "language_info": {
   "codemirror_mode": {
    "name": "ipython",
    "version": 3
   },
   "file_extension": ".py",
   "mimetype": "text/x-python",
   "name": "python",
   "nbconvert_exporter": "python",
   "pygments_lexer": "ipython3",
   "version": "3.11.5"
  }
 },
 "nbformat": 4,
 "nbformat_minor": 5
}
