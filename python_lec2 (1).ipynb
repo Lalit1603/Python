{
 "cells": [
  {
   "cell_type": "code",
   "execution_count": 1,
   "id": "ffa868ae",
   "metadata": {},
   "outputs": [
    {
     "ename": "NameError",
     "evalue": "name 'messagee' is not defined",
     "output_type": "error",
     "traceback": [
      "\u001b[1;31m---------------------------------------------------------------------------\u001b[0m",
      "\u001b[1;31mNameError\u001b[0m                                 Traceback (most recent call last)",
      "Cell \u001b[1;32mIn[1], line 4\u001b[0m\n\u001b[0;32m      2\u001b[0m     message\u001b[38;5;241m=\u001b[39m\u001b[38;5;124m\"\u001b[39m\u001b[38;5;124mHello\u001b[39m\u001b[38;5;124m\"\u001b[39m\n\u001b[0;32m      3\u001b[0m     \u001b[38;5;28mprint\u001b[39m(\u001b[38;5;124m\"\u001b[39m\u001b[38;5;124mlocal\u001b[39m\u001b[38;5;124m\"\u001b[39m,messsage)\n\u001b[1;32m----> 4\u001b[0m \u001b[38;5;28mprint\u001b[39m(messagee)\n",
      "\u001b[1;31mNameError\u001b[0m: name 'messagee' is not defined"
     ]
    }
   ],
   "source": [
    "def greet():\n",
    "    message=\"Hello\"\n",
    "    print(\"local\",messsage)\n",
    "print(messagee)"
   ]
  },
  {
   "cell_type": "code",
   "execution_count": 2,
   "id": "10d73983",
   "metadata": {},
   "outputs": [
    {
     "ename": "NameError",
     "evalue": "name 'x' is not defined",
     "output_type": "error",
     "traceback": [
      "\u001b[1;31m---------------------------------------------------------------------------\u001b[0m",
      "\u001b[1;31mNameError\u001b[0m                                 Traceback (most recent call last)",
      "Cell \u001b[1;32mIn[2], line 5\u001b[0m\n\u001b[0;32m      3\u001b[0m     y\u001b[38;5;241m=\u001b[39m\u001b[38;5;241m30\u001b[39m\n\u001b[0;32m      4\u001b[0m     \u001b[38;5;28mprint\u001b[39m(x\u001b[38;5;241m+\u001b[39my)\n\u001b[1;32m----> 5\u001b[0m \u001b[38;5;28mprint\u001b[39m(x)\n\u001b[0;32m      6\u001b[0m \u001b[38;5;28mprint\u001b[39m(y)\n",
      "\u001b[1;31mNameError\u001b[0m: name 'x' is not defined"
     ]
    }
   ],
   "source": [
    "def add():\n",
    "    x=20\n",
    "    y=30\n",
    "    print(x+y)\n",
    "print(x)\n",
    "print(y)"
   ]
  },
  {
   "cell_type": "code",
   "execution_count": 6,
   "id": "a786f629",
   "metadata": {},
   "outputs": [
    {
     "name": "stdout",
     "output_type": "stream",
     "text": [
      "python isfantastic\n",
      "awesome\n"
     ]
    }
   ],
   "source": [
    "#globalscope\n",
    "x=\"awesome\"\n",
    "\n",
    "def myfunc():\n",
    "    #localscope\n",
    "    x=\"fantastic\"\n",
    "    print(\"python is\"+x)\n",
    "myfunc()\n",
    "print(x)"
   ]
  },
  {
   "cell_type": "code",
   "execution_count": 11,
   "id": "c184b38a",
   "metadata": {},
   "outputs": [
    {
     "name": "stdout",
     "output_type": "stream",
     "text": [
      "local variable y= 30\n",
      "globa variable x= 20\n",
      "50\n",
      "==================================================\n",
      "local variable m= 10\n",
      "global variable x= 20\n",
      "10\n"
     ]
    }
   ],
   "source": [
    "x=20\n",
    "def add():\n",
    "    y=30\n",
    "    print(\"local variable y=\",y)\n",
    "    print('globa variable x=',x)\n",
    "    z=x+y\n",
    "    print(z)\n",
    "    print(\"=\"*50)\n",
    "def sub():\n",
    "    m=10\n",
    "    print(\"local variable m=\",m)\n",
    "    print(\"global variable x=\",x)\n",
    "    a=x-m\n",
    "    print(a)\n",
    "add()\n",
    "sub()"
   ]
  },
  {
   "cell_type": "code",
   "execution_count": 13,
   "id": "19093b1a",
   "metadata": {},
   "outputs": [],
   "source": [
    "#python function arguments"
   ]
  },
  {
   "cell_type": "code",
   "execution_count": 17,
   "id": "f3715dab",
   "metadata": {},
   "outputs": [
    {
     "name": "stdout",
     "output_type": "stream",
     "text": [
      "sum 11\n"
     ]
    }
   ],
   "source": [
    "def add_numbers(a,b):\n",
    "    sum=a+b\n",
    "    print(\"sum\",sum)\n",
    "add_numbers(5,6)\n"
   ]
  },
  {
   "cell_type": "code",
   "execution_count": 18,
   "id": "e7530d13",
   "metadata": {},
   "outputs": [],
   "source": [
    "def my_name(name):\n",
    "    print(\"my name is\",name)"
   ]
  },
  {
   "cell_type": "code",
   "execution_count": 19,
   "id": "219ed7f4",
   "metadata": {},
   "outputs": [
    {
     "ename": "TypeError",
     "evalue": "my_name() missing 1 required positional argument: 'name'",
     "output_type": "error",
     "traceback": [
      "\u001b[1;31m---------------------------------------------------------------------------\u001b[0m",
      "\u001b[1;31mTypeError\u001b[0m                                 Traceback (most recent call last)",
      "Cell \u001b[1;32mIn[19], line 1\u001b[0m\n\u001b[1;32m----> 1\u001b[0m my_name()\n",
      "\u001b[1;31mTypeError\u001b[0m: my_name() missing 1 required positional argument: 'name'"
     ]
    }
   ],
   "source": [
    "my_name()"
   ]
  },
  {
   "cell_type": "code",
   "execution_count": 20,
   "id": "20441270",
   "metadata": {},
   "outputs": [
    {
     "name": "stdout",
     "output_type": "stream",
     "text": [
      "my name is lalit\n"
     ]
    }
   ],
   "source": [
    "my_name(\"lalit\")"
   ]
  },
  {
   "cell_type": "code",
   "execution_count": 30,
   "id": "4c5ef394",
   "metadata": {},
   "outputs": [],
   "source": [
    "def add_numbers(a=4,b=8):\n",
    "    sum=a+b\n",
    "    print(\"sum\",sum)"
   ]
  },
  {
   "cell_type": "code",
   "execution_count": 22,
   "id": "9b9789a1",
   "metadata": {},
   "outputs": [
    {
     "name": "stdout",
     "output_type": "stream",
     "text": [
      "sum 12\n"
     ]
    }
   ],
   "source": [
    "add_numbers()"
   ]
  },
  {
   "cell_type": "code",
   "execution_count": 23,
   "id": "ac014375",
   "metadata": {},
   "outputs": [
    {
     "name": "stdout",
     "output_type": "stream",
     "text": [
      "sum 10\n"
     ]
    }
   ],
   "source": [
    "add_numbers(2,8)"
   ]
  },
  {
   "cell_type": "code",
   "execution_count": 24,
   "id": "0d27e5a9",
   "metadata": {},
   "outputs": [
    {
     "name": "stdout",
     "output_type": "stream",
     "text": [
      "sum 9\n"
     ]
    }
   ],
   "source": [
    "add_numbers(1)"
   ]
  },
  {
   "cell_type": "code",
   "execution_count": 25,
   "id": "9c75d346",
   "metadata": {},
   "outputs": [
    {
     "name": "stdout",
     "output_type": "stream",
     "text": [
      "sum 5\n"
     ]
    }
   ],
   "source": [
    "add_numbers(b=1)"
   ]
  },
  {
   "cell_type": "code",
   "execution_count": 26,
   "id": "60b44cbd",
   "metadata": {},
   "outputs": [],
   "source": [
    "def emp_name(name=\"pw skills\"):\n",
    "    print(\"my name is \",name)"
   ]
  },
  {
   "cell_type": "code",
   "execution_count": 27,
   "id": "ae6fd19e",
   "metadata": {},
   "outputs": [
    {
     "name": "stdout",
     "output_type": "stream",
     "text": [
      "my name is  pw skills\n"
     ]
    }
   ],
   "source": [
    "emp_name()"
   ]
  },
  {
   "cell_type": "code",
   "execution_count": 28,
   "id": "a66c68ed",
   "metadata": {},
   "outputs": [
    {
     "name": "stdout",
     "output_type": "stream",
     "text": [
      "my name is  lalit\n"
     ]
    }
   ],
   "source": [
    "emp_name(\"lalit\")"
   ]
  },
  {
   "cell_type": "code",
   "execution_count": 31,
   "id": "f6addd91",
   "metadata": {},
   "outputs": [],
   "source": [
    "#keyword arguments"
   ]
  },
  {
   "cell_type": "code",
   "execution_count": 32,
   "id": "468fbfdc",
   "metadata": {},
   "outputs": [
    {
     "name": "stdout",
     "output_type": "stream",
     "text": [
      "first name:- pw\n",
      "last name:- skills\n"
     ]
    }
   ],
   "source": [
    "def display_info(first_name,last_name):\n",
    "    print(\"first name:-\",first_name)\n",
    "    print(\"last name:-\",last_name)\n",
    "display_info(first_name=\"pw\",last_name=\"skills\")"
   ]
  },
  {
   "cell_type": "code",
   "execution_count": 33,
   "id": "04cbabc3",
   "metadata": {},
   "outputs": [
    {
     "name": "stdout",
     "output_type": "stream",
     "text": [
      "first name:- pw\n",
      "last name:- skills\n"
     ]
    }
   ],
   "source": [
    "display_info(last_name=\"skills\",first_name=\"pw\")"
   ]
  },
  {
   "cell_type": "code",
   "execution_count": 34,
   "id": "7d2acbc1",
   "metadata": {},
   "outputs": [
    {
     "name": "stdout",
     "output_type": "stream",
     "text": [
      "sum 11\n"
     ]
    }
   ],
   "source": [
    "def add_numbers(a,b):\n",
    "    sum=a+b\n",
    "    print(\"sum\",sum)\n",
    "add_numbers(a=4,b=7)"
   ]
  },
  {
   "cell_type": "code",
   "execution_count": 36,
   "id": "39e01bb0",
   "metadata": {},
   "outputs": [
    {
     "name": "stdout",
     "output_type": "stream",
     "text": [
      "sum 11\n"
     ]
    }
   ],
   "source": [
    "add_numbers(b=9,a=2)"
   ]
  },
  {
   "cell_type": "code",
   "execution_count": 37,
   "id": "1816df0c",
   "metadata": {},
   "outputs": [
    {
     "name": "stdout",
     "output_type": "stream",
     "text": [
      "sum 10\n"
     ]
    }
   ],
   "source": [
    "def add_numbers(a=4,b=8):\n",
    "    sum=a+b\n",
    "    print(\"sum\",sum)\n",
    "add_numbers(a=5,b=5)"
   ]
  },
  {
   "cell_type": "code",
   "execution_count": 38,
   "id": "5da49d36",
   "metadata": {},
   "outputs": [
    {
     "name": "stdout",
     "output_type": "stream",
     "text": [
      "sum 12\n"
     ]
    }
   ],
   "source": [
    "add_numbers()"
   ]
  },
  {
   "cell_type": "code",
   "execution_count": 39,
   "id": "3545903c",
   "metadata": {},
   "outputs": [
    {
     "name": "stdout",
     "output_type": "stream",
     "text": [
      "sum 88\n"
     ]
    }
   ],
   "source": [
    "add_numbers(a=44,b=44)"
   ]
  },
  {
   "cell_type": "code",
   "execution_count": 40,
   "id": "de00ca30",
   "metadata": {},
   "outputs": [
    {
     "name": "stdout",
     "output_type": "stream",
     "text": [
      "sum 5\n"
     ]
    }
   ],
   "source": [
    "add_numbers(b=1)"
   ]
  },
  {
   "cell_type": "code",
   "execution_count": 44,
   "id": "6eb7c844",
   "metadata": {},
   "outputs": [],
   "source": [
    "def add_numbers(a,b=8):\n",
    "    sum=a+b\n",
    "    print(\"sum\",sum)"
   ]
  },
  {
   "cell_type": "code",
   "execution_count": 45,
   "id": "45c55270",
   "metadata": {},
   "outputs": [
    {
     "ename": "SyntaxError",
     "evalue": "non-default argument follows default argument (2768171517.py, line 1)",
     "output_type": "error",
     "traceback": [
      "\u001b[1;36m  Cell \u001b[1;32mIn[45], line 1\u001b[1;36m\u001b[0m\n\u001b[1;33m    def add_numbers(a=9,b):\u001b[0m\n\u001b[1;37m                        ^\u001b[0m\n\u001b[1;31mSyntaxError\u001b[0m\u001b[1;31m:\u001b[0m non-default argument follows default argument\n"
     ]
    }
   ],
   "source": [
    "def add_numbers(a=9,b):\n",
    "    sum=a+b\n",
    "    print(\"sum\",sum)"
   ]
  },
  {
   "cell_type": "code",
   "execution_count": 46,
   "id": "511ea458",
   "metadata": {},
   "outputs": [],
   "source": [
    "#Rule-: When we use default parameters in the function definition, They must be used as last Parameter(s)\n",
    "#otherwise we get Error( SyntaxError: non-default argument (Possitional ) follows default argument).\n"
   ]
  },
  {
   "cell_type": "code",
   "execution_count": 47,
   "id": "e79a14ea",
   "metadata": {},
   "outputs": [],
   "source": [
    "# *args and **kargs--variable length arguments.\n",
    "# single*-it takes as n number of values\n",
    "# double**-\n"
   ]
  },
  {
   "cell_type": "code",
   "execution_count": 53,
   "id": "321e6afd",
   "metadata": {},
   "outputs": [],
   "source": [
    "def find_sum(*numbers):\n",
    "    result=0\n",
    "    \n",
    "    for num in numbers:\n",
    "        result=result+num\n",
    "    print(\"sum\",result)"
   ]
  },
  {
   "cell_type": "code",
   "execution_count": 54,
   "id": "7745a802",
   "metadata": {},
   "outputs": [
    {
     "name": "stdout",
     "output_type": "stream",
     "text": [
      "sum 0\n"
     ]
    }
   ],
   "source": [
    "find_sum()"
   ]
  },
  {
   "cell_type": "code",
   "execution_count": 55,
   "id": "b3642db5",
   "metadata": {},
   "outputs": [
    {
     "name": "stdout",
     "output_type": "stream",
     "text": [
      "sum 55\n"
     ]
    }
   ],
   "source": [
    "find_sum(1,2,3,4,5,6,7,8,9,10)"
   ]
  },
  {
   "cell_type": "code",
   "execution_count": 56,
   "id": "e6913d62",
   "metadata": {},
   "outputs": [
    {
     "name": "stdout",
     "output_type": "stream",
     "text": [
      "sum 6\n"
     ]
    }
   ],
   "source": [
    "find_sum(1,2,3)"
   ]
  },
  {
   "cell_type": "code",
   "execution_count": 59,
   "id": "b4b401d2",
   "metadata": {},
   "outputs": [],
   "source": [
    "def print_name(*names,a=\"lalit\"):\n",
    "    print(\"name are\",names)\n",
    "    print(a)"
   ]
  },
  {
   "cell_type": "code",
   "execution_count": 60,
   "id": "2721da52",
   "metadata": {},
   "outputs": [
    {
     "name": "stdout",
     "output_type": "stream",
     "text": [
      "name are ('sonu', 'borase')\n",
      "lalit\n"
     ]
    }
   ],
   "source": [
    "print_name(\"sonu\",\"borase\")"
   ]
  },
  {
   "cell_type": "code",
   "execution_count": 62,
   "id": "bd1ff854",
   "metadata": {},
   "outputs": [],
   "source": [
    "def simple(*x):\n",
    "    print(x)"
   ]
  },
  {
   "cell_type": "code",
   "execution_count": 64,
   "id": "0b00b88a",
   "metadata": {},
   "outputs": [
    {
     "name": "stdout",
     "output_type": "stream",
     "text": [
      "()\n"
     ]
    }
   ],
   "source": [
    "simple()"
   ]
  },
  {
   "cell_type": "code",
   "execution_count": 65,
   "id": "e5cccc82",
   "metadata": {},
   "outputs": [
    {
     "name": "stdout",
     "output_type": "stream",
     "text": [
      "(1, 2, 3, 4, 5)\n"
     ]
    }
   ],
   "source": [
    "simple(1,2,3,4,5)"
   ]
  },
  {
   "cell_type": "code",
   "execution_count": 68,
   "id": "d853468b",
   "metadata": {},
   "outputs": [
    {
     "name": "stdout",
     "output_type": "stream",
     "text": [
      "([1, 2, 3, 4, 5],)\n"
     ]
    },
    {
     "data": {
      "text/plain": [
       "NoneType"
      ]
     },
     "execution_count": 68,
     "metadata": {},
     "output_type": "execute_result"
    }
   ],
   "source": [
    "a=simple([1,2,3,4,5])\n",
    "type(a)"
   ]
  },
  {
   "cell_type": "code",
   "execution_count": 70,
   "id": "48f60add",
   "metadata": {},
   "outputs": [
    {
     "name": "stdout",
     "output_type": "stream",
     "text": [
      "(1, 2, 3, 4)\n"
     ]
    },
    {
     "data": {
      "text/plain": [
       "NoneType"
      ]
     },
     "execution_count": 70,
     "metadata": {},
     "output_type": "execute_result"
    }
   ],
   "source": [
    "z=simple(1,2,3,4)\n",
    "type(z)"
   ]
  },
  {
   "cell_type": "code",
   "execution_count": 71,
   "id": "3b7c621d",
   "metadata": {},
   "outputs": [
    {
     "name": "stdout",
     "output_type": "stream",
     "text": [
      "('lalit', 'borase', 1, 2, 4, 'svkm')\n"
     ]
    }
   ],
   "source": [
    "simple(\"lalit\",\"borase\",1,2,4,\"svkm\")"
   ]
  },
  {
   "cell_type": "code",
   "execution_count": 72,
   "id": "17b10198",
   "metadata": {},
   "outputs": [],
   "source": [
    "#**kargs"
   ]
  },
  {
   "cell_type": "code",
   "execution_count": null,
   "id": "21489143",
   "metadata": {},
   "outputs": [],
   "source": []
  },
  {
   "cell_type": "code",
   "execution_count": 81,
   "id": "6f62399d",
   "metadata": {},
   "outputs": [],
   "source": [
    "def intro(**data):\n",
    "    print(\"data type of arguments\",type(data))\n",
    "    for key,value in data.items():\n",
    "        print(key,value)"
   ]
  },
  {
   "cell_type": "code",
   "execution_count": 86,
   "id": "7a0f8c79",
   "metadata": {},
   "outputs": [
    {
     "name": "stdout",
     "output_type": "stream",
     "text": [
      "data type of arguments <class 'dict'>\n",
      "first_name lalit\n",
      "last_name borase\n"
     ]
    }
   ],
   "source": [
    "intro(first_name=\"lalit\",last_name=\"borase\")"
   ]
  },
  {
   "cell_type": "code",
   "execution_count": 82,
   "id": "64042f59",
   "metadata": {},
   "outputs": [],
   "source": [
    "x={'a':1,'b':2}"
   ]
  },
  {
   "cell_type": "code",
   "execution_count": 83,
   "id": "6c912d00",
   "metadata": {},
   "outputs": [
    {
     "name": "stdout",
     "output_type": "stream",
     "text": [
      "a\n",
      "b\n"
     ]
    }
   ],
   "source": [
    "for i in x:\n",
    "    print(i)"
   ]
  },
  {
   "cell_type": "code",
   "execution_count": 84,
   "id": "d058334a",
   "metadata": {},
   "outputs": [
    {
     "name": "stdout",
     "output_type": "stream",
     "text": [
      "a 1\n",
      "b 2\n"
     ]
    }
   ],
   "source": [
    "for keys,value in x.items():\n",
    "    print(keys,value)"
   ]
  },
  {
   "cell_type": "code",
   "execution_count": 85,
   "id": "a9311a97",
   "metadata": {},
   "outputs": [
    {
     "data": {
      "text/plain": [
       "dict_items([('a', 1), ('b', 2)])"
      ]
     },
     "execution_count": 85,
     "metadata": {},
     "output_type": "execute_result"
    }
   ],
   "source": [
    "x.items()"
   ]
  },
  {
   "cell_type": "code",
   "execution_count": 87,
   "id": "62fccc84",
   "metadata": {},
   "outputs": [],
   "source": [
    "def simple1(*x):\n",
    "    print(x)"
   ]
  },
  {
   "cell_type": "code",
   "execution_count": 88,
   "id": "e15088d0",
   "metadata": {},
   "outputs": [
    {
     "name": "stdout",
     "output_type": "stream",
     "text": [
      "(1, 2, 3)\n"
     ]
    }
   ],
   "source": [
    "simple(1,2,3)"
   ]
  },
  {
   "cell_type": "code",
   "execution_count": 89,
   "id": "4b002f52",
   "metadata": {},
   "outputs": [
    {
     "name": "stdout",
     "output_type": "stream",
     "text": [
      "(44, 33, 11, 22)\n"
     ]
    }
   ],
   "source": [
    "simple(44,33,11,22)"
   ]
  },
  {
   "cell_type": "code",
   "execution_count": 90,
   "id": "245bfcdc",
   "metadata": {},
   "outputs": [],
   "source": [
    "def simple2(**x):\n",
    "    print(x)"
   ]
  },
  {
   "cell_type": "code",
   "execution_count": 93,
   "id": "3d8cb4a8",
   "metadata": {},
   "outputs": [
    {
     "name": "stdout",
     "output_type": "stream",
     "text": [
      "{'name': 'lalit', 'surname': 'borase', 'college': 'svkm'}\n"
     ]
    }
   ],
   "source": [
    "simple2(name=\"lalit\",surname=\"borase\",college=\"svkm\")"
   ]
  },
  {
   "cell_type": "code",
   "execution_count": 103,
   "id": "4debccf0",
   "metadata": {},
   "outputs": [],
   "source": [
    "def demo1(*x):\n",
    "    print(x)\n",
    "    print(x[1])"
   ]
  },
  {
   "cell_type": "code",
   "execution_count": 104,
   "id": "315272d5",
   "metadata": {},
   "outputs": [
    {
     "name": "stdout",
     "output_type": "stream",
     "text": [
      "(1, 3, 5, 6)\n",
      "3\n"
     ]
    }
   ],
   "source": [
    "demo1(1,3,5,6)"
   ]
  },
  {
   "cell_type": "code",
   "execution_count": 96,
   "id": "8eedbdca",
   "metadata": {},
   "outputs": [
    {
     "name": "stdout",
     "output_type": "stream",
     "text": [
      "('lalit', 'borase', 1, 2, 3)\n"
     ]
    }
   ],
   "source": [
    "demo1(\"lalit\",\"borase\",1,2,3)"
   ]
  },
  {
   "cell_type": "code",
   "execution_count": 97,
   "id": "c2850c32",
   "metadata": {},
   "outputs": [
    {
     "name": "stdout",
     "output_type": "stream",
     "text": [
      "(1,)\n"
     ]
    }
   ],
   "source": [
    "demo1(1)"
   ]
  },
  {
   "cell_type": "code",
   "execution_count": 98,
   "id": "3f9ebdc0",
   "metadata": {},
   "outputs": [],
   "source": [
    "def demo1(**x):\n",
    "    print(x)"
   ]
  },
  {
   "cell_type": "code",
   "execution_count": 99,
   "id": "df054c57",
   "metadata": {},
   "outputs": [
    {
     "name": "stdout",
     "output_type": "stream",
     "text": [
      "{'x': 'lalit'}\n"
     ]
    }
   ],
   "source": [
    "demo1(x=\"lalit\")"
   ]
  },
  {
   "cell_type": "code",
   "execution_count": 100,
   "id": "281cb5d0",
   "metadata": {},
   "outputs": [
    {
     "name": "stdout",
     "output_type": "stream",
     "text": [
      "{'x': 'lalit', 'y': 'borase'}\n"
     ]
    }
   ],
   "source": [
    "demo1(x=\"lalit\",y=\"borase\")"
   ]
  },
  {
   "cell_type": "code",
   "execution_count": 101,
   "id": "aa387578",
   "metadata": {},
   "outputs": [
    {
     "ename": "TypeError",
     "evalue": "demo1() takes 0 positional arguments but 1 was given",
     "output_type": "error",
     "traceback": [
      "\u001b[1;31m---------------------------------------------------------------------------\u001b[0m",
      "\u001b[1;31mTypeError\u001b[0m                                 Traceback (most recent call last)",
      "Cell \u001b[1;32mIn[101], line 1\u001b[0m\n\u001b[1;32m----> 1\u001b[0m demo1(x)\n",
      "\u001b[1;31mTypeError\u001b[0m: demo1() takes 0 positional arguments but 1 was given"
     ]
    }
   ],
   "source": [
    "demo1(x)"
   ]
  },
  {
   "cell_type": "code",
   "execution_count": 105,
   "id": "f776bfb8",
   "metadata": {},
   "outputs": [],
   "source": [
    "# in variable length 1.*args 2.**kargs we pass n number of arguments but in case 1 we pass value but in 2nd\n",
    "#case we pass n number of values but in the format of key value pair"
   ]
  },
  {
   "cell_type": "code",
   "execution_count": 106,
   "id": "504ec5f5",
   "metadata": {},
   "outputs": [],
   "source": [
    "#lambda functions"
   ]
  },
  {
   "cell_type": "code",
   "execution_count": 107,
   "id": "baacb031",
   "metadata": {},
   "outputs": [
    {
     "data": {
      "text/plain": [
       "<function __main__.<lambda>()>"
      ]
     },
     "execution_count": 107,
     "metadata": {},
     "output_type": "execute_result"
    }
   ],
   "source": [
    "lambda:print(\"Hello World\")"
   ]
  },
  {
   "cell_type": "code",
   "execution_count": 109,
   "id": "4e04a293",
   "metadata": {},
   "outputs": [
    {
     "name": "stdout",
     "output_type": "stream",
     "text": [
      "Hello World\n",
      "<class 'function'>\n"
     ]
    }
   ],
   "source": [
    "x=lambda:print(\"Hello World\")\n",
    "x()\n",
    "print(type(x))"
   ]
  },
  {
   "cell_type": "code",
   "execution_count": 110,
   "id": "b39b7608",
   "metadata": {},
   "outputs": [],
   "source": [
    "a=lambda a,b:a+b"
   ]
  },
  {
   "cell_type": "code",
   "execution_count": 112,
   "id": "9fd8677b",
   "metadata": {},
   "outputs": [
    {
     "data": {
      "text/plain": [
       "11"
      ]
     },
     "execution_count": 112,
     "metadata": {},
     "output_type": "execute_result"
    }
   ],
   "source": [
    "a(8,3)"
   ]
  },
  {
   "cell_type": "code",
   "execution_count": 113,
   "id": "49f656ec",
   "metadata": {},
   "outputs": [],
   "source": [
    "addnum=lambda a,b,c:a+b+c"
   ]
  },
  {
   "cell_type": "code",
   "execution_count": 115,
   "id": "a0fa24a6",
   "metadata": {},
   "outputs": [
    {
     "data": {
      "text/plain": [
       "15"
      ]
     },
     "execution_count": 115,
     "metadata": {},
     "output_type": "execute_result"
    }
   ],
   "source": [
    "addnum(4,5,6)"
   ]
  },
  {
   "cell_type": "code",
   "execution_count": 1,
   "id": "76c698cd",
   "metadata": {},
   "outputs": [
    {
     "name": "stdout",
     "output_type": "stream",
     "text": [
      "Enter a 1st No:-2\n",
      "Enter a 2nd No:-4\n",
      "(4, 16)\n"
     ]
    }
   ],
   "source": [
    "a=int(input(\"Enter a 1st No:-\"))\n",
    "b=int(input(\"Enter a 2nd No:-\"))\n",
    "c=lambda a,b:(a**2,b**2)\n",
    "print(c(a,b))"
   ]
  },
  {
   "cell_type": "code",
   "execution_count": 4,
   "id": "5f419a1b",
   "metadata": {},
   "outputs": [],
   "source": [
    "def evenodd(n):\n",
    "    if n%2==0:\n",
    "        print(\"number is even\")\n",
    "    else:\n",
    "        print(\"number is odd\")\n",
    "    "
   ]
  },
  {
   "cell_type": "code",
   "execution_count": 6,
   "id": "2bd5be44",
   "metadata": {},
   "outputs": [
    {
     "name": "stdout",
     "output_type": "stream",
     "text": [
      "number is odd\n"
     ]
    }
   ],
   "source": [
    "evenodd(23)"
   ]
  },
  {
   "cell_type": "code",
   "execution_count": 7,
   "id": "43e39073",
   "metadata": {},
   "outputs": [],
   "source": [
    "x=lambda n:\"True\" if n%2==0 else \"False\""
   ]
  },
  {
   "cell_type": "code",
   "execution_count": 8,
   "id": "ac79eb42",
   "metadata": {},
   "outputs": [
    {
     "data": {
      "text/plain": [
       "'False'"
      ]
     },
     "execution_count": 8,
     "metadata": {},
     "output_type": "execute_result"
    }
   ],
   "source": [
    "x(3)"
   ]
  },
  {
   "cell_type": "code",
   "execution_count": 9,
   "id": "531aa8e0",
   "metadata": {},
   "outputs": [
    {
     "data": {
      "text/plain": [
       "'True'"
      ]
     },
     "execution_count": 9,
     "metadata": {},
     "output_type": "execute_result"
    }
   ],
   "source": [
    "x(80)"
   ]
  },
  {
   "cell_type": "code",
   "execution_count": 10,
   "id": "a5d9bd68",
   "metadata": {},
   "outputs": [],
   "source": [
    "x=lambda n:\"Number is even\" if n%2==0 else \"Number is Odd\""
   ]
  },
  {
   "cell_type": "code",
   "execution_count": 11,
   "id": "30b2c9d1",
   "metadata": {},
   "outputs": [
    {
     "data": {
      "text/plain": [
       "'Number is Odd'"
      ]
     },
     "execution_count": 11,
     "metadata": {},
     "output_type": "execute_result"
    }
   ],
   "source": [
    "x(9)"
   ]
  },
  {
   "cell_type": "code",
   "execution_count": 12,
   "id": "26a3b50d",
   "metadata": {},
   "outputs": [
    {
     "data": {
      "text/plain": [
       "'Number is even'"
      ]
     },
     "execution_count": 12,
     "metadata": {},
     "output_type": "execute_result"
    }
   ],
   "source": [
    "x(4)"
   ]
  },
  {
   "cell_type": "code",
   "execution_count": 13,
   "id": "5ce09dc1",
   "metadata": {},
   "outputs": [],
   "source": [
    "#write a lambda function that accept 2 args and return greater among them"
   ]
  },
  {
   "cell_type": "code",
   "execution_count": 15,
   "id": "307b953c",
   "metadata": {},
   "outputs": [],
   "source": [
    "gretest_num=lambda a,b:a if a>b else b\n"
   ]
  },
  {
   "cell_type": "code",
   "execution_count": 16,
   "id": "ccd34ca3",
   "metadata": {},
   "outputs": [
    {
     "data": {
      "text/plain": [
       "19"
      ]
     },
     "execution_count": 16,
     "metadata": {},
     "output_type": "execute_result"
    }
   ],
   "source": [
    "gretest_num(19,4)"
   ]
  },
  {
   "cell_type": "code",
   "execution_count": 17,
   "id": "bcd30c68",
   "metadata": {},
   "outputs": [],
   "source": [
    "sum=lambda a,b:(a+b)"
   ]
  },
  {
   "cell_type": "code",
   "execution_count": 18,
   "id": "cae80dd2",
   "metadata": {},
   "outputs": [
    {
     "data": {
      "text/plain": [
       "110"
      ]
     },
     "execution_count": 18,
     "metadata": {},
     "output_type": "execute_result"
    }
   ],
   "source": [
    "sum(88,22)"
   ]
  },
  {
   "cell_type": "code",
   "execution_count": 20,
   "id": "040f6d1d",
   "metadata": {},
   "outputs": [],
   "source": [
    "#sorted on the bases of price\n",
    "products=[\n",
    "    {'name':'product1','price':50},\n",
    "    {'name':'product2','price':40},\n",
    "    {'name':'product3','price':30},\n",
    "    {'name':'product4','price':80}\n",
    "]\n",
    "#sorted()\n",
    "sorted_product = sorted(products,key=lambda x:x['price'])"
   ]
  },
  {
   "cell_type": "code",
   "execution_count": 21,
   "id": "ffb06db0",
   "metadata": {},
   "outputs": [
    {
     "name": "stdout",
     "output_type": "stream",
     "text": [
      "{'name': 'product3', 'price': 30}\n",
      "{'name': 'product2', 'price': 40}\n",
      "{'name': 'product1', 'price': 50}\n",
      "{'name': 'product4', 'price': 80}\n"
     ]
    }
   ],
   "source": [
    "for i in sorted_product:\n",
    "    print(i)"
   ]
  },
  {
   "cell_type": "code",
   "execution_count": 22,
   "id": "54f632da",
   "metadata": {},
   "outputs": [],
   "source": [
    "x={'name':'product1','price':50}"
   ]
  },
  {
   "cell_type": "code",
   "execution_count": 23,
   "id": "f056fc5f",
   "metadata": {},
   "outputs": [],
   "source": [
    "key=lambda x:x['price']"
   ]
  },
  {
   "cell_type": "code",
   "execution_count": 24,
   "id": "60a81af9",
   "metadata": {},
   "outputs": [
    {
     "data": {
      "text/plain": [
       "<function __main__.<lambda>(x)>"
      ]
     },
     "execution_count": 24,
     "metadata": {},
     "output_type": "execute_result"
    }
   ],
   "source": [
    "key"
   ]
  },
  {
   "cell_type": "code",
   "execution_count": 25,
   "id": "942e93d5",
   "metadata": {},
   "outputs": [
    {
     "data": {
      "text/plain": [
       "50"
      ]
     },
     "execution_count": 25,
     "metadata": {},
     "output_type": "execute_result"
    }
   ],
   "source": [
    "x['price']"
   ]
  },
  {
   "cell_type": "code",
   "execution_count": 26,
   "id": "a8cdc29d",
   "metadata": {},
   "outputs": [],
   "source": [
    "#write a lambda expression accept a char as argument and return true if it is a vowel other false\n",
    "lalit\n",
    " a i"
   ]
  },
  {
   "cell_type": "code",
   "execution_count": 2,
   "id": "300d8eca",
   "metadata": {},
   "outputs": [
    {
     "name": "stdout",
     "output_type": "stream",
     "text": [
      "Enter a Stringlalit\n"
     ]
    },
    {
     "data": {
      "text/plain": [
       "['a', 'i']"
      ]
     },
     "execution_count": 2,
     "metadata": {},
     "output_type": "execute_result"
    }
   ],
   "source": [
    "vowels=['a','e','i','o','u','A','I','O','U','S']\n",
    "string=input(\"Enter a String\")\n",
    "vowel_list=[string[i] for i in range(len(string)) if string[i] in vowels]\n",
    "vowel_list"
   ]
  },
  {
   "cell_type": "code",
   "execution_count": 3,
   "id": "c11bc552",
   "metadata": {},
   "outputs": [],
   "source": [
    "#enumerate function\n",
    "lang=[\"java\",\"python\",\"js\"]"
   ]
  },
  {
   "cell_type": "code",
   "execution_count": 10,
   "id": "1fea41b6",
   "metadata": {},
   "outputs": [],
   "source": [
    "a=enumerate(lang,11)"
   ]
  },
  {
   "cell_type": "code",
   "execution_count": 11,
   "id": "e7b730fb",
   "metadata": {},
   "outputs": [
    {
     "data": {
      "text/plain": [
       "[(11, 'java'), (12, 'python'), (13, 'js')]"
      ]
     },
     "execution_count": 11,
     "metadata": {},
     "output_type": "execute_result"
    }
   ],
   "source": [
    "list(a)"
   ]
  },
  {
   "cell_type": "code",
   "execution_count": 12,
   "id": "45d2e044",
   "metadata": {},
   "outputs": [],
   "source": [
    "#list comprehension\n",
    "#[output   |   collection   | condition]\n",
    "#            [0,1,2,3,4,]     if x%2==2"
   ]
  },
  {
   "cell_type": "code",
   "execution_count": 14,
   "id": "fe274601",
   "metadata": {},
   "outputs": [],
   "source": [
    "lst=[1,2,3,4,5,6,7,8,9,10]"
   ]
  },
  {
   "cell_type": "code",
   "execution_count": 15,
   "id": "16b442fe",
   "metadata": {},
   "outputs": [],
   "source": [
    "a=[x for x in lst]"
   ]
  },
  {
   "cell_type": "code",
   "execution_count": 16,
   "id": "bc39b1ef",
   "metadata": {},
   "outputs": [
    {
     "data": {
      "text/plain": [
       "[1, 2, 3, 4, 5, 6, 7, 8]"
      ]
     },
     "execution_count": 16,
     "metadata": {},
     "output_type": "execute_result"
    }
   ],
   "source": [
    "a"
   ]
  },
  {
   "cell_type": "code",
   "execution_count": 20,
   "id": "cdb6dea2",
   "metadata": {},
   "outputs": [],
   "source": [
    "lst=[1,2,3,4,5,6,7,8]\n",
    "a=[x+1 for x in lst]"
   ]
  },
  {
   "cell_type": "code",
   "execution_count": 21,
   "id": "cd735a40",
   "metadata": {},
   "outputs": [
    {
     "data": {
      "text/plain": [
       "[2, 3, 4, 5, 6, 7, 8, 9]"
      ]
     },
     "execution_count": 21,
     "metadata": {},
     "output_type": "execute_result"
    }
   ],
   "source": [
    "a"
   ]
  },
  {
   "cell_type": "code",
   "execution_count": 22,
   "id": "ca7e3390",
   "metadata": {},
   "outputs": [],
   "source": [
    "lst=[1,2,3,4,5,6,7,8,9,10]\n",
    "a=[x*2 for x in lst]"
   ]
  },
  {
   "cell_type": "code",
   "execution_count": 23,
   "id": "ac0a7320",
   "metadata": {},
   "outputs": [
    {
     "data": {
      "text/plain": [
       "[2, 4, 6, 8, 10, 12, 14, 16, 18, 20]"
      ]
     },
     "execution_count": 23,
     "metadata": {},
     "output_type": "execute_result"
    }
   ],
   "source": [
    "a"
   ]
  },
  {
   "cell_type": "code",
   "execution_count": 24,
   "id": "99a3d1c3",
   "metadata": {},
   "outputs": [],
   "source": [
    "a=[x for x in lst if x>4]"
   ]
  },
  {
   "cell_type": "code",
   "execution_count": 25,
   "id": "01022b1a",
   "metadata": {},
   "outputs": [
    {
     "data": {
      "text/plain": [
       "[5, 6, 7, 8, 9, 10]"
      ]
     },
     "execution_count": 25,
     "metadata": {},
     "output_type": "execute_result"
    }
   ],
   "source": [
    "a"
   ]
  },
  {
   "cell_type": "code",
   "execution_count": 28,
   "id": "70167446",
   "metadata": {},
   "outputs": [],
   "source": [
    "a=[]\n",
    "for x in lst:\n",
    "    if x>4:\n",
    "        a.append(x)"
   ]
  },
  {
   "cell_type": "code",
   "execution_count": 29,
   "id": "7773c7df",
   "metadata": {},
   "outputs": [
    {
     "data": {
      "text/plain": [
       "[5, 6, 7, 8, 9, 10]"
      ]
     },
     "execution_count": 29,
     "metadata": {},
     "output_type": "execute_result"
    }
   ],
   "source": [
    "a"
   ]
  },
  {
   "cell_type": "code",
   "execution_count": 32,
   "id": "e55dad51",
   "metadata": {},
   "outputs": [],
   "source": [
    "l=list(range(1,11))"
   ]
  },
  {
   "cell_type": "code",
   "execution_count": 33,
   "id": "bfcc227d",
   "metadata": {},
   "outputs": [
    {
     "data": {
      "text/plain": [
       "[1, 2, 3, 4, 5, 6, 7, 8, 9, 10]"
      ]
     },
     "execution_count": 33,
     "metadata": {},
     "output_type": "execute_result"
    }
   ],
   "source": [
    "l"
   ]
  },
  {
   "cell_type": "code",
   "execution_count": 34,
   "id": "85004bbc",
   "metadata": {},
   "outputs": [],
   "source": [
    "a=[x for x in l if x%2==0]"
   ]
  },
  {
   "cell_type": "code",
   "execution_count": 35,
   "id": "8477afd4",
   "metadata": {},
   "outputs": [
    {
     "data": {
      "text/plain": [
       "[2, 4, 6, 8, 10]"
      ]
     },
     "execution_count": 35,
     "metadata": {},
     "output_type": "execute_result"
    }
   ],
   "source": [
    "a"
   ]
  },
  {
   "cell_type": "code",
   "execution_count": 36,
   "id": "9c8c74ea",
   "metadata": {},
   "outputs": [
    {
     "data": {
      "text/plain": [
       "[6, 8, 10]"
      ]
     },
     "execution_count": 36,
     "metadata": {},
     "output_type": "execute_result"
    }
   ],
   "source": [
    "l1=[1, 2, 3, 4, 5, 6, 7, 8, 9, 10]\n",
    "d=[x for x in lst if x>4  if x%2==0]\n",
    "d"
   ]
  },
  {
   "cell_type": "code",
   "execution_count": 38,
   "id": "556eda94",
   "metadata": {},
   "outputs": [],
   "source": [
    "l1=[1, 2, 3, 4, 5, 6, 7, 8, 9, 10]\n",
    "e=[x if x>4 else 'lesssthan 4' for x in lst]"
   ]
  },
  {
   "cell_type": "code",
   "execution_count": 39,
   "id": "b09fe0b2",
   "metadata": {},
   "outputs": [
    {
     "data": {
      "text/plain": [
       "['lesssthan 4', 'lesssthan 4', 'lesssthan 4', 'lesssthan 4', 5, 6, 7, 8, 9, 10]"
      ]
     },
     "execution_count": 39,
     "metadata": {},
     "output_type": "execute_result"
    }
   ],
   "source": [
    "e"
   ]
  },
  {
   "cell_type": "code",
   "execution_count": 41,
   "id": "972968a1",
   "metadata": {},
   "outputs": [],
   "source": [
    "l1=[1, 2, 3, 4, 5, 6, 7, 8, 9, 10]\n",
    "e=[x if x>4 else 'lessthan4' for x in lst]"
   ]
  },
  {
   "cell_type": "code",
   "execution_count": 42,
   "id": "95dbd2e6",
   "metadata": {},
   "outputs": [
    {
     "data": {
      "text/plain": [
       "['lessthan4', 'lessthan4', 'lessthan4', 'lessthan4', 5, 6, 7, 8, 9, 10]"
      ]
     },
     "execution_count": 42,
     "metadata": {},
     "output_type": "execute_result"
    }
   ],
   "source": [
    "e"
   ]
  },
  {
   "cell_type": "code",
   "execution_count": 43,
   "id": "c69c7890",
   "metadata": {},
   "outputs": [],
   "source": [
    "a=[]\n",
    "for x in l1:\n",
    "    if x>4:\n",
    "        a.append(x)\n",
    "    else:\n",
    "        a.append(\"less than 4\")"
   ]
  },
  {
   "cell_type": "code",
   "execution_count": 44,
   "id": "491f340a",
   "metadata": {},
   "outputs": [
    {
     "data": {
      "text/plain": [
       "['less than 4', 'less than 4', 'less than 4', 'less than 4', 5, 6, 7, 8, 9, 10]"
      ]
     },
     "execution_count": 44,
     "metadata": {},
     "output_type": "execute_result"
    }
   ],
   "source": [
    "a"
   ]
  },
  {
   "cell_type": "code",
   "execution_count": 45,
   "id": "21447237",
   "metadata": {},
   "outputs": [],
   "source": [
    "l1=[1, 2, 3, 4, 5, 6, 7, 8, 9, 10]\n",
    "f=['two' if x%2==0 else 'three' if x%3==0 else 'not a & b' for x in l1]"
   ]
  },
  {
   "cell_type": "code",
   "execution_count": 46,
   "id": "f32297ee",
   "metadata": {},
   "outputs": [
    {
     "data": {
      "text/plain": [
       "['not a & b',\n",
       " 'two',\n",
       " 'three',\n",
       " 'two',\n",
       " 'not a & b',\n",
       " 'two',\n",
       " 'not a & b',\n",
       " 'two',\n",
       " 'three',\n",
       " 'two']"
      ]
     },
     "execution_count": 46,
     "metadata": {},
     "output_type": "execute_result"
    }
   ],
   "source": [
    "f"
   ]
  },
  {
   "cell_type": "code",
   "execution_count": 47,
   "id": "e522b5b0",
   "metadata": {},
   "outputs": [],
   "source": [
    "a=[]\n",
    "for x in lst:\n",
    "    if x%2==0:\n",
    "        a.append('two')\n",
    "    elif x%3==0:\n",
    "        a.append('three')\n",
    "    else:\n",
    "        a.append('not a & b')"
   ]
  },
  {
   "cell_type": "code",
   "execution_count": 48,
   "id": "4d9c66fe",
   "metadata": {},
   "outputs": [
    {
     "data": {
      "text/plain": [
       "['not a & b',\n",
       " 'two',\n",
       " 'three',\n",
       " 'two',\n",
       " 'not a & b',\n",
       " 'two',\n",
       " 'not a & b',\n",
       " 'two',\n",
       " 'three',\n",
       " 'two']"
      ]
     },
     "execution_count": 48,
     "metadata": {},
     "output_type": "execute_result"
    }
   ],
   "source": [
    "a"
   ]
  },
  {
   "cell_type": "code",
   "execution_count": 1,
   "id": "57fbaf88",
   "metadata": {},
   "outputs": [],
   "source": []
  },
  {
   "cell_type": "code",
   "execution_count": null,
   "id": "fc061317",
   "metadata": {},
   "outputs": [],
   "source": []
  }
 ],
 "metadata": {
  "kernelspec": {
   "display_name": "Python 3 (ipykernel)",
   "language": "python",
   "name": "python3"
  },
  "language_info": {
   "codemirror_mode": {
    "name": "ipython",
    "version": 3
   },
   "file_extension": ".py",
   "mimetype": "text/x-python",
   "name": "python",
   "nbconvert_exporter": "python",
   "pygments_lexer": "ipython3",
   "version": "3.11.5"
  }
 },
 "nbformat": 4,
 "nbformat_minor": 5
}
