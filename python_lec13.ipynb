{
 "cells": [
  {
   "cell_type": "code",
   "execution_count": 25,
   "id": "4f46cb6d",
   "metadata": {},
   "outputs": [],
   "source": [
    "apikey='d1852275a2267f0d8d59aaaf46476fdd'\n",
    "url=\"https://api.openweathermap.org/data/2.5/weather\"\n",
    "#url1=\"https://api.openweathermap.org/data/3.0/onecall?lat={lat}&lon={lon}&exclude={part}&appid={API key}\""
   ]
  },
  {
   "cell_type": "code",
   "execution_count": 26,
   "id": "88776bf5",
   "metadata": {},
   "outputs": [],
   "source": [
    "#requests.get(url1,params={'appid':apikey})"
   ]
  },
  {
   "cell_type": "code",
   "execution_count": 27,
   "id": "107f021d",
   "metadata": {},
   "outputs": [
    {
     "data": {
      "text/plain": [
       "{'cod': 401,\n",
       " 'message': 'Please note that using One Call 3.0 requires a separate subscription to the One Call by Call plan. Learn more here https://openweathermap.org/price. If you have a valid subscription to the One Call by Call plan, but still receive this error, then please see https://openweathermap.org/faq#error401 for more info.'}"
      ]
     },
     "execution_count": 27,
     "metadata": {},
     "output_type": "execute_result"
    }
   ],
   "source": [
    "url1=\"https://api.openweathermap.org/data/3.0/onecall?lat=33.44&lon=-94.04\"\n",
    "\n",
    "data1=requests.get(url1,params={'appid':apikey})\n",
    "data1.json()"
   ]
  },
  {
   "cell_type": "code",
   "execution_count": 28,
   "id": "f1dc0fec",
   "metadata": {},
   "outputs": [],
   "source": [
    "params={ 'q':\"delhi\",\n",
    "       'appid':apikey,\n",
    "       'units':'metric'}\n"
   ]
  },
  {
   "cell_type": "code",
   "execution_count": 29,
   "id": "180c603d",
   "metadata": {},
   "outputs": [],
   "source": [
    "import requests"
   ]
  },
  {
   "cell_type": "code",
   "execution_count": 30,
   "id": "a3062013",
   "metadata": {},
   "outputs": [],
   "source": [
    "data=requests.get(url,params=params)"
   ]
  },
  {
   "cell_type": "code",
   "execution_count": 31,
   "id": "08ff53d1",
   "metadata": {},
   "outputs": [
    {
     "data": {
      "text/plain": [
       "{'coord': {'lon': 77.2167, 'lat': 28.6667},\n",
       " 'weather': [{'id': 711,\n",
       "   'main': 'Smoke',\n",
       "   'description': 'smoke',\n",
       "   'icon': '50d'}],\n",
       " 'base': 'stations',\n",
       " 'main': {'temp': 17.05,\n",
       "  'feels_like': 16.25,\n",
       "  'temp_min': 17.05,\n",
       "  'temp_max': 17.05,\n",
       "  'pressure': 1018,\n",
       "  'humidity': 55},\n",
       " 'visibility': 1500,\n",
       " 'wind': {'speed': 1.54, 'deg': 250},\n",
       " 'clouds': {'all': 5},\n",
       " 'dt': 1705745182,\n",
       " 'sys': {'type': 1,\n",
       "  'id': 9165,\n",
       "  'country': 'IN',\n",
       "  'sunrise': 1705715053,\n",
       "  'sunset': 1705753150},\n",
       " 'timezone': 19800,\n",
       " 'id': 1273294,\n",
       " 'name': 'Delhi',\n",
       " 'cod': 200}"
      ]
     },
     "execution_count": 31,
     "metadata": {},
     "output_type": "execute_result"
    }
   ],
   "source": [
    "data.json()"
   ]
  },
  {
   "cell_type": "code",
   "execution_count": null,
   "id": "e18f7272",
   "metadata": {},
   "outputs": [],
   "source": [
    "1.build this app in local\n",
    "2.push this in git\n",
    "3.deploy on cloud\n",
    "4.test it"
   ]
  }
 ],
 "metadata": {
  "kernelspec": {
   "display_name": "Python 3 (ipykernel)",
   "language": "python",
   "name": "python3"
  },
  "language_info": {
   "codemirror_mode": {
    "name": "ipython",
    "version": 3
   },
   "file_extension": ".py",
   "mimetype": "text/x-python",
   "name": "python",
   "nbconvert_exporter": "python",
   "pygments_lexer": "ipython3",
   "version": "3.11.5"
  }
 },
 "nbformat": 4,
 "nbformat_minor": 5
}
