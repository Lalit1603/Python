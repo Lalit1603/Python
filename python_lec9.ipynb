{
 "cells": [
  {
   "cell_type": "code",
   "execution_count": 7,
   "id": "98eb61b2",
   "metadata": {},
   "outputs": [],
   "source": [
    "class a:\n",
    "    def test(self):\n",
    "        print(\"this test method ia a part of class 'a' \")\n",
    "    def test1(self):\n",
    "        print(\"this test1 method from a class a\")"
   ]
  },
  {
   "cell_type": "code",
   "execution_count": 8,
   "id": "2b139274",
   "metadata": {},
   "outputs": [],
   "source": [
    "obj1=a()"
   ]
  },
  {
   "cell_type": "code",
   "execution_count": 9,
   "id": "deb58c8a",
   "metadata": {},
   "outputs": [
    {
     "name": "stdout",
     "output_type": "stream",
     "text": [
      "this test method ia a part of class 'a' \n"
     ]
    }
   ],
   "source": [
    "obj1.test()"
   ]
  },
  {
   "cell_type": "code",
   "execution_count": 14,
   "id": "d36f6565",
   "metadata": {},
   "outputs": [],
   "source": [
    "class b(a):\n",
    "    def meth1(self):\n",
    "        print(\"this is a part of class b\")"
   ]
  },
  {
   "cell_type": "code",
   "execution_count": 15,
   "id": "edfc971c",
   "metadata": {},
   "outputs": [],
   "source": [
    "obj2=b()"
   ]
  },
  {
   "cell_type": "code",
   "execution_count": 16,
   "id": "4c76dacb",
   "metadata": {},
   "outputs": [
    {
     "name": "stdout",
     "output_type": "stream",
     "text": [
      "this test method ia a part of class 'a' \n"
     ]
    }
   ],
   "source": [
    "obj2.test()"
   ]
  },
  {
   "cell_type": "code",
   "execution_count": 17,
   "id": "cbc345cf",
   "metadata": {},
   "outputs": [
    {
     "name": "stdout",
     "output_type": "stream",
     "text": [
      "this test1 method from a class a\n"
     ]
    }
   ],
   "source": [
    "obj2.test1()"
   ]
  },
  {
   "cell_type": "code",
   "execution_count": 18,
   "id": "333d0558",
   "metadata": {},
   "outputs": [
    {
     "name": "stdout",
     "output_type": "stream",
     "text": [
      "this is a part of class b\n"
     ]
    }
   ],
   "source": [
    "obj2.meth1()"
   ]
  },
  {
   "cell_type": "code",
   "execution_count": null,
   "id": "00df749a",
   "metadata": {},
   "outputs": [],
   "source": []
  },
  {
   "cell_type": "code",
   "execution_count": 22,
   "id": "199f6570",
   "metadata": {},
   "outputs": [],
   "source": [
    "class lecture:\n",
    "    \n",
    "    def topic(self):\n",
    "        print(\"todays class we are discussing about inheritance concept in oops\")\n",
    "    def timeing(self):\n",
    "        print(\"timing for todays class is 9 AM IST\")\n",
    "    def end_time(self):\n",
    "        print(\"todays class i will end bit early\")\n",
    "    \n",
    "    "
   ]
  },
  {
   "cell_type": "code",
   "execution_count": 25,
   "id": "ba96a5f6",
   "metadata": {},
   "outputs": [],
   "source": [
    "class students(lecture):\n",
    "    \n",
    "    def student_details(self):\n",
    "        print(\"this class will give you a student details\")\n",
    "    "
   ]
  },
  {
   "cell_type": "code",
   "execution_count": 26,
   "id": "20c7f306",
   "metadata": {},
   "outputs": [],
   "source": [
    "lalit=students()"
   ]
  },
  {
   "cell_type": "code",
   "execution_count": 27,
   "id": "b2b1c021",
   "metadata": {},
   "outputs": [
    {
     "name": "stdout",
     "output_type": "stream",
     "text": [
      "todays class we are discussing about inheritance concept in oops\n"
     ]
    }
   ],
   "source": [
    "lalit.topic()"
   ]
  },
  {
   "cell_type": "code",
   "execution_count": 28,
   "id": "775ad241",
   "metadata": {},
   "outputs": [
    {
     "name": "stdout",
     "output_type": "stream",
     "text": [
      "timing for todays class is 9 AM IST\n"
     ]
    }
   ],
   "source": [
    "satish=students()\n",
    "satish.timeing()"
   ]
  },
  {
   "cell_type": "code",
   "execution_count": 29,
   "id": "a79d9fcb",
   "metadata": {},
   "outputs": [
    {
     "name": "stdout",
     "output_type": "stream",
     "text": [
      "todays class i will end bit early\n"
     ]
    }
   ],
   "source": [
    "jay=students()\n",
    "jay.end_time()"
   ]
  },
  {
   "cell_type": "code",
   "execution_count": 30,
   "id": "58364d55",
   "metadata": {},
   "outputs": [],
   "source": [
    "mayur=students()"
   ]
  },
  {
   "cell_type": "code",
   "execution_count": 31,
   "id": "1f2221cb",
   "metadata": {},
   "outputs": [
    {
     "name": "stdout",
     "output_type": "stream",
     "text": [
      "this class will give you a student details\n"
     ]
    }
   ],
   "source": [
    "mayur.student_details()"
   ]
  },
  {
   "cell_type": "code",
   "execution_count": 33,
   "id": "f6b7ad99",
   "metadata": {},
   "outputs": [],
   "source": [
    "class teacher(students):\n",
    "    def details(self):\n",
    "        print(\"this will give you a details about teacher\")"
   ]
  },
  {
   "cell_type": "code",
   "execution_count": 34,
   "id": "d728a541",
   "metadata": {},
   "outputs": [],
   "source": [
    "sudhanshu=teacher()"
   ]
  },
  {
   "cell_type": "code",
   "execution_count": null,
   "id": "8eef60e8",
   "metadata": {},
   "outputs": [],
   "source": [
    "sudhanshu."
   ]
  },
  {
   "cell_type": "code",
   "execution_count": 35,
   "id": "2705033c",
   "metadata": {},
   "outputs": [],
   "source": [
    "class lecture:\n",
    "    \n",
    "    def topic(self):\n",
    "        print(\"todays class we are discussing about inheritance concept in oops\")\n",
    "    def timeing(self):\n",
    "        print(\"timing for todays class is 9 AM IST\")\n",
    "    def end_time(self):\n",
    "        print(\"todays class i will end bit early\")\n",
    "    "
   ]
  },
  {
   "cell_type": "code",
   "execution_count": 48,
   "id": "36e6fdbd",
   "metadata": {},
   "outputs": [],
   "source": [
    "class students:\n",
    "    \n",
    "    def student_details(self):\n",
    "        print(\"this class will give you a student details\")\n",
    "    def timeing(self):\n",
    "        print(\"this is a timing fun from student class\")\n",
    "    "
   ]
  },
  {
   "cell_type": "code",
   "execution_count": 49,
   "id": "482441c3",
   "metadata": {},
   "outputs": [],
   "source": [
    "class teacher(students,lecture):\n",
    "    def details(self):\n",
    "        print(\"this will give you a details about teacher\")"
   ]
  },
  {
   "cell_type": "code",
   "execution_count": 50,
   "id": "763384a9",
   "metadata": {},
   "outputs": [],
   "source": [
    "krish=teacher()"
   ]
  },
  {
   "cell_type": "code",
   "execution_count": 51,
   "id": "2e058191",
   "metadata": {},
   "outputs": [
    {
     "name": "stdout",
     "output_type": "stream",
     "text": [
      "this class will give you a student details\n"
     ]
    }
   ],
   "source": [
    "krish.student_details()"
   ]
  },
  {
   "cell_type": "code",
   "execution_count": 52,
   "id": "5399e0bd",
   "metadata": {},
   "outputs": [
    {
     "name": "stdout",
     "output_type": "stream",
     "text": [
      "this is a timing fun from student class\n"
     ]
    }
   ],
   "source": [
    "krish.timeing()"
   ]
  },
  {
   "cell_type": "code",
   "execution_count": 54,
   "id": "5bec1836",
   "metadata": {},
   "outputs": [],
   "source": [
    "class teacher(lecture,students):#it follows the order,give the priority to the first class we mention in parameter\n",
    "    def details(self):\n",
    "        print(\"this will give you a details about teacher\")"
   ]
  },
  {
   "cell_type": "code",
   "execution_count": 55,
   "id": "8eda4ba3",
   "metadata": {},
   "outputs": [],
   "source": [
    "lalit=teacher()"
   ]
  },
  {
   "cell_type": "code",
   "execution_count": 56,
   "id": "98c9cfa1",
   "metadata": {},
   "outputs": [
    {
     "name": "stdout",
     "output_type": "stream",
     "text": [
      "timing for todays class is 9 AM IST\n"
     ]
    }
   ],
   "source": [
    "lalit.timeing()"
   ]
  },
  {
   "cell_type": "code",
   "execution_count": null,
   "id": "fed4afe2",
   "metadata": {},
   "outputs": [],
   "source": []
  }
 ],
 "metadata": {
  "kernelspec": {
   "display_name": "Python 3 (ipykernel)",
   "language": "python",
   "name": "python3"
  },
  "language_info": {
   "codemirror_mode": {
    "name": "ipython",
    "version": 3
   },
   "file_extension": ".py",
   "mimetype": "text/x-python",
   "name": "python",
   "nbconvert_exporter": "python",
   "pygments_lexer": "ipython3",
   "version": "3.11.5"
  }
 },
 "nbformat": 4,
 "nbformat_minor": 5
}
