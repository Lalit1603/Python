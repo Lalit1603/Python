{
 "cells": [
  {
   "cell_type": "code",
   "execution_count": 4,
   "id": "67a284f4",
   "metadata": {},
   "outputs": [],
   "source": [
    "import requests\n",
    "from bs4 import BeautifulSoup\n",
    "from urllib.request import urlopen as uReq\n",
    "import os"
   ]
  },
  {
   "cell_type": "code",
   "execution_count": 5,
   "id": "cb0a2fb7",
   "metadata": {},
   "outputs": [],
   "source": [
    "save_dir=\"images/\"\n",
    "if not os.path.exists(save_dir):\n",
    "    os.makedirs(save_dir)"
   ]
  },
  {
   "cell_type": "code",
   "execution_count": 6,
   "id": "34506c93",
   "metadata": {},
   "outputs": [],
   "source": [
    "query=\"akshay Kumar\"\n",
    "response=requests.get(f\"https://www.google.com/search?q={query}&sca_esv=599976550&hl=en&tbm=isch&sxsrf=ACQVn08SzBR31XtmOy2qmbj87z_yyxD0gA%3A1705719423797&source=hp&biw=1536&bih=695&ei=fzarZdfBLo2I9u8PvuGy6Aw&iflsig=ANes7DEAAAAAZatEj-BnNt9TlwrNXjQo5QFZbgoPi9rz&oq=&gs_lp=EgNpbWciACoCCAAyBxAjGOoCGCcyBxAjGOoCGCcyBxAjGOoCGCcyBxAjGOoCGCcyBxAjGOoCGCcyBxAjGOoCGCcyBxAjGOoCGCcyBxAjGOoCGCcyBxAjGOoCGCcyBxAjGOoCGCdIgxRQAFgAcAF4AJABAJgBAKABAKoBALgBAcgBAIoCC2d3cy13aXotaW1nqAIK&sclient=img\")\n"
   ]
  },
  {
   "cell_type": "code",
   "execution_count": 7,
   "id": "8fe656a8",
   "metadata": {},
   "outputs": [
    {
     "data": {
      "text/plain": [
       "<Response [200]>"
      ]
     },
     "execution_count": 7,
     "metadata": {},
     "output_type": "execute_result"
    }
   ],
   "source": [
    "response"
   ]
  },
  {
   "cell_type": "code",
   "execution_count": 8,
   "id": "849e3362",
   "metadata": {},
   "outputs": [],
   "source": [
    "soup=BeautifulSoup(response.content,'html.parser')"
   ]
  },
  {
   "cell_type": "code",
   "execution_count": 27,
   "id": "b6268209",
   "metadata": {},
   "outputs": [],
   "source": [
    "#soup"
   ]
  },
  {
   "cell_type": "code",
   "execution_count": 9,
   "id": "a4aa1d61",
   "metadata": {},
   "outputs": [],
   "source": [
    "images_tages=soup.find_all(\"img\")"
   ]
  },
  {
   "cell_type": "code",
   "execution_count": 10,
   "id": "ac26d4c1",
   "metadata": {
    "scrolled": true
   },
   "outputs": [
    {
     "data": {
      "text/plain": [
       "21"
      ]
     },
     "execution_count": 10,
     "metadata": {},
     "output_type": "execute_result"
    }
   ],
   "source": [
    "len(images_tages)"
   ]
  },
  {
   "cell_type": "code",
   "execution_count": 11,
   "id": "ec5d24cb",
   "metadata": {},
   "outputs": [],
   "source": [
    "del images_tages[0]"
   ]
  },
  {
   "cell_type": "code",
   "execution_count": 12,
   "id": "c6d19111",
   "metadata": {},
   "outputs": [
    {
     "data": {
      "text/plain": [
       "[<img alt=\"\" class=\"DS1iW\" src=\"https://encrypted-tbn0.gstatic.com/images?q=tbn:ANd9GcQ43yLb8enmDIe7X0moJWBHJaeCIWGeD09ukUCoeXsZliT3qE8oaB9q0ntGPw&amp;s\"/>,\n",
       " <img alt=\"\" class=\"DS1iW\" src=\"https://encrypted-tbn0.gstatic.com/images?q=tbn:ANd9GcQhKMOjOTI7z8ly1388RwSDsyGuCQWfsOaVsRP20P2O-YD41Ydqb0avdwYBQ-4&amp;s\"/>,\n",
       " <img alt=\"\" class=\"DS1iW\" src=\"https://encrypted-tbn0.gstatic.com/images?q=tbn:ANd9GcSem83X97hBQQUuisH1jN3zuk2CZr0FDLc3hL4MbUhmOCXCPOIUN9UO2Yf4aA&amp;s\"/>,\n",
       " <img alt=\"\" class=\"DS1iW\" src=\"https://encrypted-tbn0.gstatic.com/images?q=tbn:ANd9GcQl3rGXZJ7EmtDhFDBbQveSetHF6CF6IEWSSWTf_mQLqUbe5Jcyc4nAIW5czM8&amp;s\"/>,\n",
       " <img alt=\"\" class=\"DS1iW\" src=\"https://encrypted-tbn0.gstatic.com/images?q=tbn:ANd9GcTM7oZWTBguhAmFSnUcAlHG7a-xlgiMrlEqVt8_joTbt9PWrlQFr5lyqZQ2kr8&amp;s\"/>,\n",
       " <img alt=\"\" class=\"DS1iW\" src=\"https://encrypted-tbn0.gstatic.com/images?q=tbn:ANd9GcRuhT0S8iUFy_7WaWDxf-m4JUIZcxHdNHToBKi8O3_vpgQy1pg3ZvvM27MLRVg&amp;s\"/>,\n",
       " <img alt=\"\" class=\"DS1iW\" src=\"https://encrypted-tbn0.gstatic.com/images?q=tbn:ANd9GcQeWbfvTMB4XAku9vhzEayTc-MCRORmIl7eR-YtZ7kb5MXiH6LQXksbL0ZOZpY&amp;s\"/>,\n",
       " <img alt=\"\" class=\"DS1iW\" src=\"https://encrypted-tbn0.gstatic.com/images?q=tbn:ANd9GcR4eRizXQfqiVnY8nRK_5TPNS_pTqN6mU_xec_CYfjTURkWen9gSEEdIvUjJw&amp;s\"/>,\n",
       " <img alt=\"\" class=\"DS1iW\" src=\"https://encrypted-tbn0.gstatic.com/images?q=tbn:ANd9GcTAAB8LINEseRZ4O8xxH2TXYbmaPob1KtI2N_Pts2vrrcVGlWyc9Sj-EmB4sg&amp;s\"/>,\n",
       " <img alt=\"\" class=\"DS1iW\" src=\"https://encrypted-tbn0.gstatic.com/images?q=tbn:ANd9GcQbbNAnBmU-kAN5-3aKidiGjF6--eN7kJPkEfZ3lQcXpaJ7l-Tktucj-ECnL1Y&amp;s\"/>,\n",
       " <img alt=\"\" class=\"DS1iW\" src=\"https://encrypted-tbn0.gstatic.com/images?q=tbn:ANd9GcTqSOjfDmS3-JmoOboZAyp2GMLADMcntkz7WKA6itP_ugDpxC0R7HA8F7Pp5xA&amp;s\"/>,\n",
       " <img alt=\"\" class=\"DS1iW\" src=\"https://encrypted-tbn0.gstatic.com/images?q=tbn:ANd9GcR6BMao5noMzM6CCWRT-74uuLBM_pFV85PbSAfWTGtBM-qQtr5Ktj_g0-t0EQ&amp;s\"/>,\n",
       " <img alt=\"\" class=\"DS1iW\" src=\"https://encrypted-tbn0.gstatic.com/images?q=tbn:ANd9GcRZx9EwKzOUHE8lo05f7YrpLm_jYCyH1j6nUoRZGAVaHfAyg9J__0s3NFGzkw&amp;s\"/>,\n",
       " <img alt=\"\" class=\"DS1iW\" src=\"https://encrypted-tbn0.gstatic.com/images?q=tbn:ANd9GcQjDOjrcx7e7r-VEkGpqWUfnmdONW-kybQdiPGgV-jSVT-CrRR6sBjBCYZVcg&amp;s\"/>,\n",
       " <img alt=\"\" class=\"DS1iW\" src=\"https://encrypted-tbn0.gstatic.com/images?q=tbn:ANd9GcTu5nqDftNcNHtDf5c0Rdg88457Qe4nR2xNIy-JE2hxipM1Ba2-BQb9JtVr1Q&amp;s\"/>,\n",
       " <img alt=\"\" class=\"DS1iW\" src=\"https://encrypted-tbn0.gstatic.com/images?q=tbn:ANd9GcS6YKuihXAzKRwV_4qzqXRFvRbIA2LkLSXVjVAyA0BAJ2RDZYvj_-G2iEHHNDg&amp;s\"/>,\n",
       " <img alt=\"\" class=\"DS1iW\" src=\"https://encrypted-tbn0.gstatic.com/images?q=tbn:ANd9GcTD7qeofP3Rpew9NsCQlGzOdvbB4H1NkhtevG93zTFnrLG3ORvvifJ4__EuZR4&amp;s\"/>,\n",
       " <img alt=\"\" class=\"DS1iW\" src=\"https://encrypted-tbn0.gstatic.com/images?q=tbn:ANd9GcSJx8XksExX4GwgqumLYMaW0qnURUWEcvoMZ9WKJUOi49cuR7DPoJy87PnemA&amp;s\"/>,\n",
       " <img alt=\"\" class=\"DS1iW\" src=\"https://encrypted-tbn0.gstatic.com/images?q=tbn:ANd9GcT7FvVTHrgSnfxbCC6P3WwiU4WKcJgdJclHm6016xrhVXKjklfVLa7MPJQE17o&amp;s\"/>,\n",
       " <img alt=\"\" class=\"DS1iW\" src=\"https://encrypted-tbn0.gstatic.com/images?q=tbn:ANd9GcQOS4l3PItw23uAbUZ7ycBatzg62NyU1X7ni1d_B9FI1FwrbQYhyYJmWG7qfA&amp;s\"/>]"
      ]
     },
     "execution_count": 12,
     "metadata": {},
     "output_type": "execute_result"
    }
   ],
   "source": [
    "images_tages"
   ]
  },
  {
   "cell_type": "code",
   "execution_count": 13,
   "id": "bdd50486",
   "metadata": {},
   "outputs": [],
   "source": [
    "for i in images_tages:\n",
    "    images_url =i['src']\n",
    "    image_data=requests.get(images_url).content\n",
    "    with open(os.path.join(save_dir,f\"{query}_{images_tages.index(i)}.jpg\"),\"wb\") as f:\n",
    "        f.write(image_data)\n",
    "    "
   ]
  },
  {
   "cell_type": "code",
   "execution_count": null,
   "id": "329edb23",
   "metadata": {},
   "outputs": [],
   "source": []
  },
  {
   "cell_type": "code",
   "execution_count": null,
   "id": "ba69000e",
   "metadata": {},
   "outputs": [],
   "source": []
  },
  {
   "cell_type": "code",
   "execution_count": null,
   "id": "d4cf49eb",
   "metadata": {},
   "outputs": [],
   "source": []
  },
  {
   "cell_type": "code",
   "execution_count": 13,
   "id": "e80a1266",
   "metadata": {},
   "outputs": [],
   "source": [
    "#images_tages[1]['src']"
   ]
  },
  {
   "cell_type": "code",
   "execution_count": 12,
   "id": "ac24c00a",
   "metadata": {},
   "outputs": [],
   "source": [
    "#requests.get(images_tages[1]['src']).content"
   ]
  },
  {
   "cell_type": "code",
   "execution_count": null,
   "id": "f9470130",
   "metadata": {},
   "outputs": [],
   "source": []
  },
  {
   "cell_type": "code",
   "execution_count": null,
   "id": "d2430c28",
   "metadata": {},
   "outputs": [],
   "source": []
  },
  {
   "cell_type": "code",
   "execution_count": null,
   "id": "7590bde5",
   "metadata": {},
   "outputs": [],
   "source": []
  },
  {
   "cell_type": "code",
   "execution_count": 14,
   "id": "7658beb1",
   "metadata": {},
   "outputs": [],
   "source": [
    "import requests \n",
    "from bs4 import BeautifulSoup\n",
    "from urllib.request import urlopen as uReq\n",
    "import os"
   ]
  },
  {
   "cell_type": "code",
   "execution_count": 15,
   "id": "2e471f5f",
   "metadata": {},
   "outputs": [],
   "source": [
    "save_dir = \"images_01/\"\n",
    "if not os.path.exists(save_dir):\n",
    "    os.makedirs(save_dir)"
   ]
  },
  {
   "cell_type": "code",
   "execution_count": 35,
   "id": "1a931f77",
   "metadata": {},
   "outputs": [],
   "source": [
    "query = \" ram mandir \"\n",
    "responce =requests.get(f\"https://www.google.com/search?q={query}&sca_esv=599976550&hl=en&tbm=isch&sxsrf=ACQVn08SzBR31XtmOy2qmbj87z_yyxD0gA%3A1705719423797&source=hp&biw=1536&bih=695&ei=fzarZdfBLo2I9u8PvuGy6Aw&iflsig=ANes7DEAAAAAZatEj-BnNt9TlwrNXjQo5QFZbgoPi9rz&oq=&gs_lp=EgNpbWciACoCCAAyBxAjGOoCGCcyBxAjGOoCGCcyBxAjGOoCGCcyBxAjGOoCGCcyBxAjGOoCGCcyBxAjGOoCGCcyBxAjGOoCGCcyBxAjGOoCGCcyBxAjGOoCGCcyBxAjGOoCGCdIgxRQAFgAcAF4AJABAJgBAKABAKoBALgBAcgBAIoCC2d3cy13aXotaW1nqAIK&sclient=img\")"
   ]
  },
  {
   "cell_type": "code",
   "execution_count": 36,
   "id": "1a109152",
   "metadata": {},
   "outputs": [
    {
     "data": {
      "text/plain": [
       "<Response [200]>"
      ]
     },
     "execution_count": 36,
     "metadata": {},
     "output_type": "execute_result"
    }
   ],
   "source": [
    "responce"
   ]
  },
  {
   "cell_type": "code",
   "execution_count": 37,
   "id": "d97dcb1f",
   "metadata": {},
   "outputs": [],
   "source": [
    "soup = BeautifulSoup(responce.content,'html.parser')"
   ]
  },
  {
   "cell_type": "code",
   "execution_count": null,
   "id": "83927e6c",
   "metadata": {},
   "outputs": [],
   "source": [
    "images_tages = soup.find_all(\"img\")"
   ]
  },
  {
   "cell_type": "code",
   "execution_count": 32,
   "id": "4b312ca8",
   "metadata": {},
   "outputs": [
    {
     "data": {
      "text/plain": [
       "21"
      ]
     },
     "execution_count": 32,
     "metadata": {},
     "output_type": "execute_result"
    }
   ],
   "source": [
    "len(images_tages)"
   ]
  },
  {
   "cell_type": "code",
   "execution_count": 33,
   "id": "e8c02c38",
   "metadata": {},
   "outputs": [],
   "source": [
    "del images_tages[0]"
   ]
  },
  {
   "cell_type": "code",
   "execution_count": 34,
   "id": "d5dd4279",
   "metadata": {},
   "outputs": [],
   "source": [
    "for i in images_tages:\n",
    "    images_url =i['src']\n",
    "    image_data=requests.get(images_url).content\n",
    "    with open(os.path.join(save_dir,f\"{query}_{images_tages.index(i)}.jpg\"),\"wb\") as f:\n",
    "        f.write(image_data)"
   ]
  },
  {
   "cell_type": "code",
   "execution_count": null,
   "id": "63d0fbdf",
   "metadata": {},
   "outputs": [],
   "source": []
  },
  {
   "cell_type": "code",
   "execution_count": null,
   "id": "d2868db7",
   "metadata": {},
   "outputs": [],
   "source": []
  },
  {
   "cell_type": "code",
   "execution_count": null,
   "id": "c00609f3",
   "metadata": {},
   "outputs": [],
   "source": []
  },
  {
   "cell_type": "code",
   "execution_count": null,
   "id": "ff317998",
   "metadata": {},
   "outputs": [],
   "source": []
  },
  {
   "cell_type": "code",
   "execution_count": null,
   "id": "ed7502a6",
   "metadata": {},
   "outputs": [],
   "source": []
  }
 ],
 "metadata": {
  "kernelspec": {
   "display_name": "Python 3 (ipykernel)",
   "language": "python",
   "name": "python3"
  },
  "language_info": {
   "codemirror_mode": {
    "name": "ipython",
    "version": 3
   },
   "file_extension": ".py",
   "mimetype": "text/x-python",
   "name": "python",
   "nbconvert_exporter": "python",
   "pygments_lexer": "ipython3",
   "version": "3.11.5"
  }
 },
 "nbformat": 4,
 "nbformat_minor": 5
}
