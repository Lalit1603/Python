{
 "cells": [
  {
   "cell_type": "code",
   "execution_count": 16,
   "id": "5b328415",
   "metadata": {},
   "outputs": [
    {
     "name": "stdout",
     "output_type": "stream",
     "text": [
      "yes its available under my budget\n",
      "i will try to buy shirt\n",
      "yes i will try to choose it color\n"
     ]
    }
   ],
   "source": [
    "a=500\n",
    "shirt_price =200\n",
    "pant_price =500\n",
    "coat_price =800\n",
    "my_size=\"M\"\n",
    "size_store=[\"L\",\"S\",\"XXL\",\"XXXL\",\"M\"]\n",
    "my_color=\"white\"\n",
    "store_color=[\"white\",\"black\",\"red\",\"blue\",\"orange\"]\n",
    "\n",
    "if coat_price<=a:\n",
    "    print(\"i will try to buy coat\")\n",
    "elif pant_price<a:\n",
    "    print(\"i will try to buy pant\")\n",
    "elif shirt_price <a:\n",
    "    print(\"yes its available under my budget\")\n",
    "    if my_size in size_store:\n",
    "        print(\"i will try to buy shirt\")\n",
    "        if my_color in store_color:\n",
    "            print(\"yes i will try to choose it color\")\n",
    "        else:\n",
    "            print(\"my fav color is not available i will move to another shop\")\n",
    "    else:\n",
    "        print(\"my size is not available\")\n",
    "        \n",
    "    \n",
    "else:\n",
    "    print(\"i won't be able to buy\")"
   ]
  },
  {
   "cell_type": "code",
   "execution_count": 18,
   "id": "014615a4",
   "metadata": {},
   "outputs": [],
   "source": [
    "course=[\"DSM\",\"DSA\",\"JAVA\",\"BID DATA\",\"DA\"]\n",
    "price=20000\n",
    "mentor=\"sudhanshu kumar\"\n",
    "if 'DSM'in course and price ==1000 and \"sudhanshu kumar\"==mentor:\n",
    "    print(\"yes i am doing this course\")"
   ]
  },
  {
   "cell_type": "code",
   "execution_count": 19,
   "id": "f49aad47",
   "metadata": {},
   "outputs": [
    {
     "name": "stdout",
     "output_type": "stream",
     "text": [
      "it's out of my budget\n"
     ]
    }
   ],
   "source": [
    "course_price=20000\n",
    "if 10000 <= course_price <=15000:\n",
    "    print(\"i will try to buy a course\")\n",
    "else:\n",
    "    print(\"it's out of my budget\")"
   ]
  },
  {
   "cell_type": "code",
   "execution_count": 20,
   "id": "0d2b8371",
   "metadata": {},
   "outputs": [
    {
     "data": {
      "text/plain": [
       "False"
      ]
     },
     "execution_count": 20,
     "metadata": {},
     "output_type": "execute_result"
    }
   ],
   "source": [
    "10000 <= course_price <=15000"
   ]
  },
  {
   "cell_type": "code",
   "execution_count": 23,
   "id": "a8b5a02e",
   "metadata": {},
   "outputs": [
    {
     "name": "stdout",
     "output_type": "stream",
     "text": [
      "enter your user name:-sudh\n",
      "enter your password:-sudh@1234\n",
      "You have Loged in Successfully\n"
     ]
    }
   ],
   "source": [
    "user_name=\"sudh\"\n",
    "password=\"sudh@1234\"\n",
    "if user_name==input(\"enter your user name:-\") and password==input(\"enter your password:-\"):\n",
    "    print(\"You have Loged in Successfully\")\n",
    "else:\n",
    "    print(\"enter correct username and password\")"
   ]
  },
  {
   "cell_type": "code",
   "execution_count": 28,
   "id": "5316d55e",
   "metadata": {},
   "outputs": [
    {
     "name": "stdout",
     "output_type": "stream",
     "text": [
      "enter a mobile no:-12345\n",
      "yes you are a registered user\n",
      "enter a otp that we have sent on your mobile no:-132\n",
      "you have logged in successfuully\n"
     ]
    }
   ],
   "source": [
    "mobile_no=12345\n",
    "otp=132\n",
    "if mobile_no==int(input(\"enter a mobile no:-\")):\n",
    "    print(\"yes you are a registered user\")\n",
    "    if otp == int(input(\"enter a otp that we have sent on your mobile no:-\")):\n",
    "        print(\"you have logged in successfuully\")\n",
    "    else:\n",
    "        print(\"otp is not correct please try to enter again\")\n",
    "else:\n",
    "    print(\"yoou have not entered a valid mobile number:-\")"
   ]
  },
  {
   "cell_type": "code",
   "execution_count": 29,
   "id": "bd0b6d4f",
   "metadata": {},
   "outputs": [
    {
     "name": "stdout",
     "output_type": "stream",
     "text": [
      "Enter your registered mobile no:-1321\n",
      "yes you are a registered user\n",
      "enter a otp that we have sent on your mobile no:-132\n",
      "you have logged in successfuully\n"
     ]
    }
   ],
   "source": [
    "mobile_no={122342,44534,1321,345353,2342342}\n",
    "otp=132\n",
    "if int(input(\"Enter your registered mobile no:-\")) in mobile_no:\n",
    "    print(\"yes you are a registered user\")\n",
    "    if otp == int(input(\"enter a otp that we have sent on your mobile no:-\")):\n",
    "        print(\"you have logged in successfuully\")\n",
    "    else:\n",
    "        print(\"otp is not correct please try to enter again\")\n",
    "else:\n",
    "    print(\"yoou have not entered a valid mobile number:-\")"
   ]
  },
  {
   "cell_type": "code",
   "execution_count": 31,
   "id": "132729e9",
   "metadata": {},
   "outputs": [
    {
     "name": "stdout",
     "output_type": "stream",
     "text": [
      "1\n",
      "2\n",
      "3\n",
      "5\n"
     ]
    }
   ],
   "source": [
    "l1=[1,2,3,5]\n",
    "for i in l1:\n",
    "    print(i)"
   ]
  },
  {
   "cell_type": "code",
   "execution_count": 33,
   "id": "5838835d",
   "metadata": {},
   "outputs": [
    {
     "name": "stdout",
     "output_type": "stream",
     "text": [
      "22342\n",
      "44534\n",
      "1321\n",
      "345353\n",
      "2342342\n"
     ]
    }
   ],
   "source": [
    "mobile_no=[22342,44534,1321,345353,2342342]\n",
    "for i in mobile_no:\n",
    "    print(i)"
   ]
  },
  {
   "cell_type": "code",
   "execution_count": 42,
   "id": "ac40a2e9",
   "metadata": {},
   "outputs": [
    {
     "name": "stdout",
     "output_type": "stream",
     "text": [
      "23423\n",
      "yes user is registered\n",
      "yes student details are available in DB\n",
      "course accessed to this user is  ['dsa', 'dsm', 'big data']\n",
      "1231223\n",
      "452342\n",
      "36345\n",
      "21342\n"
     ]
    }
   ],
   "source": [
    "mobile_no=[23423,1231223,452342,36345,21342]\n",
    "stud_mo = 23423\n",
    "stud_details={'mobile_no':23423 , 'course':['dsa','dsm','big data']}\n",
    "\n",
    "for i in mobile_no:\n",
    "    print(i)\n",
    "    if i == stud_mo:\n",
    "        print(\"yes user is registered\")\n",
    "        if i == stud_details['mobile_no']:\n",
    "            print(\"yes student details are available in DB\")\n",
    "            print(\"course accessed to this user is \",stud_details['course'])\n",
    "    "
   ]
  },
  {
   "cell_type": "code",
   "execution_count": 45,
   "id": "f1805a6c",
   "metadata": {},
   "outputs": [
    {
     "name": "stdout",
     "output_type": "stream",
     "text": [
      "sudh\n",
      "kumar\n"
     ]
    }
   ],
   "source": [
    "#extract strings from the given list\n",
    "t=(12,3,4,5,56,\"sudh\",\"kumar\")\n",
    "for i in t:\n",
    "    if type(i)== str:\n",
    "        print(i)"
   ]
  },
  {
   "cell_type": "code",
   "execution_count": 51,
   "id": "8f368250",
   "metadata": {},
   "outputs": [
    {
     "name": "stdout",
     "output_type": "stream",
     "text": [
      "[12, 3, 4, 5, 56]\n",
      "['sudh', 'kumar']\n"
     ]
    }
   ],
   "source": [
    "lst_of_int=[]\n",
    "lst_of_str=[]\n",
    "for i in t:\n",
    "    if type(i)==int:\n",
    "        lst_of_int.append(i)\n",
    "    elif type(i)==str:\n",
    "        lst_of_str.append(i)\n",
    "print(lst_of_int)\n",
    "print(lst_of_str)\n",
    "        "
   ]
  },
  {
   "cell_type": "code",
   "execution_count": 52,
   "id": "84eec537",
   "metadata": {},
   "outputs": [
    {
     "data": {
      "text/plain": [
       "{3, 4, 5, 7, 8, 56, 76}"
      ]
     },
     "execution_count": 52,
     "metadata": {},
     "output_type": "execute_result"
    }
   ],
   "source": [
    "s={3,4,5,56,76,7,7,8,8}\n",
    "s"
   ]
  },
  {
   "cell_type": "code",
   "execution_count": 54,
   "id": "f1e33865",
   "metadata": {},
   "outputs": [
    {
     "name": "stdout",
     "output_type": "stream",
     "text": [
      "3\n",
      "4\n",
      "5\n",
      "7\n",
      "8\n",
      "56\n",
      "76\n"
     ]
    }
   ],
   "source": [
    "for i in s:\n",
    "    print(i)"
   ]
  },
  {
   "cell_type": "code",
   "execution_count": 55,
   "id": "a5bd8bed",
   "metadata": {},
   "outputs": [],
   "source": [
    "d={\"name\":\"lalit\",'class':['big data','data analytics','data science','dsa','arch'],'mobile no':324234234,\"email_id\":'lalitborase8@gmail.com'}"
   ]
  },
  {
   "cell_type": "code",
   "execution_count": 56,
   "id": "012a470c",
   "metadata": {},
   "outputs": [
    {
     "data": {
      "text/plain": [
       "{'name': 'lalit',\n",
       " 'class': ['big data', 'data analytics', 'data science', 'dsa', 'arch'],\n",
       " 'mobile no': 324234234,\n",
       " 'email_id': 'lalitborase8@gmail.com'}"
      ]
     },
     "execution_count": 56,
     "metadata": {},
     "output_type": "execute_result"
    }
   ],
   "source": [
    "d"
   ]
  },
  {
   "cell_type": "code",
   "execution_count": 57,
   "id": "9d7b993b",
   "metadata": {},
   "outputs": [
    {
     "name": "stdout",
     "output_type": "stream",
     "text": [
      "lalit\n",
      "['big data', 'data analytics', 'data science', 'dsa', 'arch']\n",
      "324234234\n",
      "lalitborase8@gmail.com\n"
     ]
    }
   ],
   "source": [
    "for i in d.values():\n",
    "    print(i)"
   ]
  },
  {
   "cell_type": "code",
   "execution_count": 58,
   "id": "b639218e",
   "metadata": {},
   "outputs": [
    {
     "data": {
      "text/plain": [
       "dict_values(['lalit', ['big data', 'data analytics', 'data science', 'dsa', 'arch'], 324234234, 'lalitborase8@gmail.com'])"
      ]
     },
     "execution_count": 58,
     "metadata": {},
     "output_type": "execute_result"
    }
   ],
   "source": [
    "d.values()"
   ]
  },
  {
   "cell_type": "code",
   "execution_count": 59,
   "id": "96626238",
   "metadata": {},
   "outputs": [
    {
     "name": "stdout",
     "output_type": "stream",
     "text": [
      "['big data', 'data analytics', 'data science', 'dsa', 'arch']\n"
     ]
    }
   ],
   "source": [
    "for i in d.values():\n",
    "    if type(i)==list:\n",
    "        print(i)"
   ]
  },
  {
   "cell_type": "code",
   "execution_count": 62,
   "id": "4dd8cc68",
   "metadata": {},
   "outputs": [
    {
     "name": "stdout",
     "output_type": "stream",
     "text": [
      "yes this mentor teach system design\n"
     ]
    }
   ],
   "source": [
    "for i in d.values():\n",
    "    if type(i)==list:\n",
    "        if 'dsa' in i:\n",
    "            print(\"yes this mentor teach system design\")\n",
    " "
   ]
  },
  {
   "cell_type": "code",
   "execution_count": null,
   "id": "27f61515",
   "metadata": {},
   "outputs": [],
   "source": []
  }
 ],
 "metadata": {
  "kernelspec": {
   "display_name": "Python 3 (ipykernel)",
   "language": "python",
   "name": "python3"
  },
  "language_info": {
   "codemirror_mode": {
    "name": "ipython",
    "version": 3
   },
   "file_extension": ".py",
   "mimetype": "text/x-python",
   "name": "python",
   "nbconvert_exporter": "python",
   "pygments_lexer": "ipython3",
   "version": "3.11.5"
  }
 },
 "nbformat": 4,
 "nbformat_minor": 5
}
