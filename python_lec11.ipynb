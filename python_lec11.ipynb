{
 "cells": [
  {
   "cell_type": "code",
   "execution_count": 1,
   "id": "0acb3fcc",
   "metadata": {},
   "outputs": [],
   "source": [
    "#polymorphism:-#ploy-means many, morphism means-different varieties\n",
    "#same thing behaves differently.#polymorphism implements three ways the general one is overriding and \n",
    "#overloading and third one is without using overloading and overriding we can achieve polymorphism"
   ]
  },
  {
   "cell_type": "code",
   "execution_count": 2,
   "id": "bcbe097d",
   "metadata": {},
   "outputs": [],
   "source": [
    "def test(a,b):\n",
    "    return a+b"
   ]
  },
  {
   "cell_type": "code",
   "execution_count": 3,
   "id": "9ff10bdb",
   "metadata": {},
   "outputs": [
    {
     "data": {
      "text/plain": [
       "7"
      ]
     },
     "execution_count": 3,
     "metadata": {},
     "output_type": "execute_result"
    }
   ],
   "source": [
    "test(3,4)"
   ]
  },
  {
   "cell_type": "code",
   "execution_count": 4,
   "id": "e2a128e1",
   "metadata": {},
   "outputs": [
    {
     "data": {
      "text/plain": [
       "'lalitborase'"
      ]
     },
     "execution_count": 4,
     "metadata": {},
     "output_type": "execute_result"
    }
   ],
   "source": [
    "test(\"lalit\",\"borase\")"
   ]
  },
  {
   "cell_type": "code",
   "execution_count": 5,
   "id": "68390295",
   "metadata": {},
   "outputs": [
    {
     "data": {
      "text/plain": [
       "[1, 2, 3, 11, 22, 33]"
      ]
     },
     "execution_count": 5,
     "metadata": {},
     "output_type": "execute_result"
    }
   ],
   "source": [
    "test([1,2,3],[11,22,33])"
   ]
  },
  {
   "cell_type": "code",
   "execution_count": 14,
   "id": "d991f9ad",
   "metadata": {},
   "outputs": [
    {
     "name": "stdout",
     "output_type": "stream",
     "text": [
      "this willl give me a details aobut data science studet\n",
      "this will give me a details about big data student\n"
     ]
    }
   ],
   "source": [
    "class pwskills:\n",
    "    def student(self):\n",
    "        pass\n",
    "class datascience(pwskills):\n",
    "    def student(self):\n",
    "        print(\"this willl give me a details aobut data science studet\")\n",
    "class bigdata(pwskills):\n",
    "    def student(self):\n",
    "        print(\"this will give me a details about big data student\")\n",
    "yash=datascience()\n",
    "farhana=bigdata()\n",
    "yash.student()\n",
    "farhana.student()"
   ]
  },
  {
   "cell_type": "code",
   "execution_count": 24,
   "id": "949848b1",
   "metadata": {},
   "outputs": [
    {
     "name": "stdout",
     "output_type": "stream",
     "text": [
      "5 34\n"
     ]
    }
   ],
   "source": [
    "class bigdata:\n",
    "    def __init__(self,number_of_class,number_of_students):\n",
    "        self.number_of_class=number_of_class\n",
    "        self.number_of_students=number_of_students\n",
    "    def __add__(self ,other):#method overloading\n",
    "        return bigdata(self.number_of_class + other.number_of_class,self.number_of_students +other.number_of_students)\n",
    "\n",
    "c1=bigdata(1,10)\n",
    "c2=bigdata(2,12)\n",
    "#bigdata(3,22)\n",
    "c3=bigdata(2,12)\n",
    "#bigdata(5,34)\n",
    "result=c1+c2+c3\n",
    "print(result.number_of_class, result.number_of_students)"
   ]
  },
  {
   "cell_type": "code",
   "execution_count": 25,
   "id": "e9e0f980",
   "metadata": {},
   "outputs": [
    {
     "ename": "TypeError",
     "evalue": "unsupported operand type(s) for +: 'datascience' and 'datascience'",
     "output_type": "error",
     "traceback": [
      "\u001b[1;31m---------------------------------------------------------------------------\u001b[0m",
      "\u001b[1;31mTypeError\u001b[0m                                 Traceback (most recent call last)",
      "Cell \u001b[1;32mIn[25], line 7\u001b[0m\n\u001b[0;32m      5\u001b[0m o2\u001b[38;5;241m=\u001b[39mdatascience()\n\u001b[0;32m      6\u001b[0m o3\u001b[38;5;241m=\u001b[39mdatascience()\n\u001b[1;32m----> 7\u001b[0m r\u001b[38;5;241m=\u001b[39mo1\u001b[38;5;241m+\u001b[39mo2\u001b[38;5;241m+\u001b[39mo3\n",
      "\u001b[1;31mTypeError\u001b[0m: unsupported operand type(s) for +: 'datascience' and 'datascience'"
     ]
    }
   ],
   "source": [
    "class datascience(pwskills):\n",
    "    def student(self):\n",
    "        print(\"this willl give me a details aobut data science studet\")\n",
    "o1=datascience()\n",
    "o2=datascience()\n",
    "o3=datascience()\n",
    "r=o1+o2+o3"
   ]
  },
  {
   "cell_type": "code",
   "execution_count": 27,
   "id": "5e498a31",
   "metadata": {},
   "outputs": [],
   "source": [
    "class datascience:\n",
    "    def student(self):\n",
    "        print(\"this willl give me a details aobut data science studet\")\n",
    "class bigdata:\n",
    "    def student(self):\n",
    "        print(\"this will give me a details about big data student\")\n",
    "def output_class(class_obj):#ducktyping\n",
    "    return class_obj.student()"
   ]
  },
  {
   "cell_type": "code",
   "execution_count": 28,
   "id": "72114af8",
   "metadata": {},
   "outputs": [],
   "source": [
    "lalit=datascience()\n",
    "borase=bigdata()"
   ]
  },
  {
   "cell_type": "code",
   "execution_count": 29,
   "id": "8a663ead",
   "metadata": {},
   "outputs": [
    {
     "name": "stdout",
     "output_type": "stream",
     "text": [
      "this willl give me a details aobut data science studet\n"
     ]
    }
   ],
   "source": [
    "output_class(lalit)"
   ]
  },
  {
   "cell_type": "code",
   "execution_count": 30,
   "id": "1f47d308",
   "metadata": {},
   "outputs": [
    {
     "name": "stdout",
     "output_type": "stream",
     "text": [
      "this will give me a details about big data student\n"
     ]
    }
   ],
   "source": [
    "output_class(borase)"
   ]
  },
  {
   "cell_type": "code",
   "execution_count": 35,
   "id": "bb605d6a",
   "metadata": {},
   "outputs": [],
   "source": [
    "class pwskills:\n",
    "    def student(self):\n",
    "        return \"this is a pwskills student\"\n",
    "class datascience(pwskills):\n",
    "    def student(self):\n",
    "        print(\"this willl give me a details aobut data science studet\")"
   ]
  },
  {
   "cell_type": "code",
   "execution_count": 36,
   "id": "1d4f41b5",
   "metadata": {},
   "outputs": [
    {
     "name": "stdout",
     "output_type": "stream",
     "text": [
      "this willl give me a details aobut data science studet\n"
     ]
    }
   ],
   "source": [
    "ujwal=datascience()\n",
    "ujwal.student()"
   ]
  },
  {
   "cell_type": "code",
   "execution_count": 37,
   "id": "045f4977",
   "metadata": {},
   "outputs": [],
   "source": [
    "#Encapsulation-hidding a data,"
   ]
  },
  {
   "cell_type": "code",
   "execution_count": 75,
   "id": "740926d1",
   "metadata": {},
   "outputs": [],
   "source": [
    "class test:\n",
    "    def __init__(self):\n",
    "        self.__x=\"lalit\"\n",
    "        self.y = \"kumar\"\n",
    "        self.z = \"pwskills\"\n",
    "    def __test_meth(self):\n",
    "        return \"this is just a test\"\n",
    "    def access_var(self):\n",
    "        return self.__x\n",
    "    def update_var(self,data):\n",
    "        self.__x =data"
   ]
  },
  {
   "cell_type": "code",
   "execution_count": 76,
   "id": "de677fbd",
   "metadata": {},
   "outputs": [],
   "source": [
    "t1=  test()\n",
    "t1.update_var(1122)"
   ]
  },
  {
   "cell_type": "code",
   "execution_count": 77,
   "id": "8ceaaf4c",
   "metadata": {},
   "outputs": [
    {
     "data": {
      "text/plain": [
       "1122"
      ]
     },
     "execution_count": 77,
     "metadata": {},
     "output_type": "execute_result"
    }
   ],
   "source": [
    "t1.access_var()"
   ]
  },
  {
   "cell_type": "code",
   "execution_count": 68,
   "id": "9c6cd69a",
   "metadata": {},
   "outputs": [
    {
     "ename": "AttributeError",
     "evalue": "'test' object has no attribute 'x'",
     "output_type": "error",
     "traceback": [
      "\u001b[1;31m---------------------------------------------------------------------------\u001b[0m",
      "\u001b[1;31mAttributeError\u001b[0m                            Traceback (most recent call last)",
      "Cell \u001b[1;32mIn[68], line 1\u001b[0m\n\u001b[1;32m----> 1\u001b[0m t1\u001b[38;5;241m.\u001b[39mx\n",
      "\u001b[1;31mAttributeError\u001b[0m: 'test' object has no attribute 'x'"
     ]
    }
   ],
   "source": [
    "t1.x"
   ]
  },
  {
   "cell_type": "code",
   "execution_count": 69,
   "id": "fdaf95c6",
   "metadata": {},
   "outputs": [
    {
     "data": {
      "text/plain": [
       "'lalit'"
      ]
     },
     "execution_count": 69,
     "metadata": {},
     "output_type": "execute_result"
    }
   ],
   "source": [
    "t1._test__x"
   ]
  },
  {
   "cell_type": "code",
   "execution_count": 70,
   "id": "91696106",
   "metadata": {},
   "outputs": [
    {
     "data": {
      "text/plain": [
       "'this is just a test'"
      ]
     },
     "execution_count": 70,
     "metadata": {},
     "output_type": "execute_result"
    }
   ],
   "source": [
    "t1._test__test_meth()"
   ]
  },
  {
   "cell_type": "code",
   "execution_count": 74,
   "id": "0f11d985",
   "metadata": {},
   "outputs": [
    {
     "data": {
      "text/plain": [
       "'lalit'"
      ]
     },
     "execution_count": 74,
     "metadata": {},
     "output_type": "execute_result"
    }
   ],
   "source": [
    "t1.access_var()"
   ]
  },
  {
   "cell_type": "code",
   "execution_count": 83,
   "id": "4eb7032a",
   "metadata": {},
   "outputs": [
    {
     "data": {
      "text/plain": [
       "22222"
      ]
     },
     "execution_count": 83,
     "metadata": {},
     "output_type": "execute_result"
    }
   ],
   "source": [
    "class bank:\n",
    "    def __init__(self, account_number,balance):\n",
    "        self.__account_number = account_number\n",
    "        self.__balance=balance\n",
    "    def check_balance(self,password):\n",
    "        if password ==\"mysecurepass\":\n",
    "            return self.__balance\n",
    "        else:\n",
    "            return \"incorrect password\"\n",
    "sudh=bank(123456,22222)\n",
    "sudh.check_balance(\"mysecurepass\")"
   ]
  },
  {
   "cell_type": "code",
   "execution_count": 97,
   "id": "dbf929a8",
   "metadata": {},
   "outputs": [],
   "source": [
    "class queue:\n",
    "    def __init__(self):\n",
    "        self._queue=[]\n",
    "    def enqueue(self,data):\n",
    "        self._queue.append(data)\n",
    "    def dequeue(self):\n",
    "        if self._queue:\n",
    "            return self.queue.pop(0)\n",
    "        else:\n",
    "            print(\"its empty\")\n",
    "    def showdata(self):\n",
    "        return self._queue\n",
    "        "
   ]
  },
  {
   "cell_type": "code",
   "execution_count": 98,
   "id": "748cdf04",
   "metadata": {},
   "outputs": [],
   "source": [
    "q=queue()"
   ]
  },
  {
   "cell_type": "code",
   "execution_count": 99,
   "id": "1c3a3bbb",
   "metadata": {},
   "outputs": [
    {
     "name": "stdout",
     "output_type": "stream",
     "text": [
      "its empty\n"
     ]
    }
   ],
   "source": [
    "q.dequeue()"
   ]
  },
  {
   "cell_type": "code",
   "execution_count": 100,
   "id": "2a6fc6e9",
   "metadata": {},
   "outputs": [],
   "source": [
    "q.enqueue(40)"
   ]
  },
  {
   "cell_type": "code",
   "execution_count": 101,
   "id": "543216b6",
   "metadata": {},
   "outputs": [
    {
     "data": {
      "text/plain": [
       "[40]"
      ]
     },
     "execution_count": 101,
     "metadata": {},
     "output_type": "execute_result"
    }
   ],
   "source": [
    "q.showdata()"
   ]
  },
  {
   "cell_type": "code",
   "execution_count": 102,
   "id": "5956bccf",
   "metadata": {},
   "outputs": [
    {
     "data": {
      "text/plain": [
       "[40]"
      ]
     },
     "execution_count": 102,
     "metadata": {},
     "output_type": "execute_result"
    }
   ],
   "source": [
    "q._queue"
   ]
  },
  {
   "cell_type": "code",
   "execution_count": 103,
   "id": "dcff8893",
   "metadata": {},
   "outputs": [],
   "source": [
    "#abstraction"
   ]
  },
  {
   "cell_type": "code",
   "execution_count": 104,
   "id": "2d915d33",
   "metadata": {},
   "outputs": [],
   "source": [
    "class pwskills:\n",
    "    def student_details(self):\n",
    "        return \"this will give you a student details\""
   ]
  },
  {
   "cell_type": "code",
   "execution_count": 144,
   "id": "27acd362",
   "metadata": {},
   "outputs": [],
   "source": [
    "from abc import ABC,abstractmethod\n",
    "class pwskills(ABC):\n",
    "    \n",
    "    @abstractmethod\n",
    "    def databaseconnect(self):\n",
    "        pass\n",
    "    @abstractmethod\n",
    "    def checkuserenrollment(self,user_mailid):\n",
    "        pass\n",
    "    @abstractmethod\n",
    "    def check_complete_lecture(self,user_id,class_id):\n",
    "        pass\n",
    "    @abstractmethod\n",
    "    def check_lab_usases(self,user_id):\n",
    "        pass\n",
    "    @abstractmethod\n",
    "    def check_internship(self,user_id):\n",
    "        pass"
   ]
  },
  {
   "cell_type": "code",
   "execution_count": 145,
   "id": "641b29e5",
   "metadata": {},
   "outputs": [],
   "source": [
    "class databaseconnect(pwskills):\n",
    "    def databaseconnect(self):\n",
    "        print(\"this is a implementation of database connect\")"
   ]
  },
  {
   "cell_type": "code",
   "execution_count": 146,
   "id": "7dd3e961",
   "metadata": {},
   "outputs": [
    {
     "ename": "TypeError",
     "evalue": "Can't instantiate abstract class databaseconnect with abstract methods check_complete_lecture, check_internship, check_lab_usases, checkuserenrollment",
     "output_type": "error",
     "traceback": [
      "\u001b[1;31m---------------------------------------------------------------------------\u001b[0m",
      "\u001b[1;31mTypeError\u001b[0m                                 Traceback (most recent call last)",
      "Cell \u001b[1;32mIn[146], line 1\u001b[0m\n\u001b[1;32m----> 1\u001b[0m db1 \u001b[38;5;241m=\u001b[39m  databaseconnect()\n",
      "\u001b[1;31mTypeError\u001b[0m: Can't instantiate abstract class databaseconnect with abstract methods check_complete_lecture, check_internship, check_lab_usases, checkuserenrollment"
     ]
    }
   ],
   "source": [
    "db1 =  databaseconnect()"
   ]
  },
  {
   "cell_type": "code",
   "execution_count": 147,
   "id": "e4c23c9b",
   "metadata": {},
   "outputs": [
    {
     "name": "stdout",
     "output_type": "stream",
     "text": [
      "this is a implementation of database connect\n"
     ]
    }
   ],
   "source": [
    "db1.databaseconnect()"
   ]
  },
  {
   "cell_type": "code",
   "execution_count": 151,
   "id": "4da17ab7",
   "metadata": {},
   "outputs": [],
   "source": [
    "class databaseconnect(pwskills):\n",
    "    def databaseconnect(self):\n",
    "        print(\"this is a implementation of database connect\")\n",
    "    def checkuserenrollment(self,user_mailid):\n",
    "        return \"test\"\n",
    "    def check_complete_lecture(self,user_id,class_id):\n",
    "         return \"test\"\n",
    "    def check_lab_usases(self,user_id):\n",
    "         return \"test\"\n",
    "    def check_internship(self,user_id):\n",
    "         return \"test\"\n",
    "    "
   ]
  },
  {
   "cell_type": "code",
   "execution_count": 152,
   "id": "03a8a56f",
   "metadata": {},
   "outputs": [],
   "source": [
    "db1=databaseconnect()"
   ]
  },
  {
   "cell_type": "code",
   "execution_count": 153,
   "id": "fb937835",
   "metadata": {},
   "outputs": [
    {
     "name": "stdout",
     "output_type": "stream",
     "text": [
      "this is a implementation of database connect\n"
     ]
    }
   ],
   "source": [
    "db1.databaseconnect()"
   ]
  },
  {
   "cell_type": "code",
   "execution_count": 161,
   "id": "e51725d0",
   "metadata": {},
   "outputs": [],
   "source": [
    "class calculation:\n",
    "    def add(x,y):\n",
    "        return x+y\n",
    "    def sub(x,y):\n",
    "        return x-y\n",
    "    def div(self,x,y):\n",
    "        return x/y"
   ]
  },
  {
   "cell_type": "code",
   "execution_count": 164,
   "id": "4cd31931",
   "metadata": {},
   "outputs": [
    {
     "data": {
      "text/plain": [
       "7"
      ]
     },
     "execution_count": 164,
     "metadata": {},
     "output_type": "execute_result"
    }
   ],
   "source": [
    "calculation.add(3,4)"
   ]
  },
  {
   "cell_type": "code",
   "execution_count": 165,
   "id": "c21d1f64",
   "metadata": {},
   "outputs": [
    {
     "data": {
      "text/plain": [
       "3"
      ]
     },
     "execution_count": 165,
     "metadata": {},
     "output_type": "execute_result"
    }
   ],
   "source": [
    "calculation.sub(4,1)"
   ]
  },
  {
   "cell_type": "code",
   "execution_count": 166,
   "id": "7439fb4e",
   "metadata": {},
   "outputs": [
    {
     "data": {
      "text/plain": [
       "0.8"
      ]
     },
     "execution_count": 166,
     "metadata": {},
     "output_type": "execute_result"
    }
   ],
   "source": [
    "calculation.div(_,4,5)"
   ]
  },
  {
   "cell_type": "code",
   "execution_count": 162,
   "id": "9434843a",
   "metadata": {},
   "outputs": [
    {
     "data": {
      "text/plain": [
       "0.75"
      ]
     },
     "execution_count": 162,
     "metadata": {},
     "output_type": "execute_result"
    }
   ],
   "source": [
    "a=calculation()\n",
    "a.div(3,4)"
   ]
  },
  {
   "cell_type": "code",
   "execution_count": 163,
   "id": "275e69e3",
   "metadata": {},
   "outputs": [
    {
     "data": {
      "text/plain": [
       "0.8"
      ]
     },
     "execution_count": 163,
     "metadata": {},
     "output_type": "execute_result"
    }
   ],
   "source": [
    "b=calculation()\n",
    "b.div(4,5)"
   ]
  },
  {
   "cell_type": "code",
   "execution_count": 167,
   "id": "de669bba",
   "metadata": {},
   "outputs": [],
   "source": [
    "#self uses in case of object otherwise no usefull"
   ]
  },
  {
   "cell_type": "code",
   "execution_count": 168,
   "id": "ec7fded3",
   "metadata": {},
   "outputs": [],
   "source": [
    "class calculation:\n",
    "    @staticmethod\n",
    "    def add(x,y):\n",
    "        return x+y\n",
    "    @staticmethod\n",
    "    def sub(x,y):\n",
    "        return x-y\n",
    "    def div(self,x,y):\n",
    "        return x/y"
   ]
  },
  {
   "cell_type": "code",
   "execution_count": 169,
   "id": "f9e48821",
   "metadata": {},
   "outputs": [],
   "source": [
    "class cal(calculation):\n",
    "    pass"
   ]
  },
  {
   "cell_type": "code",
   "execution_count": 172,
   "id": "32b47236",
   "metadata": {},
   "outputs": [
    {
     "data": {
      "text/plain": [
       "9"
      ]
     },
     "execution_count": 172,
     "metadata": {},
     "output_type": "execute_result"
    }
   ],
   "source": [
    "cal.add(4,5)"
   ]
  },
  {
   "cell_type": "code",
   "execution_count": 175,
   "id": "ddec0961",
   "metadata": {},
   "outputs": [
    {
     "data": {
      "text/plain": [
       "0.75"
      ]
     },
     "execution_count": 175,
     "metadata": {},
     "output_type": "execute_result"
    }
   ],
   "source": [
    "cal.div(_,3,4)"
   ]
  },
  {
   "cell_type": "code",
   "execution_count": 170,
   "id": "25c89c39",
   "metadata": {},
   "outputs": [],
   "source": [
    "c1=cal()"
   ]
  },
  {
   "cell_type": "code",
   "execution_count": 171,
   "id": "df91fad4",
   "metadata": {},
   "outputs": [
    {
     "data": {
      "text/plain": [
       "7"
      ]
     },
     "execution_count": 171,
     "metadata": {},
     "output_type": "execute_result"
    }
   ],
   "source": [
    "c1.add(3,4)"
   ]
  },
  {
   "cell_type": "code",
   "execution_count": 176,
   "id": "52f0c6dd",
   "metadata": {},
   "outputs": [],
   "source": [
    "class calculation:\n",
    "    @staticmethod\n",
    "    def add(x,y):\n",
    "        return x+y\n",
    "    @staticmethod\n",
    "    def sub(x,y):\n",
    "        return x-y\n",
    "    def div(self,x,y):\n",
    "        return x/y"
   ]
  },
  {
   "cell_type": "code",
   "execution_count": 178,
   "id": "9b99d4f2",
   "metadata": {},
   "outputs": [],
   "source": [
    "class cal(calculation):\n",
    "    def add(x,y):\n",
    "        return x*y"
   ]
  },
  {
   "cell_type": "code",
   "execution_count": 179,
   "id": "549bd867",
   "metadata": {},
   "outputs": [
    {
     "data": {
      "text/plain": [
       "20"
      ]
     },
     "execution_count": 179,
     "metadata": {},
     "output_type": "execute_result"
    }
   ],
   "source": [
    "cal.add(4,5)"
   ]
  },
  {
   "cell_type": "code",
   "execution_count": 180,
   "id": "58677731",
   "metadata": {},
   "outputs": [
    {
     "ename": "TypeError",
     "evalue": "cal.add() takes 2 positional arguments but 3 were given",
     "output_type": "error",
     "traceback": [
      "\u001b[1;31m---------------------------------------------------------------------------\u001b[0m",
      "\u001b[1;31mTypeError\u001b[0m                                 Traceback (most recent call last)",
      "Cell \u001b[1;32mIn[180], line 2\u001b[0m\n\u001b[0;32m      1\u001b[0m c1\u001b[38;5;241m=\u001b[39mcal()\n\u001b[1;32m----> 2\u001b[0m c1\u001b[38;5;241m.\u001b[39madd(\u001b[38;5;241m3\u001b[39m,\u001b[38;5;241m4\u001b[39m)\n",
      "\u001b[1;31mTypeError\u001b[0m: cal.add() takes 2 positional arguments but 3 were given"
     ]
    }
   ],
   "source": [
    "c1=cal()\n",
    "c1.add(3,4)"
   ]
  },
  {
   "cell_type": "code",
   "execution_count": 181,
   "id": "037c7ac6",
   "metadata": {},
   "outputs": [],
   "source": [
    "#encapsulation and abstraction"
   ]
  },
  {
   "cell_type": "code",
   "execution_count": 197,
   "id": "f74abfc0",
   "metadata": {},
   "outputs": [],
   "source": [
    "class file_ops:\n",
    "    def __init__(self,filename):\n",
    "        self.filename=filename\n",
    "    def read_file(self):\n",
    "        with open(self.filename,'r') as file:\n",
    "            return file.read()\n",
    "    def write_file(self,data):\n",
    "        with open(self.filename,'w') as file:\n",
    "            file.write(data)"
   ]
  },
  {
   "cell_type": "code",
   "execution_count": 198,
   "id": "466793c9",
   "metadata": {},
   "outputs": [],
   "source": [
    "lalit_op_file = file_ops('lalit.txt')\n",
    "lalit_op_file.write_file(\"lalit borase\")"
   ]
  },
  {
   "cell_type": "code",
   "execution_count": 199,
   "id": "2530acb0",
   "metadata": {},
   "outputs": [],
   "source": [
    "kapil =file_ops('kapil.txt')\n",
    "kapil.write_file(\"this is a kapil file\")"
   ]
  },
  {
   "cell_type": "code",
   "execution_count": null,
   "id": "4c1af5e3",
   "metadata": {},
   "outputs": [],
   "source": []
  },
  {
   "cell_type": "code",
   "execution_count": 200,
   "id": "aeaa7644",
   "metadata": {},
   "outputs": [],
   "source": [
    "#compositon"
   ]
  },
  {
   "cell_type": "code",
   "execution_count": 204,
   "id": "4e53f2eb",
   "metadata": {},
   "outputs": [],
   "source": [
    "class pwskills:\n",
    "    def student(self):\n",
    "        return \"student details\"\n",
    "class datascience:\n",
    "    def __init__(self):\n",
    "        self.student=pwskills() #student is a technically object of  pwskillsds="
   ]
  },
  {
   "cell_type": "code",
   "execution_count": 205,
   "id": "cf8f06b4",
   "metadata": {},
   "outputs": [],
   "source": [
    "ds=datascience()"
   ]
  },
  {
   "cell_type": "code",
   "execution_count": 206,
   "id": "f603ce31",
   "metadata": {},
   "outputs": [
    {
     "data": {
      "text/plain": [
       "'student details'"
      ]
     },
     "execution_count": 206,
     "metadata": {},
     "output_type": "execute_result"
    }
   ],
   "source": [
    "ds.student.student()"
   ]
  },
  {
   "cell_type": "code",
   "execution_count": 207,
   "id": "d5b78c89",
   "metadata": {},
   "outputs": [],
   "source": [
    "class data:\n",
    "    def __init__(self,mentor_name):\n",
    "        self.mentor_name = mentor_name\n",
    "class webdev:\n",
    "    def __init__(self,mentor,lecture_name):\n",
    "        self.mentor=mentor\n",
    "        self.lecture_name =lecture_name"
   ]
  },
  {
   "cell_type": "code",
   "execution_count": 208,
   "id": "a836a1a1",
   "metadata": {},
   "outputs": [],
   "source": [
    "d=data(\"sudh\")\n",
    "w=webdev(\"krish\",\"css\")"
   ]
  },
  {
   "cell_type": "code",
   "execution_count": 209,
   "id": "3fb8ec62",
   "metadata": {},
   "outputs": [
    {
     "data": {
      "text/plain": [
       "'sudh'"
      ]
     },
     "execution_count": 209,
     "metadata": {},
     "output_type": "execute_result"
    }
   ],
   "source": [
    "d.mentor_name"
   ]
  },
  {
   "cell_type": "code",
   "execution_count": 210,
   "id": "b6a47b82",
   "metadata": {},
   "outputs": [
    {
     "data": {
      "text/plain": [
       "'krish'"
      ]
     },
     "execution_count": 210,
     "metadata": {},
     "output_type": "execute_result"
    }
   ],
   "source": [
    "w.mentor"
   ]
  },
  {
   "cell_type": "code",
   "execution_count": 211,
   "id": "7688dbde",
   "metadata": {},
   "outputs": [],
   "source": [
    "d=data(\"sudh\")\n",
    "w=webdev(d,\"css\")"
   ]
  },
  {
   "cell_type": "code",
   "execution_count": 212,
   "id": "ce57beb6",
   "metadata": {},
   "outputs": [
    {
     "data": {
      "text/plain": [
       "'sudh'"
      ]
     },
     "execution_count": 212,
     "metadata": {},
     "output_type": "execute_result"
    }
   ],
   "source": [
    "d.mentor_name"
   ]
  },
  {
   "cell_type": "code",
   "execution_count": 214,
   "id": "da8299b3",
   "metadata": {},
   "outputs": [
    {
     "data": {
      "text/plain": [
       "'sudh'"
      ]
     },
     "execution_count": 214,
     "metadata": {},
     "output_type": "execute_result"
    }
   ],
   "source": [
    "w.mentor.mentor_name"
   ]
  },
  {
   "cell_type": "code",
   "execution_count": 215,
   "id": "73a38618",
   "metadata": {},
   "outputs": [],
   "source": [
    "#zip"
   ]
  },
  {
   "cell_type": "code",
   "execution_count": 219,
   "id": "30ae932c",
   "metadata": {},
   "outputs": [
    {
     "data": {
      "text/plain": [
       "[(1, 11, 'lalit'), (2, 22, 'borase'), (3, 33, 'ganesh'), (4, 44, 'svkm')]"
      ]
     },
     "execution_count": 219,
     "metadata": {},
     "output_type": "execute_result"
    }
   ],
   "source": [
    "l1=[1,2,3,4,5]\n",
    "l2=[11,22,33,44]\n",
    "l3=[\"lalit\",\"borase\",\"ganesh\",\"svkm\"]\n",
    "list(zip(l1,l2,l3))"
   ]
  },
  {
   "cell_type": "code",
   "execution_count": 220,
   "id": "76fe8ec3",
   "metadata": {},
   "outputs": [
    {
     "data": {
      "text/plain": [
       "['lalit', 'borase', 'ganesh', 'svkm']"
      ]
     },
     "execution_count": 220,
     "metadata": {},
     "output_type": "execute_result"
    }
   ],
   "source": [
    "l3"
   ]
  },
  {
   "cell_type": "code",
   "execution_count": 221,
   "id": "89893fda",
   "metadata": {},
   "outputs": [
    {
     "name": "stdout",
     "output_type": "stream",
     "text": [
      "0    lalit\n",
      "1    borase\n",
      "2    ganesh\n",
      "3    svkm\n"
     ]
    }
   ],
   "source": [
    "for index, data in enumerate(l3):\n",
    "    print(index,\"  \",data)"
   ]
  },
  {
   "cell_type": "code",
   "execution_count": null,
   "id": "698eba2f",
   "metadata": {},
   "outputs": [],
   "source": []
  }
 ],
 "metadata": {
  "kernelspec": {
   "display_name": "Python 3 (ipykernel)",
   "language": "python",
   "name": "python3"
  },
  "language_info": {
   "codemirror_mode": {
    "name": "ipython",
    "version": 3
   },
   "file_extension": ".py",
   "mimetype": "text/x-python",
   "name": "python",
   "nbconvert_exporter": "python",
   "pygments_lexer": "ipython3",
   "version": "3.11.5"
  }
 },
 "nbformat": 4,
 "nbformat_minor": 5
}
