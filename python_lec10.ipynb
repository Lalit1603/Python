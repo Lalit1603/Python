{
 "cells": [
  {
   "cell_type": "code",
   "execution_count": 2,
   "id": "045e5284",
   "metadata": {},
   "outputs": [],
   "source": [
    "class pwskills:\n",
    "    def __init__(self,mentor):\n",
    "        self.mentor=mentor\n",
    "    def mentor_name(self):\n",
    "        print(self.mentor)\n",
    "class datascience(pwskills):\n",
    "    def __init__(self,mentor,mentor_mail_id):\n",
    "        self.mentor=mentor\n",
    "        self.mentor_mail_id = mentor_mail_id\n",
    "        \n",
    "    def show_info(self):\n",
    "        print(self.mentor,self.mentor_mail_id)"
   ]
  },
  {
   "cell_type": "code",
   "execution_count": 4,
   "id": "4c3f25c4",
   "metadata": {},
   "outputs": [],
   "source": [
    "python_basic=datascience(\"sudhanshu\",\"sasf@gmail.com\")"
   ]
  },
  {
   "cell_type": "code",
   "execution_count": 5,
   "id": "f69e41d9",
   "metadata": {},
   "outputs": [
    {
     "name": "stdout",
     "output_type": "stream",
     "text": [
      "sudhanshu sasf@gmail.com\n"
     ]
    }
   ],
   "source": [
    "python_basic.show_info()"
   ]
  },
  {
   "cell_type": "code",
   "execution_count": 6,
   "id": "4a29c02b",
   "metadata": {},
   "outputs": [
    {
     "name": "stdout",
     "output_type": "stream",
     "text": [
      "sudhanshu\n"
     ]
    }
   ],
   "source": [
    "python_basic.mentor_name()"
   ]
  },
  {
   "cell_type": "code",
   "execution_count": 7,
   "id": "9c0c9475",
   "metadata": {},
   "outputs": [],
   "source": [
    "class pwskills:\n",
    "    def __init__(self,mentor):\n",
    "        self.mentor=mentor\n",
    "    def mentor_name(self):\n",
    "        print(self.mentor)\n",
    "class datascience(pwskills):\n",
    "    def __init__(self,mentor,mentor_mail_id):\n",
    "      #  self.mentor=mentor\n",
    "        super().__init__(mentor)\n",
    "        self.mentor_mail_id = mentor_mail_id\n",
    "        \n",
    "    def show_info(self):\n",
    "        print(self.mentor,self.mentor_mail_id)"
   ]
  },
  {
   "cell_type": "code",
   "execution_count": 8,
   "id": "5f1cc40b",
   "metadata": {},
   "outputs": [],
   "source": [
    "python_basic=datascience(\"sudhanshu\",\"sasf@gmail.com\")"
   ]
  },
  {
   "cell_type": "code",
   "execution_count": 9,
   "id": "c9385f67",
   "metadata": {},
   "outputs": [
    {
     "name": "stdout",
     "output_type": "stream",
     "text": [
      "sudhanshu sasf@gmail.com\n"
     ]
    }
   ],
   "source": [
    "python_basic.show_info()"
   ]
  },
  {
   "cell_type": "code",
   "execution_count": 10,
   "id": "31670b7c",
   "metadata": {},
   "outputs": [
    {
     "name": "stdout",
     "output_type": "stream",
     "text": [
      "sudhanshu\n"
     ]
    }
   ],
   "source": [
    "python_basic.mentor_name()"
   ]
  },
  {
   "cell_type": "code",
   "execution_count": 15,
   "id": "9f2e06c5",
   "metadata": {},
   "outputs": [],
   "source": [
    "class pwskills:\n",
    "    def __init__(self,mentor):\n",
    "        self.mentor=mentor\n",
    "    def mentor_name(self):\n",
    "        print(self.mentor)\n",
    "class datascience(pwskills):\n",
    "    def __init__(self,mentor,mentor_mail_id):\n",
    "      #  self.mentor=mentor\n",
    "        super().__init__(mentor)\n",
    "        self.mentor_mail_id = mentor_mail_id\n",
    "        \n",
    "    def show_info(self):\n",
    "        super().mentor_name()\n",
    "        self.mentor_name()\n",
    "        #above both the methods are same\n",
    "        print(self.mentor,self.mentor_mail_id)"
   ]
  },
  {
   "cell_type": "code",
   "execution_count": 16,
   "id": "0b6687e5",
   "metadata": {},
   "outputs": [],
   "source": [
    "python_basic=datascience(\"sudhanshu\",\"sasf@gmail.com\")"
   ]
  },
  {
   "cell_type": "code",
   "execution_count": 17,
   "id": "2e063bd9",
   "metadata": {},
   "outputs": [
    {
     "name": "stdout",
     "output_type": "stream",
     "text": [
      "sudhanshu\n",
      "sudhanshu\n",
      "sudhanshu sasf@gmail.com\n"
     ]
    }
   ],
   "source": [
    "python_basic.show_info()"
   ]
  },
  {
   "cell_type": "code",
   "execution_count": 18,
   "id": "1e856e49",
   "metadata": {},
   "outputs": [
    {
     "name": "stdout",
     "output_type": "stream",
     "text": [
      "sudhanshu\n"
     ]
    }
   ],
   "source": [
    "python_basic.mentor_name()"
   ]
  },
  {
   "cell_type": "code",
   "execution_count": 2,
   "id": "4c475d3c",
   "metadata": {},
   "outputs": [],
   "source": [
    "class human:\n",
    "    def __init__(self):\n",
    "        pass\n",
    "    def eat(self):\n",
    "        print(\"print the eat method from human\")"
   ]
  },
  {
   "cell_type": "code",
   "execution_count": 3,
   "id": "cdf1ec80",
   "metadata": {},
   "outputs": [],
   "source": [
    "class male(human):\n",
    "    def __init__(self,name):\n",
    "        self.name=name\n",
    "    def eat(self):\n",
    "        print(self.name)\n",
    "        #self.eat()#this not worked\n",
    "        super().eat()"
   ]
  },
  {
   "cell_type": "code",
   "execution_count": 4,
   "id": "6e46c90a",
   "metadata": {},
   "outputs": [],
   "source": [
    "lalit=male(\"lalit\")"
   ]
  },
  {
   "cell_type": "code",
   "execution_count": 5,
   "id": "2870f41b",
   "metadata": {},
   "outputs": [
    {
     "name": "stdout",
     "output_type": "stream",
     "text": [
      "lalit\n",
      "print the eat method from human\n"
     ]
    }
   ],
   "source": [
    "lalit.eat()"
   ]
  },
  {
   "cell_type": "code",
   "execution_count": null,
   "id": "04442a44",
   "metadata": {},
   "outputs": [],
   "source": []
  },
  {
   "cell_type": "code",
   "execution_count": 6,
   "id": "07565ee8",
   "metadata": {},
   "outputs": [],
   "source": [
    "#destructor"
   ]
  },
  {
   "cell_type": "code",
   "execution_count": 15,
   "id": "bf221d66",
   "metadata": {},
   "outputs": [],
   "source": [
    "class fileopener:\n",
    "    def __init__(self,filename):#dunder method \n",
    "        self.filename=filename\n",
    "    def open_file(self):\n",
    "        print(\"this will open the file\",self.filename)\n",
    "    def __del__(self):#dunder method\n",
    "        self.filename\n",
    "        print(\"Close my file\")\n"
   ]
  },
  {
   "cell_type": "code",
   "execution_count": 16,
   "id": "4d8c4263",
   "metadata": {},
   "outputs": [
    {
     "name": "stdout",
     "output_type": "stream",
     "text": [
      "Close my file\n"
     ]
    }
   ],
   "source": [
    "f1=fileopener(\"f1.txt\")"
   ]
  },
  {
   "cell_type": "code",
   "execution_count": 17,
   "id": "69acd4b8",
   "metadata": {},
   "outputs": [
    {
     "name": "stdout",
     "output_type": "stream",
     "text": [
      "this will open the file f1.txt\n"
     ]
    }
   ],
   "source": [
    "f1.open_file()"
   ]
  },
  {
   "cell_type": "code",
   "execution_count": null,
   "id": "f8f3831e",
   "metadata": {},
   "outputs": [],
   "source": []
  },
  {
   "cell_type": "code",
   "execution_count": 59,
   "id": "c06017f7",
   "metadata": {},
   "outputs": [],
   "source": [
    "import time\n",
    "class timer:\n",
    "    def __init__(self):\n",
    "        self.start_time=time.time()\n",
    "        print(self.start_time)\n",
    "    def task(self):\n",
    "        time_spent=time.time()-self.start_time\n",
    "        print(time_spent)\n",
    "    \n",
    "    def __del__(self):\n",
    "        print(\"destructor is calling\")\n",
    "    \n",
    "    def __str__(self):\n",
    "        return \"this is my class timer\""
   ]
  },
  {
   "cell_type": "code",
   "execution_count": 60,
   "id": "adf6e16e",
   "metadata": {},
   "outputs": [
    {
     "name": "stdout",
     "output_type": "stream",
     "text": [
      "1705377043.55031\n",
      "destructor is calling\n"
     ]
    }
   ],
   "source": [
    "t1=timer()"
   ]
  },
  {
   "cell_type": "code",
   "execution_count": 61,
   "id": "c1a50c2a",
   "metadata": {},
   "outputs": [
    {
     "name": "stdout",
     "output_type": "stream",
     "text": [
      "0.908402681350708\n"
     ]
    }
   ],
   "source": [
    "t1.task()"
   ]
  },
  {
   "cell_type": "code",
   "execution_count": 62,
   "id": "317225e8",
   "metadata": {},
   "outputs": [
    {
     "name": "stdout",
     "output_type": "stream",
     "text": [
      "this is my class timer\n"
     ]
    }
   ],
   "source": [
    "print(t1)"
   ]
  },
  {
   "cell_type": "code",
   "execution_count": null,
   "id": "4d34a019",
   "metadata": {},
   "outputs": [],
   "source": [
    "#decorator--"
   ]
  },
  {
   "cell_type": "code",
   "execution_count": 68,
   "id": "31331004",
   "metadata": {},
   "outputs": [],
   "source": [
    "def test(func):\n",
    "    def inner_test():\n",
    "        print(\"this is the start of my inner test\")\n",
    "        func()\n",
    "        print(\"this is the end of my inner test\")\n",
    "    return inner_test\n",
    "@test\n",
    "def test1():\n",
    "    print(\"this is my test1\")"
   ]
  },
  {
   "cell_type": "code",
   "execution_count": 69,
   "id": "245589e0",
   "metadata": {},
   "outputs": [
    {
     "name": "stdout",
     "output_type": "stream",
     "text": [
      "this is the start of my inner test\n",
      "this is my test1\n",
      "this is the end of my inner test\n"
     ]
    }
   ],
   "source": [
    "test1()"
   ]
  },
  {
   "cell_type": "code",
   "execution_count": 70,
   "id": "db1935ec",
   "metadata": {},
   "outputs": [],
   "source": [
    "import time\n",
    "def print_list(l):\n",
    "    start_time=time.time()\n",
    "    for i in l:\n",
    "        print(i)\n",
    "    end_time=time.time()\n",
    "    total_time=end_time-start_time\n",
    "    print(total_time)"
   ]
  },
  {
   "cell_type": "code",
   "execution_count": 71,
   "id": "4737ff4d",
   "metadata": {},
   "outputs": [],
   "source": [
    "def print_key(d):\n",
    "    start_time=time.time()\n",
    "    print(d.keys())\n",
    "    end_time=time.time()\n",
    "    total_time=end_time-start_time\n",
    "    print(total_time)"
   ]
  },
  {
   "cell_type": "code",
   "execution_count": 72,
   "id": "b76fefb7",
   "metadata": {},
   "outputs": [],
   "source": [
    "# if i have a thousand of functions then i have to write this lines of code again and again for \n",
    "#the calculate the toatal time taken by the function"
   ]
  },
  {
   "cell_type": "code",
   "execution_count": null,
   "id": "6fc58436",
   "metadata": {},
   "outputs": [],
   "source": [
    "def print_key(d):\n",
    "    print(d.keys())"
   ]
  },
  {
   "cell_type": "code",
   "execution_count": null,
   "id": "a70d4fdd",
   "metadata": {},
   "outputs": [],
   "source": []
  },
  {
   "cell_type": "code",
   "execution_count": null,
   "id": "f06bc316",
   "metadata": {},
   "outputs": [],
   "source": [
    "#inner function wrapper function"
   ]
  },
  {
   "cell_type": "code",
   "execution_count": 87,
   "id": "c3741cb4",
   "metadata": {},
   "outputs": [],
   "source": [
    "def find_time(func):#outer function\n",
    "    def cal_time(*args):#wrapper function\n",
    "        start_time=time.time()\n",
    "        func(*args)\n",
    "        end_time=time.time()\n",
    "        total_time=end_time-start_time\n",
    "        print(total_time)\n",
    "    return cal_time\n",
    "        \n",
    "        "
   ]
  },
  {
   "cell_type": "code",
   "execution_count": 88,
   "id": "c7b5ccca",
   "metadata": {},
   "outputs": [],
   "source": [
    "@find_time\n",
    "def print_key(d):\n",
    "    print(d.keys())"
   ]
  },
  {
   "cell_type": "code",
   "execution_count": 89,
   "id": "dda2b428",
   "metadata": {},
   "outputs": [
    {
     "name": "stdout",
     "output_type": "stream",
     "text": [
      "dict_keys(['key', 'name'])\n",
      "0.0\n"
     ]
    }
   ],
   "source": [
    "print_key({'key':\"value\",'name':'lalit'})"
   ]
  },
  {
   "cell_type": "code",
   "execution_count": 90,
   "id": "bdf07013",
   "metadata": {},
   "outputs": [],
   "source": [
    "@find_time\n",
    "def print_key(d):\n",
    "    print(d.keys())"
   ]
  },
  {
   "cell_type": "code",
   "execution_count": 91,
   "id": "b996fdad",
   "metadata": {},
   "outputs": [
    {
     "name": "stdout",
     "output_type": "stream",
     "text": [
      "dict_keys(['key', 'name'])\n",
      "0.0\n"
     ]
    }
   ],
   "source": [
    "print_key({'key':\"value\",'name':'lalit'})"
   ]
  },
  {
   "cell_type": "code",
   "execution_count": 92,
   "id": "06d9eacc",
   "metadata": {},
   "outputs": [
    {
     "name": "stdout",
     "output_type": "stream",
     "text": [
      "dict_keys(['key', 'name'])\n",
      "0.0\n"
     ]
    }
   ],
   "source": [
    "print_key({'key':\"value\",'name':'lalit'})"
   ]
  },
  {
   "cell_type": "code",
   "execution_count": 93,
   "id": "fe5314c6",
   "metadata": {},
   "outputs": [],
   "source": [
    "@find_time\n",
    "def print_list(l):\n",
    "    for i in l:\n",
    "        print(i)"
   ]
  },
  {
   "cell_type": "code",
   "execution_count": 96,
   "id": "ddee3099",
   "metadata": {},
   "outputs": [
    {
     "name": "stdout",
     "output_type": "stream",
     "text": [
      "22\n",
      "22\n",
      "3\n",
      "4\n",
      "6\n",
      "3\n",
      "4\n",
      "1323\n",
      "123\n",
      "132\n",
      "123\n",
      "13\n",
      "1233\n",
      "123\n",
      "123\n",
      "13\n",
      "123\n",
      "123\n",
      "1\n",
      "122\n",
      "31\n",
      "23\n",
      "0.0\n"
     ]
    }
   ],
   "source": [
    "print_list([22,22,3,4,6,3,4,1323,123,132,123,13,1233,123,123,13,123,123,1,122,31,23])"
   ]
  },
  {
   "cell_type": "code",
   "execution_count": 103,
   "id": "4889984d",
   "metadata": {},
   "outputs": [],
   "source": [
    "import logging\n",
    "def log_fun(func):\n",
    "    def log_inner(*args):\n",
    "        logging.basicConfig(filename=\"tesst11.log\",level=logging.INFO)\n",
    "        logging.info(\"this is the a start of my func\")\n",
    "        func(*args)\n",
    "        logging.info(\"this is the a end of my func\")\n",
    "    return log_inner"
   ]
  },
  {
   "cell_type": "code",
   "execution_count": 104,
   "id": "c1682f1b",
   "metadata": {},
   "outputs": [],
   "source": [
    "@log_fun\n",
    "def print_list(l):\n",
    "    for i in l:\n",
    "        print(i)"
   ]
  },
  {
   "cell_type": "code",
   "execution_count": 105,
   "id": "f44bfcf0",
   "metadata": {},
   "outputs": [
    {
     "name": "stdout",
     "output_type": "stream",
     "text": [
      "22\n",
      "22\n",
      "3\n",
      "4\n",
      "6\n",
      "3\n",
      "4\n",
      "1323\n",
      "123\n",
      "132\n",
      "123\n",
      "13\n",
      "1233\n",
      "123\n",
      "123\n",
      "13\n",
      "123\n",
      "123\n",
      "1\n",
      "122\n",
      "31\n",
      "23\n"
     ]
    }
   ],
   "source": [
    "print_list([22,22,3,4,6,3,4,1323,123,132,123,13,1233,123,123,13,123,123,1,122,31,23])"
   ]
  },
  {
   "cell_type": "code",
   "execution_count": 107,
   "id": "e6a711e0",
   "metadata": {},
   "outputs": [],
   "source": [
    "@find_time#decorator chaining\n",
    "@log_fun\n",
    "def print_list(l):\n",
    "    for i in l:\n",
    "        print(i)"
   ]
  },
  {
   "cell_type": "code",
   "execution_count": 109,
   "id": "9fede2c6",
   "metadata": {},
   "outputs": [
    {
     "name": "stdout",
     "output_type": "stream",
     "text": [
      "22\n",
      "22\n",
      "3\n",
      "4\n",
      "6\n",
      "3\n",
      "4\n",
      "1323\n",
      "123\n",
      "132\n",
      "123\n",
      "0.007656574249267578\n"
     ]
    }
   ],
   "source": [
    "print_list([22,22,3,4,6,3,4,1323,123,132,123])"
   ]
  },
  {
   "cell_type": "code",
   "execution_count": 126,
   "id": "c6d24d54",
   "metadata": {},
   "outputs": [],
   "source": [
    "class sudh:\n",
    "    def __init__(self,subject):\n",
    "        self.__subject=subject"
   ]
  },
  {
   "cell_type": "code",
   "execution_count": 127,
   "id": "3ac99937",
   "metadata": {},
   "outputs": [],
   "source": [
    "s1=sudh(\"data science\")"
   ]
  },
  {
   "cell_type": "code",
   "execution_count": 129,
   "id": "292350bf",
   "metadata": {},
   "outputs": [
    {
     "ename": "AttributeError",
     "evalue": "'sudh' object has no attribute '__subject'",
     "output_type": "error",
     "traceback": [
      "\u001b[1;31m---------------------------------------------------------------------------\u001b[0m",
      "\u001b[1;31mAttributeError\u001b[0m                            Traceback (most recent call last)",
      "Cell \u001b[1;32mIn[129], line 1\u001b[0m\n\u001b[1;32m----> 1\u001b[0m s1\u001b[38;5;241m.\u001b[39m__subject\n",
      "\u001b[1;31mAttributeError\u001b[0m: 'sudh' object has no attribute '__subject'"
     ]
    }
   ],
   "source": [
    "s1.__subject"
   ]
  },
  {
   "cell_type": "code",
   "execution_count": 130,
   "id": "b529b9d4",
   "metadata": {},
   "outputs": [
    {
     "data": {
      "text/plain": [
       "'data science'"
      ]
     },
     "execution_count": 130,
     "metadata": {},
     "output_type": "execute_result"
    }
   ],
   "source": [
    "s1._sudh__subject"
   ]
  },
  {
   "cell_type": "code",
   "execution_count": 131,
   "id": "7f59f688",
   "metadata": {},
   "outputs": [],
   "source": [
    "s1._sudh__subject=\"Big DAta\""
   ]
  },
  {
   "cell_type": "code",
   "execution_count": 132,
   "id": "67a4d188",
   "metadata": {},
   "outputs": [
    {
     "data": {
      "text/plain": [
       "'Big DAta'"
      ]
     },
     "execution_count": 132,
     "metadata": {},
     "output_type": "execute_result"
    }
   ],
   "source": [
    "s1._sudh__subject"
   ]
  },
  {
   "cell_type": "code",
   "execution_count": 139,
   "id": "7b6cbb67",
   "metadata": {},
   "outputs": [],
   "source": [
    "class sudh:\n",
    "    def __init__(self,subject):\n",
    "        self.__subject=subject\n",
    "        \n",
    "    @property\n",
    "    def subject1(self):\n",
    "        return self.__subject\n",
    "    \n",
    "    @subject1.setter#thiis fun allow to set a data\n",
    "    def subject1(self,subject):\n",
    "        self.__subject=subject\n",
    "    \n",
    "    @subject1.getter#this fun allows to get a data \n",
    "    def subject1(self):\n",
    "        return self.__subject\n",
    "    "
   ]
  },
  {
   "cell_type": "code",
   "execution_count": 142,
   "id": "9f88b107",
   "metadata": {},
   "outputs": [],
   "source": [
    "\n",
    "s2=sudh(\"data analytics\")"
   ]
  },
  {
   "cell_type": "code",
   "execution_count": 143,
   "id": "226573d1",
   "metadata": {},
   "outputs": [
    {
     "data": {
      "text/plain": [
       "'data analytics'"
      ]
     },
     "execution_count": 143,
     "metadata": {},
     "output_type": "execute_result"
    }
   ],
   "source": [
    "s2.subject1"
   ]
  },
  {
   "cell_type": "code",
   "execution_count": 136,
   "id": "21bcee53",
   "metadata": {},
   "outputs": [],
   "source": [
    "#we can not access the private variable of class it only access throught the mention the class name first\n",
    "#then give the name of private variable"
   ]
  },
  {
   "cell_type": "code",
   "execution_count": 144,
   "id": "fc74d73e",
   "metadata": {},
   "outputs": [],
   "source": [
    "s2.subject1=\"blockchain\""
   ]
  },
  {
   "cell_type": "code",
   "execution_count": 145,
   "id": "6a52471c",
   "metadata": {},
   "outputs": [
    {
     "data": {
      "text/plain": [
       "'blockchain'"
      ]
     },
     "execution_count": 145,
     "metadata": {},
     "output_type": "execute_result"
    }
   ],
   "source": [
    "s2.subject1"
   ]
  },
  {
   "cell_type": "code",
   "execution_count": null,
   "id": "a5b1aa37",
   "metadata": {},
   "outputs": [],
   "source": []
  }
 ],
 "metadata": {
  "kernelspec": {
   "display_name": "Python 3 (ipykernel)",
   "language": "python",
   "name": "python3"
  },
  "language_info": {
   "codemirror_mode": {
    "name": "ipython",
    "version": 3
   },
   "file_extension": ".py",
   "mimetype": "text/x-python",
   "name": "python",
   "nbconvert_exporter": "python",
   "pygments_lexer": "ipython3",
   "version": "3.11.5"
  }
 },
 "nbformat": 4,
 "nbformat_minor": 5
}
