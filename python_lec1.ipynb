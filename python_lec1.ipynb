{
 "cells": [
  {
   "cell_type": "code",
   "execution_count": 1,
   "id": "5c63ec35",
   "metadata": {},
   "outputs": [
    {
     "data": {
      "text/plain": [
       "['i', 'love', 'python']"
      ]
     },
     "execution_count": 1,
     "metadata": {},
     "output_type": "execute_result"
    }
   ],
   "source": [
    "a=\"i love python\"\n",
    "a.split()"
   ]
  },
  {
   "cell_type": "code",
   "execution_count": 4,
   "id": "df352c5b",
   "metadata": {},
   "outputs": [
    {
     "name": "stdout",
     "output_type": "stream",
     "text": [
      "Enter a 3 word message:-Lalit Ganesh Borase\n"
     ]
    }
   ],
   "source": [
    "x=input(\"Enter a 3 word message:-\")"
   ]
  },
  {
   "cell_type": "code",
   "execution_count": 5,
   "id": "03dddd03",
   "metadata": {},
   "outputs": [
    {
     "name": "stdout",
     "output_type": "stream",
     "text": [
      "Lalit Ganesh Borase\n"
     ]
    }
   ],
   "source": [
    "word1,word2,word3=x.split()\n",
    "print(word1,word2,word3)"
   ]
  },
  {
   "cell_type": "code",
   "execution_count": 7,
   "id": "2e178c0b",
   "metadata": {},
   "outputs": [
    {
     "name": "stdout",
     "output_type": "stream",
     "text": [
      "Enter a 1st Number10\n",
      "Enter a 2nd Number100\n",
      "110\n"
     ]
    }
   ],
   "source": [
    "x=int(input(\"Enter a 1st Number\"))\n",
    "y=int(input(\"Enter a 2nd Number\"))\n",
    "print(x+y)"
   ]
  },
  {
   "cell_type": "code",
   "execution_count": 8,
   "id": "8dd95cee",
   "metadata": {},
   "outputs": [
    {
     "name": "stdout",
     "output_type": "stream",
     "text": [
      "Enter a two Numbers:-12 22\n",
      "34\n"
     ]
    }
   ],
   "source": [
    "x=input(\"Enter a two Numbers:-\")\n",
    "a,b=x.split()\n",
    "print(int(a)+int(b))"
   ]
  },
  {
   "cell_type": "code",
   "execution_count": 1,
   "id": "561405d4",
   "metadata": {},
   "outputs": [
    {
     "name": "stdout",
     "output_type": "stream",
     "text": [
      "enter roll no, name and percentage45 lalit 89\n",
      "45\n",
      "lalit\n",
      "89\n"
     ]
    }
   ],
   "source": [
    "s=input(\"enter roll no, name and percentage\")\n",
    "roll,name,percentage=  s.split()\n",
    "print(roll)\n",
    "print(name)\n",
    "print(percentage)"
   ]
  },
  {
   "cell_type": "code",
   "execution_count": 2,
   "id": "277d8797",
   "metadata": {},
   "outputs": [
    {
     "name": "stdout",
     "output_type": "stream",
     "text": [
      "['A', 'B', 'C', 'D', 'E F']\n"
     ]
    }
   ],
   "source": [
    "s1=\"A B C D E F\"\n",
    "print(s1.split(' ',4))"
   ]
  },
  {
   "cell_type": "code",
   "execution_count": 3,
   "id": "07aa7435",
   "metadata": {},
   "outputs": [
    {
     "name": "stdout",
     "output_type": "stream",
     "text": [
      "['A', 'B', 'C', 'D', 'E', 'F']\n"
     ]
    }
   ],
   "source": [
    "print(s1.split())"
   ]
  },
  {
   "cell_type": "code",
   "execution_count": 4,
   "id": "9fbe93c1",
   "metadata": {},
   "outputs": [
    {
     "name": "stdout",
     "output_type": "stream",
     "text": [
      "['A', 'B C D E F']\n"
     ]
    }
   ],
   "source": [
    "print(s1.split(' ',1))"
   ]
  },
  {
   "cell_type": "code",
   "execution_count": 7,
   "id": "f8941825",
   "metadata": {},
   "outputs": [
    {
     "data": {
      "text/plain": [
       "['Hi', 'Hi', 'Hi@Hi']"
      ]
     },
     "execution_count": 7,
     "metadata": {},
     "output_type": "execute_result"
    }
   ],
   "source": [
    "s1=\"Hi@Hi@Hi@Hi\"\n",
    "s1.split('@',2)"
   ]
  },
  {
   "cell_type": "code",
   "execution_count": 12,
   "id": "786978aa",
   "metadata": {},
   "outputs": [
    {
     "name": "stdout",
     "output_type": "stream",
     "text": [
      "l\n",
      "a\n",
      "l\n",
      "i\n",
      "t\n"
     ]
    }
   ],
   "source": [
    "#break:-end the loop\n",
    "l=\"lalitborase\"\n",
    "for letter in l:\n",
    "    if letter=='b':\n",
    "        break\n",
    "    print(letter)"
   ]
  },
  {
   "cell_type": "code",
   "execution_count": 13,
   "id": "4615ce12",
   "metadata": {},
   "outputs": [
    {
     "name": "stdout",
     "output_type": "stream",
     "text": [
      "1\n",
      "2\n"
     ]
    }
   ],
   "source": [
    "for i in range(1,5):\n",
    "    if i==3:\n",
    "        break\n",
    "    print(i)"
   ]
  },
  {
   "cell_type": "code",
   "execution_count": 14,
   "id": "284bf16a",
   "metadata": {},
   "outputs": [
    {
     "name": "stdout",
     "output_type": "stream",
     "text": [
      "1\n",
      "2\n",
      "3\n",
      "4\n",
      "5\n"
     ]
    }
   ],
   "source": [
    "i=1\n",
    "while i<=10:\n",
    "    print(i)\n",
    "    \n",
    "    if i>=5:\n",
    "        break\n",
    "    i+=1"
   ]
  },
  {
   "cell_type": "code",
   "execution_count": 15,
   "id": "473d5699",
   "metadata": {},
   "outputs": [
    {
     "name": "stdout",
     "output_type": "stream",
     "text": [
      "10\n",
      "20\n",
      "30\n",
      "40\n"
     ]
    }
   ],
   "source": [
    "numbers=[10,20,30,40,50,60]\n",
    "for i in numbers:\n",
    "    if i>=50:\n",
    "        break\n",
    "    print(i)"
   ]
  },
  {
   "cell_type": "code",
   "execution_count": 17,
   "id": "bf077b89",
   "metadata": {},
   "outputs": [
    {
     "name": "stdout",
     "output_type": "stream",
     "text": [
      "H\n",
      "e\n",
      "l\n",
      "l\n",
      "o\n"
     ]
    }
   ],
   "source": [
    "s1=\"Hello, World\"\n",
    "for i in s1:\n",
    "    if i==',':\n",
    "        break\n",
    "    print(i)"
   ]
  },
  {
   "cell_type": "code",
   "execution_count": 20,
   "id": "15dd7a2c",
   "metadata": {},
   "outputs": [
    {
     "name": "stdout",
     "output_type": "stream",
     "text": [
      "H\n",
      "e\n",
      "l\n",
      "l\n",
      "o\n",
      ",\n"
     ]
    }
   ],
   "source": [
    "s1=\"Hello, World\"\n",
    "for i in s1:\n",
    "    print(i)\n",
    "    if i==',':\n",
    "        break\n",
    " "
   ]
  },
  {
   "cell_type": "code",
   "execution_count": 21,
   "id": "fa698209",
   "metadata": {},
   "outputs": [],
   "source": [
    "#continue--it will skip the looop"
   ]
  },
  {
   "cell_type": "code",
   "execution_count": 22,
   "id": "6b982996",
   "metadata": {},
   "outputs": [
    {
     "name": "stdout",
     "output_type": "stream",
     "text": [
      "L\n",
      "a\n",
      "l\n",
      "i\n"
     ]
    }
   ],
   "source": [
    "for letter in \"Lalit\":\n",
    "    if letter =='t':\n",
    "        continue\n",
    "    print(letter)"
   ]
  },
  {
   "cell_type": "code",
   "execution_count": 27,
   "id": "79417370",
   "metadata": {},
   "outputs": [
    {
     "name": "stdout",
     "output_type": "stream",
     "text": [
      "1\n",
      "2\n",
      "4\n",
      "5\n"
     ]
    }
   ],
   "source": [
    "for i in range(1,5):\n",
    "    if i==3:\n",
    "        continue\n",
    "    print(i)"
   ]
  },
  {
   "cell_type": "code",
   "execution_count": 35,
   "id": "7e1371c5",
   "metadata": {},
   "outputs": [
    {
     "name": "stdout",
     "output_type": "stream",
     "text": [
      "1\n",
      "3\n",
      "5\n",
      "7\n",
      "9\n"
     ]
    }
   ],
   "source": [
    "#write a program to print odd numbers from 1 to 10\n",
    "for i in range(1,11):\n",
    "    if i%2==0:\n",
    "        continue\n",
    "    print(i)"
   ]
  },
  {
   "cell_type": "code",
   "execution_count": 42,
   "id": "b0987d15",
   "metadata": {},
   "outputs": [
    {
     "name": "stdout",
     "output_type": "stream",
     "text": [
      "hello\n"
     ]
    }
   ],
   "source": [
    "#pass-\n",
    "n=10\n",
    "if n>110:\n",
    "    pass\n",
    "print(\"hello\")\n"
   ]
  },
  {
   "cell_type": "code",
   "execution_count": 44,
   "id": "61f857e0",
   "metadata": {},
   "outputs": [
    {
     "ename": "SyntaxError",
     "evalue": "incomplete input (2115166931.py, line 1)",
     "output_type": "error",
     "traceback": [
      "\u001b[1;36m  Cell \u001b[1;32mIn[44], line 1\u001b[1;36m\u001b[0m\n\u001b[1;33m    if n>45:\u001b[0m\n\u001b[1;37m            ^\u001b[0m\n\u001b[1;31mSyntaxError\u001b[0m\u001b[1;31m:\u001b[0m incomplete input\n"
     ]
    }
   ],
   "source": [
    "if n>45:"
   ]
  },
  {
   "cell_type": "code",
   "execution_count": 45,
   "id": "fb96f2e1",
   "metadata": {},
   "outputs": [],
   "source": [
    "if n>45:pass"
   ]
  },
  {
   "cell_type": "code",
   "execution_count": 47,
   "id": "798a334d",
   "metadata": {},
   "outputs": [
    {
     "name": "stdout",
     "output_type": "stream",
     "text": [
      "L\n",
      "a\n",
      "l\n",
      "i\n",
      "t\n"
     ]
    }
   ],
   "source": [
    "for letter in \"Lalit\":\n",
    "    if letter =='t':\n",
    "        pass\n",
    "    print(letter)"
   ]
  },
  {
   "cell_type": "code",
   "execution_count": 51,
   "id": "e0ce419c",
   "metadata": {},
   "outputs": [],
   "source": [
    "#functions:it is block of code use for the reusability"
   ]
  },
  {
   "cell_type": "code",
   "execution_count": null,
   "id": "e49289f0",
   "metadata": {},
   "outputs": [],
   "source": [
    "Create a function\n",
    "\n",
    "def functionname(arguments):\n",
    "    #function body\n",
    "    \n",
    "    return\n",
    "-----------------------------\n",
    "call a function\n",
    "\n",
    "functionname()"
   ]
  },
  {
   "cell_type": "code",
   "execution_count": 52,
   "id": "d7bc6748",
   "metadata": {},
   "outputs": [
    {
     "name": "stdout",
     "output_type": "stream",
     "text": [
      "30\n"
     ]
    }
   ],
   "source": [
    "a=10\n",
    "b=20\n",
    "print(a+b)"
   ]
  },
  {
   "cell_type": "code",
   "execution_count": 59,
   "id": "5e274aa7",
   "metadata": {},
   "outputs": [],
   "source": [
    "def additon(a,b):\n",
    "    return a+b\n",
    "\n"
   ]
  },
  {
   "cell_type": "code",
   "execution_count": null,
   "id": "d6e0d4fa",
   "metadata": {},
   "outputs": [],
   "source": [
    "def function_name(arguments):\n",
    "    #function body\n",
    "    return "
   ]
  },
  {
   "cell_type": "code",
   "execution_count": 62,
   "id": "ec676573",
   "metadata": {},
   "outputs": [],
   "source": [
    "def greet():\n",
    "    print(\"Hello World\")"
   ]
  },
  {
   "cell_type": "code",
   "execution_count": 63,
   "id": "655f8222",
   "metadata": {},
   "outputs": [
    {
     "name": "stdout",
     "output_type": "stream",
     "text": [
      "Hello World\n"
     ]
    }
   ],
   "source": [
    "greet()"
   ]
  },
  {
   "cell_type": "code",
   "execution_count": 64,
   "id": "68d946ee",
   "metadata": {},
   "outputs": [],
   "source": [
    "def addnum():\n",
    "    a=100\n",
    "    b=200\n",
    "    c=a+b\n",
    "    print(c)"
   ]
  },
  {
   "cell_type": "code",
   "execution_count": 65,
   "id": "964a7391",
   "metadata": {},
   "outputs": [
    {
     "name": "stdout",
     "output_type": "stream",
     "text": [
      "300\n"
     ]
    }
   ],
   "source": [
    "addnum()"
   ]
  },
  {
   "cell_type": "code",
   "execution_count": 70,
   "id": "84040682",
   "metadata": {},
   "outputs": [],
   "source": [
    "def addnum(a,b):\n",
    "    c=a+b\n",
    "    print(c)"
   ]
  },
  {
   "cell_type": "code",
   "execution_count": 71,
   "id": "d36050c2",
   "metadata": {},
   "outputs": [
    {
     "name": "stdout",
     "output_type": "stream",
     "text": [
      "30\n"
     ]
    }
   ],
   "source": [
    "addnum(10,20)"
   ]
  },
  {
   "cell_type": "code",
   "execution_count": 73,
   "id": "f3d5774f",
   "metadata": {},
   "outputs": [],
   "source": [
    "def addTwoNumbers():\n",
    "    a=int(input(\"Enter a First Number\"))\n",
    "    b=int(input(\"Enter a Second Number\"))\n",
    "    c=a+b\n",
    "    print(c)"
   ]
  },
  {
   "cell_type": "code",
   "execution_count": 74,
   "id": "b73ad65f",
   "metadata": {},
   "outputs": [
    {
     "name": "stdout",
     "output_type": "stream",
     "text": [
      "Enter a First Number10\n",
      "Enter a Second Number20\n",
      "30\n"
     ]
    }
   ],
   "source": [
    "addTwoNumbers()"
   ]
  },
  {
   "cell_type": "code",
   "execution_count": 75,
   "id": "5bd3ce54",
   "metadata": {},
   "outputs": [],
   "source": [
    "def multwonumbers(x,y):\n",
    "    a=x\n",
    "    b=y\n",
    "    c=a*b\n",
    "    print(c)"
   ]
  },
  {
   "cell_type": "code",
   "execution_count": 76,
   "id": "3917fb46",
   "metadata": {},
   "outputs": [
    {
     "ename": "TypeError",
     "evalue": "multwonumbers() missing 2 required positional arguments: 'x' and 'y'",
     "output_type": "error",
     "traceback": [
      "\u001b[1;31m---------------------------------------------------------------------------\u001b[0m",
      "\u001b[1;31mTypeError\u001b[0m                                 Traceback (most recent call last)",
      "Cell \u001b[1;32mIn[76], line 1\u001b[0m\n\u001b[1;32m----> 1\u001b[0m multwonumbers()\n",
      "\u001b[1;31mTypeError\u001b[0m: multwonumbers() missing 2 required positional arguments: 'x' and 'y'"
     ]
    }
   ],
   "source": [
    "multwonumbers()"
   ]
  },
  {
   "cell_type": "code",
   "execution_count": 77,
   "id": "1e18e96d",
   "metadata": {},
   "outputs": [
    {
     "name": "stdout",
     "output_type": "stream",
     "text": [
      "50\n"
     ]
    }
   ],
   "source": [
    "multwonumbers(10,5)"
   ]
  },
  {
   "cell_type": "code",
   "execution_count": 78,
   "id": "8949a0a9",
   "metadata": {},
   "outputs": [],
   "source": [
    "def introduction(name):\n",
    "    print(\"hi\",name)\n"
   ]
  },
  {
   "cell_type": "code",
   "execution_count": 79,
   "id": "bd1c0c9f",
   "metadata": {},
   "outputs": [
    {
     "name": "stdout",
     "output_type": "stream",
     "text": [
      "hi lalit\n"
     ]
    }
   ],
   "source": [
    "introduction(\"lalit\")"
   ]
  },
  {
   "cell_type": "code",
   "execution_count": 80,
   "id": "ab2005e4",
   "metadata": {},
   "outputs": [],
   "source": [
    "def concatfnamelname(fname,lname):\n",
    "    print(fname+lname)\n"
   ]
  },
  {
   "cell_type": "code",
   "execution_count": 82,
   "id": "47555980",
   "metadata": {},
   "outputs": [
    {
     "name": "stdout",
     "output_type": "stream",
     "text": [
      "pwskills\n"
     ]
    }
   ],
   "source": [
    "concatfnamelname(\"pw\",\"skills\")"
   ]
  },
  {
   "cell_type": "code",
   "execution_count": 88,
   "id": "4e85c45d",
   "metadata": {},
   "outputs": [],
   "source": [
    "def absvalue(n):\n",
    "    if n>0:\n",
    "        print(n)\n",
    "    else:\n",
    "        print(-n)"
   ]
  },
  {
   "cell_type": "code",
   "execution_count": 90,
   "id": "a318ce3a",
   "metadata": {},
   "outputs": [
    {
     "name": "stdout",
     "output_type": "stream",
     "text": [
      "12\n"
     ]
    }
   ],
   "source": [
    "absvalue(-12)"
   ]
  },
  {
   "cell_type": "code",
   "execution_count": null,
   "id": "bb55c3bb",
   "metadata": {},
   "outputs": [],
   "source": [
    "#print does not store\n",
    "#return is store the value"
   ]
  },
  {
   "cell_type": "code",
   "execution_count": 116,
   "id": "2d91e315",
   "metadata": {},
   "outputs": [],
   "source": [
    "#using return\n",
    "def fullname(a,b):\n",
    "    c=a+b\n",
    "    return(c)"
   ]
  },
  {
   "cell_type": "code",
   "execution_count": 117,
   "id": "0f9940a9",
   "metadata": {},
   "outputs": [],
   "source": [
    "x=fullname(\"lalit \",\"borase\")"
   ]
  },
  {
   "cell_type": "code",
   "execution_count": 118,
   "id": "93d9c6d2",
   "metadata": {},
   "outputs": [
    {
     "data": {
      "text/plain": [
       "str"
      ]
     },
     "execution_count": 118,
     "metadata": {},
     "output_type": "execute_result"
    }
   ],
   "source": [
    "type(x)\n"
   ]
  },
  {
   "cell_type": "code",
   "execution_count": 123,
   "id": "14c398cb",
   "metadata": {},
   "outputs": [],
   "source": [
    "#using print\n",
    "def fullname(a,b):\n",
    "    c=a+b\n",
    "    print(c)\n"
   ]
  },
  {
   "cell_type": "code",
   "execution_count": 124,
   "id": "b0c10d6b",
   "metadata": {},
   "outputs": [
    {
     "name": "stdout",
     "output_type": "stream",
     "text": [
      "lalit borase\n"
     ]
    }
   ],
   "source": [
    "x=fullname(\"lalit \",\"borase\")"
   ]
  },
  {
   "cell_type": "code",
   "execution_count": 125,
   "id": "3fd66fd9",
   "metadata": {},
   "outputs": [],
   "source": [
    "x"
   ]
  },
  {
   "cell_type": "code",
   "execution_count": 126,
   "id": "029f798a",
   "metadata": {},
   "outputs": [
    {
     "data": {
      "text/plain": [
       "NoneType"
      ]
     },
     "execution_count": 126,
     "metadata": {},
     "output_type": "execute_result"
    }
   ],
   "source": [
    "type(x)"
   ]
  },
  {
   "cell_type": "code",
   "execution_count": 120,
   "id": "f37a6a03",
   "metadata": {},
   "outputs": [],
   "source": [
    "\n",
    "#only return\n",
    "def fullname(a,b):\n",
    "    c=a+b\n",
    "    return\n"
   ]
  },
  {
   "cell_type": "code",
   "execution_count": 121,
   "id": "75ab97ae",
   "metadata": {},
   "outputs": [],
   "source": [
    "x=fullname(\"lalit \",\"borase\")"
   ]
  },
  {
   "cell_type": "code",
   "execution_count": 122,
   "id": "9ce6e814",
   "metadata": {},
   "outputs": [
    {
     "data": {
      "text/plain": [
       "NoneType"
      ]
     },
     "execution_count": 122,
     "metadata": {},
     "output_type": "execute_result"
    }
   ],
   "source": [
    "type(x)"
   ]
  },
  {
   "cell_type": "code",
   "execution_count": 128,
   "id": "c8280a10",
   "metadata": {},
   "outputs": [],
   "source": [
    "def addition(a,b):\n",
    "    c=a+b\n",
    "    return(c)\n",
    "def substraction(a,b):\n",
    "    c=a-b\n",
    "    return(c)\n",
    "def product(a,b):\n",
    "    c=a*b\n",
    "    return(c)\n",
    "def division(a,b):\n",
    "    c=a/b\n",
    "    return(c)"
   ]
  },
  {
   "cell_type": "code",
   "execution_count": 137,
   "id": "b553e870",
   "metadata": {},
   "outputs": [
    {
     "name": "stdout",
     "output_type": "stream",
     "text": [
      "enter a 1st Number:-8\n",
      "enter a 2nd Number:-2\n",
      "10 <class 'int'>\n"
     ]
    }
   ],
   "source": [
    "a=int(input(\"enter a 1st Number:-\"))\n",
    "b=int(input(\"enter a 2nd Number:-\"))\n",
    "x=addition(a,b)\n",
    "print(x,type(x))"
   ]
  },
  {
   "cell_type": "code",
   "execution_count": 138,
   "id": "4ae5166c",
   "metadata": {},
   "outputs": [],
   "source": [
    "def circle_area(r):\n",
    "    area=3.14*r**2\n",
    "    return(area)"
   ]
  },
  {
   "cell_type": "code",
   "execution_count": 140,
   "id": "4e04e262",
   "metadata": {},
   "outputs": [
    {
     "name": "stdout",
     "output_type": "stream",
     "text": [
      "Enter a radius5\n",
      "Area of circle is: 78.5\n"
     ]
    }
   ],
   "source": [
    "r=int(input(\"Enter a radius\"))\n",
    "x=circle_area(r)\n",
    "print(\"Area of circle is:\",x)"
   ]
  },
  {
   "cell_type": "code",
   "execution_count": 142,
   "id": "c174c548",
   "metadata": {},
   "outputs": [
    {
     "name": "stdout",
     "output_type": "stream",
     "text": [
      "Enter a base:-3\n",
      "Enter a height:-2\n",
      "Area of Triangle 3.0\n"
     ]
    }
   ],
   "source": [
    "def triangle_area(b,h):\n",
    "    area=0.5*b*h\n",
    "    return(area)\n",
    "b=int(input(\"Enter a base:-\"))\n",
    "h=int(input(\"Enter a height:-\"))\n",
    "x=triangle_area(b,h)\n",
    "print(\"Area of Triangle\",x)"
   ]
  },
  {
   "cell_type": "code",
   "execution_count": 143,
   "id": "111c292e",
   "metadata": {},
   "outputs": [],
   "source": [
    "#questions\n"
   ]
  },
  {
   "cell_type": "code",
   "execution_count": 144,
   "id": "a9cdd12b",
   "metadata": {},
   "outputs": [
    {
     "name": "stdout",
     "output_type": "stream",
     "text": [
      "1\n",
      "2\n",
      "3\n",
      "4\n",
      "5\n"
     ]
    }
   ],
   "source": [
    "#1.print the five pos intergers in asc order with one number in each line\n",
    "for i in range(1,6):\n",
    "    print(i)"
   ]
  },
  {
   "cell_type": "code",
   "execution_count": 151,
   "id": "8f33272e",
   "metadata": {},
   "outputs": [
    {
     "name": "stdout",
     "output_type": "stream",
     "text": [
      "1\n",
      "2\n",
      "3\n",
      "4\n",
      "5\n"
     ]
    }
   ],
   "source": [
    "i=1\n",
    "while i<=5:\n",
    "    print(i)\n",
    "    i+=1\n",
    "    "
   ]
  },
  {
   "cell_type": "code",
   "execution_count": 153,
   "id": "782b8fe0",
   "metadata": {},
   "outputs": [
    {
     "name": "stdout",
     "output_type": "stream",
     "text": [
      "*\n",
      "**\n",
      "***\n",
      "****\n",
      "*****\n"
     ]
    }
   ],
   "source": [
    "#que2:-print the pattern\n",
    "for i in range(1,6):\n",
    "    print('*'*i)"
   ]
  },
  {
   "cell_type": "code",
   "execution_count": 155,
   "id": "eea0ee00",
   "metadata": {},
   "outputs": [
    {
     "data": {
      "text/plain": [
       "25"
      ]
     },
     "execution_count": 155,
     "metadata": {},
     "output_type": "execute_result"
    }
   ],
   "source": [
    "#que3:-accept interger as input and print square as output\n",
    "def squre_num(x):\n",
    "    return(x**2)\n",
    "squre_num(5)"
   ]
  },
  {
   "cell_type": "code",
   "execution_count": 158,
   "id": "180bd9b6",
   "metadata": {},
   "outputs": [
    {
     "name": "stdout",
     "output_type": "stream",
     "text": [
      "Enter a 1st Number:-90\n",
      "Enter a 2nd Number:-5\n"
     ]
    },
    {
     "data": {
      "text/plain": [
       "95"
      ]
     },
     "execution_count": 158,
     "metadata": {},
     "output_type": "execute_result"
    }
   ],
   "source": [
    "#que4:accept two int and print addition\n",
    "def addtion(a,b):\n",
    "    return(a+b)\n",
    "x=int(input(\"Enter a 1st Number:-\"))\n",
    "y=int(input(\"Enter a 2nd Number:-\"))\n",
    "addtion(x,y)"
   ]
  },
  {
   "cell_type": "code",
   "execution_count": 5,
   "id": "b913b417",
   "metadata": {},
   "outputs": [
    {
     "name": "stdout",
     "output_type": "stream",
     "text": [
      "Enter a Two words:lalit borase\n",
      "lalit   borase\n"
     ]
    }
   ],
   "source": [
    "#que5:-accept two words as input and print the two words after adding a space between them\n",
    "word1,word2=input(\"Enter a Two words:\").split()\n",
    "print(word1,' ',word2)\n",
    "\n"
   ]
  },
  {
   "cell_type": "code",
   "execution_count": 6,
   "id": "47c87f5b",
   "metadata": {},
   "outputs": [],
   "source": [
    "#create a py program that includes a user-defined function called print_even_number().\n",
    "#the function should prompt the user to set a range limit before printing all even numbers upto that limit"
   ]
  },
  {
   "cell_type": "code",
   "execution_count": 19,
   "id": "bab00874",
   "metadata": {},
   "outputs": [],
   "source": [
    "def print_even_number():\n",
    "    limit1=int(input(\"Enter a Starting Limit\"))\n",
    "    limit2=int(input(\"Enter a Ending Limit\"))\n",
    "    for i in range(limit1,limit2+1):\n",
    "        if i%2==1:\n",
    "            continue\n",
    "        print(i,end=',')"
   ]
  },
  {
   "cell_type": "code",
   "execution_count": 20,
   "id": "9ac95969",
   "metadata": {},
   "outputs": [
    {
     "name": "stdout",
     "output_type": "stream",
     "text": [
      "Enter a Starting Limit2\n",
      "Enter a Ending Limit50\n",
      "2,4,6,8,10,12,14,16,18,20,22,24,26,28,30,32,34,36,38,40,42,44,46,48,50,"
     ]
    }
   ],
   "source": [
    "print_even_number()"
   ]
  },
  {
   "cell_type": "code",
   "execution_count": null,
   "id": "879da264",
   "metadata": {},
   "outputs": [],
   "source": [
    "13.Accept 3 positive intergers as input and check if they form the sides of aright triangle.print yes if they form one,\n",
    "and no is they do not.The input will have three lines,with one interger on each line.The output should be a single line containing\n",
    "one of these two strings:YES or NO"
   ]
  },
  {
   "cell_type": "code",
   "execution_count": 24,
   "id": "e15f77c3",
   "metadata": {},
   "outputs": [
    {
     "name": "stdout",
     "output_type": "stream",
     "text": [
      "Enter a 1st side:-3\n",
      "Enter a 2nd side:-4\n",
      "Enter a 3rd side:-5\n",
      "It is right angle triagle\n"
     ]
    }
   ],
   "source": [
    "def pythagoras(x,y,z):\n",
    "    if x**2==y**2 + z**2 or y**2==x**2 + z**2 or z**2==x**2 + y**2:\n",
    "        print(\"It is right angle triagle\")\n",
    "    else:\n",
    "        print(\"It is not right angle trianglle\")\n",
    "a=int(input(\"Enter a 1st side:-\"))\n",
    "b=int(input(\"Enter a 2nd side:-\"))\n",
    "c=int(input(\"Enter a 3rd side:-\"))\n",
    "pythagoras(a,b,c)\n",
    "        \n"
   ]
  },
  {
   "cell_type": "code",
   "execution_count": null,
   "id": "8978e458",
   "metadata": {},
   "outputs": [],
   "source": [
    "#17.Accept a string as input.Your task is to determine if the input string is a valid password or not.for a string to be a valid\n",
    "#password,it must satisfy all the conditions given below:\n",
    "1.It should have at least 8 and at most 32 chars\n",
    "2.it should starts with an uppercase or lowercase letter\n",
    "3.it should not have any of these chars: / \\ = ' \" \n",
    "4.it should not have spaces\n",
    "It should have any char that is not mentioned in the list of chars to be avoided (point 3 and 4.)\n",
    "OUTPUT:-Output True if the string forms a valid password and false otherwise"
   ]
  },
  {
   "cell_type": "code",
   "execution_count": 4,
   "id": "6b2fa2e7",
   "metadata": {},
   "outputs": [],
   "source": [
    "def check_password(pwd):\n",
    "    if 8<=len(pwd)<=32 and pwd[0].isalpha and all(char not in pwd for char in[\" \",\"'\",\"/\",\"=\",'\"','\\\\',]):\n",
    "        return True\n",
    "    else:\n",
    "        return False\n",
    "        "
   ]
  },
  {
   "cell_type": "code",
   "execution_count": 5,
   "id": "ae0f70ab",
   "metadata": {},
   "outputs": [
    {
     "data": {
      "text/plain": [
       "False"
      ]
     },
     "execution_count": 5,
     "metadata": {},
     "output_type": "execute_result"
    }
   ],
   "source": [
    "check_password(\"lalit\")"
   ]
  },
  {
   "cell_type": "code",
   "execution_count": 6,
   "id": "ceeaae82",
   "metadata": {},
   "outputs": [
    {
     "data": {
      "text/plain": [
       "True"
      ]
     },
     "execution_count": 6,
     "metadata": {},
     "output_type": "execute_result"
    }
   ],
   "source": [
    "check_password(\"inc12Ec56\")"
   ]
  },
  {
   "cell_type": "code",
   "execution_count": 7,
   "id": "cd3490e2",
   "metadata": {},
   "outputs": [
    {
     "data": {
      "text/plain": [
       "True"
      ]
     },
     "execution_count": 7,
     "metadata": {},
     "output_type": "execute_result"
    }
   ],
   "source": [
    "check_password(\"lalitborase\")"
   ]
  },
  {
   "cell_type": "code",
   "execution_count": 8,
   "id": "0405ffeb",
   "metadata": {},
   "outputs": [
    {
     "data": {
      "text/plain": [
       "False"
      ]
     },
     "execution_count": 8,
     "metadata": {},
     "output_type": "execute_result"
    }
   ],
   "source": [
    "check_password(\"lalit \")"
   ]
  },
  {
   "cell_type": "code",
   "execution_count": null,
   "id": "6c9e5a6b",
   "metadata": {},
   "outputs": [],
   "source": []
  }
 ],
 "metadata": {
  "kernelspec": {
   "display_name": "Python 3 (ipykernel)",
   "language": "python",
   "name": "python3"
  },
  "language_info": {
   "codemirror_mode": {
    "name": "ipython",
    "version": 3
   },
   "file_extension": ".py",
   "mimetype": "text/x-python",
   "name": "python",
   "nbconvert_exporter": "python",
   "pygments_lexer": "ipython3",
   "version": "3.11.5"
  }
 },
 "nbformat": 4,
 "nbformat_minor": 5
}
